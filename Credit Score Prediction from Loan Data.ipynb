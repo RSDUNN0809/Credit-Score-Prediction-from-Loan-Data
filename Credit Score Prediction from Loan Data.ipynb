{
 "cells": [
  {
   "cell_type": "markdown",
   "metadata": {
    "id": "pab6UU6fnhL4"
   },
   "source": [
    "# Exploratory Data Analysis & PreProcessing"
   ]
  },
  {
   "cell_type": "markdown",
   "metadata": {
    "id": "9C83xHZ8njWB"
   },
   "source": [
    "## Load Packages and Libraries"
   ]
  },
  {
   "cell_type": "code",
   "execution_count": null,
   "metadata": {
    "id": "M_6akPbWeEzJ"
   },
   "outputs": [],
   "source": [
    "%matplotlib inline\n",
    "import pandas as pd\n",
    "import numpy as np\n",
    "#import json\n",
    "import os\n",
    "import matplotlib.pyplot as plt\n",
    "import seaborn as sns; sns.set()\n",
    "import matplotlib as mpl\n",
    "import matplotlib.pyplot as plt\n",
    "import random\n",
    "import statsmodels.tools.tools as stattools\n",
    "import statsmodels.api as sm\n",
    "from scipy import stats\n",
    "from scipy.stats import mode\n",
    "#import json\n",
    "#!pip uninstall scikit-learn -y\n",
    "#!pip install -U scikit-learn\n",
    "\n",
    "from sklearn import metrics\n",
    "from sklearn.preprocessing import OneHotEncoder, OrdinalEncoder, LabelEncoder, StandardScaler, Normalizer\n",
    "from sklearn.compose import ColumnTransformer\n",
    "from sklearn.impute import SimpleImputer\n",
    "from sklearn import preprocessing\n",
    "from sklearn.model_selection import cross_val_score, train_test_split, StratifiedKFold\n",
    "from sklearn.metrics import f1_score\n",
    "from sklearn.metrics import confusion_matrix, accuracy_score, plot_confusion_matrix, classification_report\n",
    "from sklearn.pipeline import make_pipeline, Pipeline\n",
    "from sklearn.feature_extraction.text import TfidfVectorizer\n",
    "from sklearn.feature_selection import SelectKBest, chi2\n",
    "from sklearn.linear_model import Perceptron\n",
    "from sklearn.impute import KNNImputer\n",
    "#from sklearn.feature_selection import VarianceThreshold\n",
    "from sklearn.neighbors import KNeighborsClassifier\n",
    "from sklearn.tree import DecisionTreeClassifier\n",
    "#from sklearn import tree"
   ]
  },
  {
   "cell_type": "markdown",
   "metadata": {
    "id": "lJVUima6nrUP"
   },
   "source": [
    "## Data Upload"
   ]
  },
  {
   "cell_type": "code",
   "execution_count": null,
   "metadata": {
    "colab": {
     "base_uri": "https://localhost:8080/"
    },
    "id": "K-gg7j1ZDJc4",
    "outputId": "f71748e0-3738-4a9c-b323-7ffc974d02c1"
   },
   "outputs": [
    {
     "name": "stdout",
     "output_type": "stream",
     "text": [
      "Drive already mounted at /content/drive; to attempt to forcibly remount, call drive.mount(\"/content/drive\", force_remount=True).\n"
     ]
    }
   ],
   "source": [
    "#credit_df.head(20)\n",
    "# mount google drive for data upload\n",
    "from google.colab import drive\n",
    "drive.mount('/content/drive')"
   ]
  },
  {
   "cell_type": "code",
   "execution_count": null,
   "metadata": {
    "colab": {
     "base_uri": "https://localhost:8080/"
    },
    "id": "Mf12EU_0DVOs",
    "outputId": "4b81be91-0784-4212-9870-3d934aa1e9cd"
   },
   "outputs": [
    {
     "name": "stderr",
     "output_type": "stream",
     "text": [
      "/usr/local/lib/python3.7/dist-packages/IPython/core/interactiveshell.py:2882: DtypeWarning: Columns (26) have mixed types.Specify dtype option on import or set low_memory=False.\n",
      "  exec(code_obj, self.user_global_ns, self.user_ns)\n"
     ]
    }
   ],
   "source": [
    "#credit_df = pd.read_csv('MyDrive/ADS504 - Final/train.csv')\n",
    "raw_df = pd.read_csv('/content/drive/MyDrive/ADS504 - Final/train.csv', header=0)\n",
    "credit_df = raw_df"
   ]
  },
  {
   "cell_type": "markdown",
   "metadata": {
    "id": "ZBoRdRqunx9O"
   },
   "source": [
    "## Data Summary Statistics"
   ]
  },
  {
   "cell_type": "code",
   "execution_count": null,
   "metadata": {
    "colab": {
     "base_uri": "https://localhost:8080/"
    },
    "id": "bR9u7J2NxZei",
    "outputId": "3479dc45-bf14-4d13-f51f-35d16a13fa11"
   },
   "outputs": [
    {
     "data": {
      "text/plain": [
       "(100000, 28)"
      ]
     },
     "execution_count": 205,
     "metadata": {},
     "output_type": "execute_result"
    }
   ],
   "source": [
    "credit_df.shape"
   ]
  },
  {
   "cell_type": "markdown",
   "metadata": {
    "id": "9skU_xspxl9u"
   },
   "source": [
    "## Feature Engineering"
   ]
  },
  {
   "cell_type": "markdown",
   "metadata": {
    "id": "TD3lySiQxoMr"
   },
   "source": [
    "### Convert Feature From String to Numeric"
   ]
  },
  {
   "cell_type": "code",
   "execution_count": null,
   "metadata": {
    "colab": {
     "base_uri": "https://localhost:8080/",
     "height": 275
    },
    "id": "lTHQxhH1xlOI",
    "outputId": "594bd84d-d965-4e50-8e27-52e23f1cda73"
   },
   "outputs": [
    {
     "data": {
      "text/html": [
       "\n",
       "  <div id=\"df-434f189b-15d9-4b35-a82f-67d6ec77c632\">\n",
       "    <div class=\"colab-df-container\">\n",
       "      <div>\n",
       "<style scoped>\n",
       "    .dataframe tbody tr th:only-of-type {\n",
       "        vertical-align: middle;\n",
       "    }\n",
       "\n",
       "    .dataframe tbody tr th {\n",
       "        vertical-align: top;\n",
       "    }\n",
       "\n",
       "    .dataframe thead th {\n",
       "        text-align: right;\n",
       "    }\n",
       "</style>\n",
       "<table border=\"1\" class=\"dataframe\">\n",
       "  <thead>\n",
       "    <tr style=\"text-align: right;\">\n",
       "      <th></th>\n",
       "      <th>ID</th>\n",
       "      <th>Customer_ID</th>\n",
       "      <th>Month</th>\n",
       "      <th>Name</th>\n",
       "      <th>Age</th>\n",
       "      <th>SSN</th>\n",
       "      <th>Occupation</th>\n",
       "      <th>Annual_Income</th>\n",
       "      <th>Monthly_Inhand_Salary</th>\n",
       "      <th>Num_Bank_Accounts</th>\n",
       "      <th>...</th>\n",
       "      <th>Credit_Mix</th>\n",
       "      <th>Outstanding_Debt</th>\n",
       "      <th>Credit_Utilization_Ratio</th>\n",
       "      <th>Payment_of_Min_Amount</th>\n",
       "      <th>Total_EMI_per_month</th>\n",
       "      <th>Amount_invested_monthly</th>\n",
       "      <th>Payment_Behaviour</th>\n",
       "      <th>Monthly_Balance</th>\n",
       "      <th>Credit_Score</th>\n",
       "      <th>Credit_Age_in_Years</th>\n",
       "    </tr>\n",
       "  </thead>\n",
       "  <tbody>\n",
       "    <tr>\n",
       "      <th>0</th>\n",
       "      <td>0x1602</td>\n",
       "      <td>CUS_0xd40</td>\n",
       "      <td>January</td>\n",
       "      <td>Aaron Maashoh</td>\n",
       "      <td>23</td>\n",
       "      <td>821-00-0265</td>\n",
       "      <td>Scientist</td>\n",
       "      <td>19114.12</td>\n",
       "      <td>1824.843333</td>\n",
       "      <td>3</td>\n",
       "      <td>...</td>\n",
       "      <td>_</td>\n",
       "      <td>809.98</td>\n",
       "      <td>26.82262</td>\n",
       "      <td>No</td>\n",
       "      <td>49.574949</td>\n",
       "      <td>80.41529543900253</td>\n",
       "      <td>High_spent_Small_value_payments</td>\n",
       "      <td>312.49408867943663</td>\n",
       "      <td>Good</td>\n",
       "      <td>22.0</td>\n",
       "    </tr>\n",
       "    <tr>\n",
       "      <th>1</th>\n",
       "      <td>0x1603</td>\n",
       "      <td>CUS_0xd40</td>\n",
       "      <td>February</td>\n",
       "      <td>Aaron Maashoh</td>\n",
       "      <td>23</td>\n",
       "      <td>821-00-0265</td>\n",
       "      <td>Scientist</td>\n",
       "      <td>19114.12</td>\n",
       "      <td>NaN</td>\n",
       "      <td>3</td>\n",
       "      <td>...</td>\n",
       "      <td>Good</td>\n",
       "      <td>809.98</td>\n",
       "      <td>31.94496</td>\n",
       "      <td>No</td>\n",
       "      <td>49.574949</td>\n",
       "      <td>118.28022162236736</td>\n",
       "      <td>Low_spent_Large_value_payments</td>\n",
       "      <td>284.62916249607184</td>\n",
       "      <td>Good</td>\n",
       "      <td>NaN</td>\n",
       "    </tr>\n",
       "  </tbody>\n",
       "</table>\n",
       "<p>2 rows × 28 columns</p>\n",
       "</div>\n",
       "      <button class=\"colab-df-convert\" onclick=\"convertToInteractive('df-434f189b-15d9-4b35-a82f-67d6ec77c632')\"\n",
       "              title=\"Convert this dataframe to an interactive table.\"\n",
       "              style=\"display:none;\">\n",
       "        \n",
       "  <svg xmlns=\"http://www.w3.org/2000/svg\" height=\"24px\"viewBox=\"0 0 24 24\"\n",
       "       width=\"24px\">\n",
       "    <path d=\"M0 0h24v24H0V0z\" fill=\"none\"/>\n",
       "    <path d=\"M18.56 5.44l.94 2.06.94-2.06 2.06-.94-2.06-.94-.94-2.06-.94 2.06-2.06.94zm-11 1L8.5 8.5l.94-2.06 2.06-.94-2.06-.94L8.5 2.5l-.94 2.06-2.06.94zm10 10l.94 2.06.94-2.06 2.06-.94-2.06-.94-.94-2.06-.94 2.06-2.06.94z\"/><path d=\"M17.41 7.96l-1.37-1.37c-.4-.4-.92-.59-1.43-.59-.52 0-1.04.2-1.43.59L10.3 9.45l-7.72 7.72c-.78.78-.78 2.05 0 2.83L4 21.41c.39.39.9.59 1.41.59.51 0 1.02-.2 1.41-.59l7.78-7.78 2.81-2.81c.8-.78.8-2.07 0-2.86zM5.41 20L4 18.59l7.72-7.72 1.47 1.35L5.41 20z\"/>\n",
       "  </svg>\n",
       "      </button>\n",
       "      \n",
       "  <style>\n",
       "    .colab-df-container {\n",
       "      display:flex;\n",
       "      flex-wrap:wrap;\n",
       "      gap: 12px;\n",
       "    }\n",
       "\n",
       "    .colab-df-convert {\n",
       "      background-color: #E8F0FE;\n",
       "      border: none;\n",
       "      border-radius: 50%;\n",
       "      cursor: pointer;\n",
       "      display: none;\n",
       "      fill: #1967D2;\n",
       "      height: 32px;\n",
       "      padding: 0 0 0 0;\n",
       "      width: 32px;\n",
       "    }\n",
       "\n",
       "    .colab-df-convert:hover {\n",
       "      background-color: #E2EBFA;\n",
       "      box-shadow: 0px 1px 2px rgba(60, 64, 67, 0.3), 0px 1px 3px 1px rgba(60, 64, 67, 0.15);\n",
       "      fill: #174EA6;\n",
       "    }\n",
       "\n",
       "    [theme=dark] .colab-df-convert {\n",
       "      background-color: #3B4455;\n",
       "      fill: #D2E3FC;\n",
       "    }\n",
       "\n",
       "    [theme=dark] .colab-df-convert:hover {\n",
       "      background-color: #434B5C;\n",
       "      box-shadow: 0px 1px 3px 1px rgba(0, 0, 0, 0.15);\n",
       "      filter: drop-shadow(0px 1px 2px rgba(0, 0, 0, 0.3));\n",
       "      fill: #FFFFFF;\n",
       "    }\n",
       "  </style>\n",
       "\n",
       "      <script>\n",
       "        const buttonEl =\n",
       "          document.querySelector('#df-434f189b-15d9-4b35-a82f-67d6ec77c632 button.colab-df-convert');\n",
       "        buttonEl.style.display =\n",
       "          google.colab.kernel.accessAllowed ? 'block' : 'none';\n",
       "\n",
       "        async function convertToInteractive(key) {\n",
       "          const element = document.querySelector('#df-434f189b-15d9-4b35-a82f-67d6ec77c632');\n",
       "          const dataTable =\n",
       "            await google.colab.kernel.invokeFunction('convertToInteractive',\n",
       "                                                     [key], {});\n",
       "          if (!dataTable) return;\n",
       "\n",
       "          const docLinkHtml = 'Like what you see? Visit the ' +\n",
       "            '<a target=\"_blank\" href=https://colab.research.google.com/notebooks/data_table.ipynb>data table notebook</a>'\n",
       "            + ' to learn more about interactive tables.';\n",
       "          element.innerHTML = '';\n",
       "          dataTable['output_type'] = 'display_data';\n",
       "          await google.colab.output.renderOutput(dataTable, element);\n",
       "          const docLink = document.createElement('div');\n",
       "          docLink.innerHTML = docLinkHtml;\n",
       "          element.appendChild(docLink);\n",
       "        }\n",
       "      </script>\n",
       "    </div>\n",
       "  </div>\n",
       "  "
      ],
      "text/plain": [
       "       ID Customer_ID     Month           Name Age          SSN Occupation  \\\n",
       "0  0x1602   CUS_0xd40   January  Aaron Maashoh  23  821-00-0265  Scientist   \n",
       "1  0x1603   CUS_0xd40  February  Aaron Maashoh  23  821-00-0265  Scientist   \n",
       "\n",
       "  Annual_Income  Monthly_Inhand_Salary  Num_Bank_Accounts  ...  Credit_Mix  \\\n",
       "0      19114.12            1824.843333                  3  ...           _   \n",
       "1      19114.12                    NaN                  3  ...        Good   \n",
       "\n",
       "   Outstanding_Debt Credit_Utilization_Ratio Payment_of_Min_Amount  \\\n",
       "0            809.98                 26.82262                    No   \n",
       "1            809.98                 31.94496                    No   \n",
       "\n",
       "   Total_EMI_per_month Amount_invested_monthly  \\\n",
       "0            49.574949       80.41529543900253   \n",
       "1            49.574949      118.28022162236736   \n",
       "\n",
       "                 Payment_Behaviour     Monthly_Balance Credit_Score  \\\n",
       "0  High_spent_Small_value_payments  312.49408867943663         Good   \n",
       "1   Low_spent_Large_value_payments  284.62916249607184         Good   \n",
       "\n",
       "  Credit_Age_in_Years  \n",
       "0                22.0  \n",
       "1                 NaN  \n",
       "\n",
       "[2 rows x 28 columns]"
      ]
     },
     "execution_count": 206,
     "metadata": {},
     "output_type": "execute_result"
    }
   ],
   "source": [
    "# convert \"credit history age\" feature to years\n",
    "def conv_credit_age(x):\n",
    "    if pd.isnull(x):\n",
    "        return x\n",
    "    spt = x.split(' ')\n",
    "    yr = int(spt[0].split('yr')[0])\n",
    "    return (yr)\n",
    "\n",
    "#apply the function and assign to new variable\n",
    "credit_df['Credit_Age_in_Years'] = credit_df['Credit_History_Age'].apply(conv_credit_age)\n",
    "\n",
    "# Added by Susy to have ability to impute missing values using KNNImpute later\n",
    "credit_df['Credit_Age_in_Years']=pd.to_numeric(credit_df['Credit_Age_in_Years'])\n",
    "                                               \n",
    "#delete the previous column for Credit History Age\n",
    "del credit_df['Credit_History_Age']\n",
    "credit_df.head(2)"
   ]
  },
  {
   "cell_type": "markdown",
   "metadata": {
    "id": "3Cw5Ptmx8rp4"
   },
   "source": [
    "#### Data Clean up"
   ]
  },
  {
   "cell_type": "code",
   "execution_count": null,
   "metadata": {
    "id": "1sR-izQAjS9U"
   },
   "outputs": [],
   "source": [
    "# General house-cleaning:\n",
    "\n",
    "# replace non-numeric values with null values\n",
    "credit_df['Amount_invested_monthly']=pd.to_numeric(credit_df['Amount_invested_monthly'], errors='coerce')\n",
    "credit_df['Monthly_Balance']=pd.to_numeric(credit_df['Monthly_Balance'], errors='coerce')\n",
    "\n",
    "# clean invalid Credit_Mix values\n",
    "credit_mix_choices = ('Good', 'Bad', 'Standard')\n",
    "\n",
    "credit_df.loc[~credit_df['Credit_Mix'].isin(credit_mix_choices), 'Credit_Mix'] = np.nan\n",
    "\n",
    "# convert values to category\n",
    "credit_df['Credit_Mix'] = credit_df['Credit_Mix'].astype('category')\n",
    "\n"
   ]
  },
  {
   "cell_type": "code",
   "execution_count": null,
   "metadata": {
    "id": "Xa7wDbKyjkvi"
   },
   "outputs": [],
   "source": [
    "credit_df.loc[~credit_df['Payment_Behaviour'].str.contains('payments'), 'Payment_Behaviour'] = np.nan\n",
    "credit_df['Payment_Behaviour'] = credit_df['Payment_Behaviour'].astype('category')\n",
    "\n",
    "# more specific to test str replacements done before:\n",
    "##credit_df['Payment_Behaviour'] = credit_df['Payment_Behaviour'].replace('!@9#%8', np.NaN)\t\n",
    "##credit_df['Payment_Behaviour'] = credit_df['Payment_Behaviour'].astype('category')"
   ]
  },
  {
   "cell_type": "code",
   "execution_count": null,
   "metadata": {
    "id": "K2psVk-_mAGB"
   },
   "outputs": [],
   "source": [
    "# replace invalid characters\n",
    "# There are a few errors where '_' is at end or beginning of count\n",
    "##credit_df['Num_of_Loan'] = credit_df['Num_of_Loan'].str.replace('_', '')\t\n",
    "\n",
    "credit_df['Num_of_Loan'] = pd.to_numeric(credit_df['Num_of_Loan'].str.replace('_', ''))\n",
    "credit_df['Annual_Income'] = pd.to_numeric(credit_df['Annual_Income'].str.replace('_', ''))\n",
    "credit_df['Num_of_Delayed_Payment'] = pd.to_numeric(credit_df['Num_of_Delayed_Payment'].str.replace('_', ''))\n",
    "credit_df['Outstanding_Debt'] = pd.to_numeric(credit_df['Outstanding_Debt'].str.replace('_', ''))\n",
    "credit_df['Age'] = pd.to_numeric(credit_df['Age'].str.replace('_', ''))\n",
    "\n",
    "credit_df.loc[credit_df['Occupation'].str.contains('_'), 'Occupation'] = 'Other'\n",
    "credit_df['Monthly_Inhand_Salary'] = pd.to_numeric(credit_df['Monthly_Inhand_Salary'])"
   ]
  },
  {
   "cell_type": "code",
   "execution_count": null,
   "metadata": {
    "id": "oL4itZvDmGbn"
   },
   "outputs": [],
   "source": [
    "# Account for unrealistic outliers\n",
    "# These are likely to be some bug in data collection\n",
    "\n",
    "# Number of loans feature\n",
    "credit_df.loc[credit_df[\"Num_of_Loan\"] > 9, \"Num_of_Loan\"] = np.NaN\n",
    "# Replaces negatives with 0\n",
    "credit_df['Num_of_Loan'] = credit_df['Num_of_Loan'].apply(lambda x : x if x > 0 else 0)\n",
    "\n",
    "# Age feature\n",
    "credit_df.loc[credit_df[\"Age\"] > 120, \"Age\"] = 0\n",
    "credit_df.loc[credit_df[\"Age\"] < 18, \"Age\"] = 0\n",
    "credit_df['Age'] = credit_df['Age'].replace(0, np.NaN)"
   ]
  },
  {
   "cell_type": "markdown",
   "metadata": {
    "id": "fmUuVkokmeF7"
   },
   "source": [
    "### Accommodating for Time Series Data"
   ]
  },
  {
   "cell_type": "code",
   "execution_count": null,
   "metadata": {
    "id": "tFzYTXx7NCju"
   },
   "outputs": [],
   "source": [
    "# Want to take only the record that is for month August for each client\n",
    "# And take the averages of all the other months for certain features\n",
    "# And take the mode of certain other features as well, to impute that into the record.\n",
    "\n",
    "# Here, we take the average for each numercial feature that makes sense \n",
    "# (We don't take average for Annual Income, Monthly Inhand Salary, \n",
    "# Num Bank Accounts Num Credit Card, Interest Rate, and Outstanding Debt,\n",
    "# as these didn't change per month) by customer ID:\n",
    "\n",
    "EMI_average =credit_df.groupby('Customer_ID')['Total_EMI_per_month'].mean()\n",
    "credit_df['Avg_EMI_per_month']= credit_df['Customer_ID'].apply(lambda x: EMI_average[x])\n",
    "\n",
    "MonthlyInv_average =credit_df.groupby('Customer_ID')['Amount_invested_monthly'].mean()\n",
    "credit_df['Avg_Invested_per_month']= credit_df['Customer_ID'].apply(lambda x: MonthlyInv_average[x])\n",
    "\n",
    "MonthlyBal_average =credit_df.groupby('Customer_ID')['Monthly_Balance'].mean()\n",
    "credit_df['Avg_Balance_per_month']= credit_df['Customer_ID'].apply(lambda x: MonthlyBal_average[x])\n",
    "\n",
    "CreditUt_average =credit_df.groupby('Customer_ID')['Credit_Utilization_Ratio'].mean()\n",
    "credit_df['Avg_CreditUtil_per_month']= credit_df['Customer_ID'].apply(lambda x: CreditUt_average[x])\n",
    "\n",
    "NumDelay_Pymnt_average =credit_df.groupby('Customer_ID')['Num_of_Delayed_Payment'].mean()\n",
    "credit_df['Avg_DelayPymnt_per_month']= credit_df['Customer_ID'].apply(lambda x: NumDelay_Pymnt_average[x])\n",
    "\n",
    "NumCredit_Inq_average =credit_df.groupby('Customer_ID')['Num_Credit_Inquiries'].mean()\n",
    "credit_df['Avg_CreditInq_per_month']= credit_df['Customer_ID'].apply(lambda x: NumCredit_Inq_average[x])\n",
    "\n",
    "DelayDueDate_average =credit_df.groupby('Customer_ID')['Delay_from_due_date'].mean()\n",
    "credit_df['Avg_DelayDueDate_per_month']= credit_df['Customer_ID'].apply(lambda x: DelayDueDate_average[x])\n",
    "\n",
    "NumLoan_average =credit_df.groupby('Customer_ID')['Num_of_Loan'].mean()\n",
    "credit_df['Avg_NumLoan_per_month']= credit_df['Customer_ID'].apply(lambda x: NumLoan_average[x])\n",
    "\n",
    "Age =credit_df.groupby('Customer_ID')['Age'].mean()\n",
    "credit_df['True_Age']= credit_df['Customer_ID'].apply(lambda x: Age[x])"
   ]
  },
  {
   "cell_type": "code",
   "execution_count": null,
   "metadata": {
    "id": "zK8XelO5ctol"
   },
   "outputs": [],
   "source": [
    "# Finding most common value for categorical features\n",
    "# since .mode() does not work for groupby pd Series:\n",
    "PaymBehavior_mode =credit_df.groupby('Customer_ID')['Payment_Behaviour'].apply(lambda x: stats.mode(x)[0])\n",
    "credit_df['Mode_PaymentBehaviour_per_month']= credit_df['Customer_ID'].apply(lambda x: PaymBehavior_mode[x])\n",
    "\n",
    "PaymMinAmount_mode =credit_df.groupby('Customer_ID')['Payment_of_Min_Amount'].apply(lambda x: stats.mode(x)[0])\n",
    "credit_df['Mode_Payment_Min_Amount']= credit_df['Customer_ID'].apply(lambda x: PaymMinAmount_mode[x])\n",
    "\n",
    "CreditMix_mode =credit_df.groupby('Customer_ID')['Credit_Mix'].apply(lambda x: stats.mode(x)[0])\n",
    "credit_df['Credit_Mix']= credit_df['Customer_ID'].apply(lambda x: CreditMix_mode[x])"
   ]
  },
  {
   "cell_type": "code",
   "execution_count": null,
   "metadata": {
    "id": "8ESCtRqsc1hj"
   },
   "outputs": [],
   "source": [
    "# Now, only take the last of the client records\n",
    "# Which corresponds to the month of August:\n",
    "\n",
    "August_records = (credit_df['Month'] == 'August') #.index\n",
    "August_index=August_records[August_records==True].index\n",
    "\n",
    "credit_df_new= credit_df.iloc[August_index,:]"
   ]
  },
  {
   "cell_type": "code",
   "execution_count": null,
   "metadata": {
    "colab": {
     "base_uri": "https://localhost:8080/"
    },
    "id": "a0iuyPy8-eWw",
    "outputId": "33e9cc23-0a71-4e6a-ae5b-0a015913c827"
   },
   "outputs": [
    {
     "data": {
      "text/plain": [
       "(11798, 39)"
      ]
     },
     "execution_count": 214,
     "metadata": {},
     "output_type": "execute_result"
    }
   ],
   "source": [
    "credit_df_new = credit_df_new[(credit_df_new['Num_Bank_Accounts'] < 100) & (credit_df_new['Num_Bank_Accounts'] > -1)]\n",
    "#credit_df_new.shape\n",
    "\n",
    "credit_df_new = credit_df_new[(credit_df_new['Num_Credit_Card'] < 100) & (credit_df_new['Num_Credit_Card'] > -1)]\n",
    "#credit_df_new.shape\n",
    "\n",
    "credit_df_new = credit_df_new[(credit_df_new['Interest_Rate'] < 50) & (credit_df_new['Interest_Rate'] > -1)]\n",
    "credit_df_new.shape"
   ]
  },
  {
   "cell_type": "code",
   "execution_count": null,
   "metadata": {
    "id": "pGmNcZFumzfK"
   },
   "outputs": [],
   "source": [
    "# Have to convert to string before converting to proper categorical variable\n",
    "# for future use:\n",
    "\n",
    "credit_df_new['Mode_PaymentBehaviour_per_month'] = credit_df_new['Mode_PaymentBehaviour_per_month'].astype('string')\n",
    "credit_df_new['Mode_Payment_Min_Amount'] = credit_df_new['Mode_Payment_Min_Amount'].astype('string')\n",
    "credit_df_new['Occupation'] = credit_df_new['Occupation'].astype('string')\n",
    "\n",
    "\n",
    "credit_df_new['Mode_PaymentBehaviour_per_month'] = credit_df_new['Mode_PaymentBehaviour_per_month'].astype('category')\n",
    "credit_df_new['Mode_Payment_Min_Amount'] = credit_df_new['Mode_Payment_Min_Amount'].astype('category')\n",
    "credit_df_new['Occupation'] = credit_df_new['Occupation'].astype('category')"
   ]
  },
  {
   "cell_type": "code",
   "execution_count": null,
   "metadata": {
    "colab": {
     "base_uri": "https://localhost:8080/"
    },
    "id": "r8rz42XpS_NS",
    "outputId": "efad8beb-ff4b-4564-da7f-a54de0443383"
   },
   "outputs": [
    {
     "data": {
      "text/plain": [
       "7     ['High_spent_Medium_value_payments']\n",
       "15     ['High_spent_Large_value_payments']\n",
       "23     ['High_spent_Small_value_payments']\n",
       "31      ['Low_spent_Large_value_payments']\n",
       "39    ['High_spent_Medium_value_payments']\n",
       "47      ['Low_spent_Large_value_payments']\n",
       "55     ['High_spent_Large_value_payments']\n",
       "63      ['Low_spent_Large_value_payments']\n",
       "71     ['High_spent_Small_value_payments']\n",
       "79      ['Low_spent_Small_value_payments']\n",
       "87     ['High_spent_Large_value_payments']\n",
       "95     ['High_spent_Large_value_payments']\n",
       "Name: Mode_PaymentBehaviour_per_month, dtype: category\n",
       "Categories (6, object): ['['High_spent_Large_value_payments']', '['High_spent_Medium_value_payments']',\n",
       "                         '['High_spent_Small_value_payments']', '['Low_spent_Large_value_payments']',\n",
       "                         '['Low_spent_Medium_value_payments']', '['Low_spent_Small_value_payments']']"
      ]
     },
     "execution_count": 216,
     "metadata": {},
     "output_type": "execute_result"
    }
   ],
   "source": [
    "credit_df_new['Mode_PaymentBehaviour_per_month'].head(12)"
   ]
  },
  {
   "cell_type": "code",
   "execution_count": null,
   "metadata": {
    "id": "pXZCUno7PGrM"
   },
   "outputs": [],
   "source": [
    "#  Combine categories to create meaningful binary option:\n",
    "\n",
    "pan = {\"['High_spent_Medium_value_payments']\" : 'High_Spend',\"['High_spent_Large_value_payments']\" : 'High_Spend', \n",
    "       \"['High_spent_Small_value_payments']\": 'High_Spend', \"['Low_spent_Large_value_payments']\" : 'Low_Spend',\n",
    "       \"['Low_spent_Small_value_payments']\" : 'Low_Spend', \"['Low_spent_Medium_value_payments']\" : 'Low_Spend'}\n",
    "credit_df_new['Mode_Behavior_binary'] = credit_df_new['Mode_PaymentBehaviour_per_month'].map(pan)"
   ]
  },
  {
   "cell_type": "code",
   "execution_count": null,
   "metadata": {
    "id": "hYL-QIVJuHxB"
   },
   "outputs": [],
   "source": [
    "# How were these determined?\n",
    "\n",
    "# Most of these were averaged/mode found, these are the originals\n",
    "# Then there is name, months, ssn that also don't matter\n",
    "# Removed originally MOnthly Inhand Salary because it is highly correlated \n",
    "# to some averages found, and to avoid multicollinearity among features\n",
    "\n",
    "unnecessary_features = ['Delay_from_due_date', 'Num_of_Delayed_Payment',\n",
    "                        'Num_Credit_Inquiries', 'Credit_Utilization_Ratio',\n",
    "                        'Total_EMI_per_month','Amount_invested_monthly', \n",
    "                        'Monthly_Balance', 'Credit_Mix', 'Payment_of_Min_Amount',\n",
    "                        'Payment_Behaviour', 'Name', 'Month', 'SSN','Age',\n",
    "                        'Num_of_Loan', 'Mode_PaymentBehaviour_per_month']\n",
    "\n",
    "credit_df_new = credit_df_new.drop(labels = unnecessary_features, axis=1)"
   ]
  },
  {
   "cell_type": "code",
   "execution_count": null,
   "metadata": {
    "colab": {
     "base_uri": "https://localhost:8080/",
     "height": 364
    },
    "id": "z24uFjcG2UkD",
    "outputId": "82c17ecf-d0b2-4613-dde5-cde66443df09"
   },
   "outputs": [
    {
     "data": {
      "text/html": [
       "\n",
       "  <div id=\"df-96a05f4c-7d82-474e-9414-27af3822a3f7\">\n",
       "    <div class=\"colab-df-container\">\n",
       "      <div>\n",
       "<style scoped>\n",
       "    .dataframe tbody tr th:only-of-type {\n",
       "        vertical-align: middle;\n",
       "    }\n",
       "\n",
       "    .dataframe tbody tr th {\n",
       "        vertical-align: top;\n",
       "    }\n",
       "\n",
       "    .dataframe thead th {\n",
       "        text-align: right;\n",
       "    }\n",
       "</style>\n",
       "<table border=\"1\" class=\"dataframe\">\n",
       "  <thead>\n",
       "    <tr style=\"text-align: right;\">\n",
       "      <th></th>\n",
       "      <th>Annual_Income</th>\n",
       "      <th>Monthly_Inhand_Salary</th>\n",
       "      <th>Num_Bank_Accounts</th>\n",
       "      <th>Num_Credit_Card</th>\n",
       "      <th>Interest_Rate</th>\n",
       "      <th>Outstanding_Debt</th>\n",
       "      <th>Credit_Age_in_Years</th>\n",
       "      <th>Avg_EMI_per_month</th>\n",
       "      <th>Avg_Invested_per_month</th>\n",
       "      <th>Avg_Balance_per_month</th>\n",
       "      <th>Avg_CreditUtil_per_month</th>\n",
       "      <th>Avg_DelayPymnt_per_month</th>\n",
       "      <th>Avg_CreditInq_per_month</th>\n",
       "      <th>Avg_DelayDueDate_per_month</th>\n",
       "      <th>Avg_NumLoan_per_month</th>\n",
       "      <th>True_Age</th>\n",
       "    </tr>\n",
       "  </thead>\n",
       "  <tbody>\n",
       "    <tr>\n",
       "      <th>count</th>\n",
       "      <td>1.179800e+04</td>\n",
       "      <td>9988.000000</td>\n",
       "      <td>11798.000000</td>\n",
       "      <td>11798.000000</td>\n",
       "      <td>11798.000000</td>\n",
       "      <td>11798.000000</td>\n",
       "      <td>10741.000000</td>\n",
       "      <td>11798.000000</td>\n",
       "      <td>11798.000000</td>\n",
       "      <td>11798.000000</td>\n",
       "      <td>11798.000000</td>\n",
       "      <td>11798.000000</td>\n",
       "      <td>11798.000000</td>\n",
       "      <td>11798.000000</td>\n",
       "      <td>11798.000000</td>\n",
       "      <td>11149.000000</td>\n",
       "    </tr>\n",
       "    <tr>\n",
       "      <th>mean</th>\n",
       "      <td>1.611088e+05</td>\n",
       "      <td>4197.572662</td>\n",
       "      <td>5.396593</td>\n",
       "      <td>5.628920</td>\n",
       "      <td>14.555518</td>\n",
       "      <td>1429.086143</td>\n",
       "      <td>18.216926</td>\n",
       "      <td>1408.208501</td>\n",
       "      <td>195.878474</td>\n",
       "      <td>403.564746</td>\n",
       "      <td>32.285032</td>\n",
       "      <td>30.798244</td>\n",
       "      <td>27.812116</td>\n",
       "      <td>21.079727</td>\n",
       "      <td>3.384864</td>\n",
       "      <td>34.329462</td>\n",
       "    </tr>\n",
       "    <tr>\n",
       "      <th>std</th>\n",
       "      <td>1.288669e+06</td>\n",
       "      <td>3182.264794</td>\n",
       "      <td>2.863859</td>\n",
       "      <td>3.074303</td>\n",
       "      <td>8.749222</td>\n",
       "      <td>1158.394988</td>\n",
       "      <td>8.311759</td>\n",
       "      <td>2924.563370</td>\n",
       "      <td>136.859849</td>\n",
       "      <td>175.814977</td>\n",
       "      <td>2.063307</td>\n",
       "      <td>83.246692</td>\n",
       "      <td>69.063455</td>\n",
       "      <td>14.754352</td>\n",
       "      <td>2.360998</td>\n",
       "      <td>10.147193</td>\n",
       "    </tr>\n",
       "    <tr>\n",
       "      <th>min</th>\n",
       "      <td>7.005930e+03</td>\n",
       "      <td>303.645417</td>\n",
       "      <td>0.000000</td>\n",
       "      <td>0.000000</td>\n",
       "      <td>1.000000</td>\n",
       "      <td>0.230000</td>\n",
       "      <td>0.000000</td>\n",
       "      <td>0.000000</td>\n",
       "      <td>14.528879</td>\n",
       "      <td>92.841401</td>\n",
       "      <td>25.476634</td>\n",
       "      <td>-1.333333</td>\n",
       "      <td>0.000000</td>\n",
       "      <td>-1.250000</td>\n",
       "      <td>0.000000</td>\n",
       "      <td>18.000000</td>\n",
       "    </tr>\n",
       "    <tr>\n",
       "      <th>25%</th>\n",
       "      <td>1.945599e+04</td>\n",
       "      <td>1623.766042</td>\n",
       "      <td>3.000000</td>\n",
       "      <td>4.000000</td>\n",
       "      <td>7.000000</td>\n",
       "      <td>565.032500</td>\n",
       "      <td>12.000000</td>\n",
       "      <td>41.165111</td>\n",
       "      <td>97.558584</td>\n",
       "      <td>284.555983</td>\n",
       "      <td>30.858033</td>\n",
       "      <td>9.250000</td>\n",
       "      <td>3.000000</td>\n",
       "      <td>9.875000</td>\n",
       "      <td>1.750000</td>\n",
       "      <td>25.875000</td>\n",
       "    </tr>\n",
       "    <tr>\n",
       "      <th>50%</th>\n",
       "      <td>3.772600e+04</td>\n",
       "      <td>3097.755000</td>\n",
       "      <td>5.500000</td>\n",
       "      <td>5.000000</td>\n",
       "      <td>13.000000</td>\n",
       "      <td>1167.065000</td>\n",
       "      <td>18.000000</td>\n",
       "      <td>105.465028</td>\n",
       "      <td>152.193782</td>\n",
       "      <td>339.311275</td>\n",
       "      <td>32.239826</td>\n",
       "      <td>14.500000</td>\n",
       "      <td>6.125000</td>\n",
       "      <td>18.000000</td>\n",
       "      <td>3.000000</td>\n",
       "      <td>34.000000</td>\n",
       "    </tr>\n",
       "    <tr>\n",
       "      <th>75%</th>\n",
       "      <td>7.303090e+04</td>\n",
       "      <td>5981.070417</td>\n",
       "      <td>7.000000</td>\n",
       "      <td>7.000000</td>\n",
       "      <td>20.000000</td>\n",
       "      <td>1958.675000</td>\n",
       "      <td>25.000000</td>\n",
       "      <td>374.331962</td>\n",
       "      <td>258.352635</td>\n",
       "      <td>466.681112</td>\n",
       "      <td>33.610360</td>\n",
       "      <td>19.000000</td>\n",
       "      <td>10.375000</td>\n",
       "      <td>28.000000</td>\n",
       "      <td>5.000000</td>\n",
       "      <td>42.000000</td>\n",
       "    </tr>\n",
       "    <tr>\n",
       "      <th>max</th>\n",
       "      <td>2.383470e+07</td>\n",
       "      <td>15204.633333</td>\n",
       "      <td>82.000000</td>\n",
       "      <td>97.000000</td>\n",
       "      <td>34.000000</td>\n",
       "      <td>4998.070000</td>\n",
       "      <td>33.000000</td>\n",
       "      <td>29986.742104</td>\n",
       "      <td>1005.847285</td>\n",
       "      <td>1349.264887</td>\n",
       "      <td>42.395301</td>\n",
       "      <td>1147.333333</td>\n",
       "      <td>602.250000</td>\n",
       "      <td>63.250000</td>\n",
       "      <td>9.000000</td>\n",
       "      <td>56.714286</td>\n",
       "    </tr>\n",
       "  </tbody>\n",
       "</table>\n",
       "</div>\n",
       "      <button class=\"colab-df-convert\" onclick=\"convertToInteractive('df-96a05f4c-7d82-474e-9414-27af3822a3f7')\"\n",
       "              title=\"Convert this dataframe to an interactive table.\"\n",
       "              style=\"display:none;\">\n",
       "        \n",
       "  <svg xmlns=\"http://www.w3.org/2000/svg\" height=\"24px\"viewBox=\"0 0 24 24\"\n",
       "       width=\"24px\">\n",
       "    <path d=\"M0 0h24v24H0V0z\" fill=\"none\"/>\n",
       "    <path d=\"M18.56 5.44l.94 2.06.94-2.06 2.06-.94-2.06-.94-.94-2.06-.94 2.06-2.06.94zm-11 1L8.5 8.5l.94-2.06 2.06-.94-2.06-.94L8.5 2.5l-.94 2.06-2.06.94zm10 10l.94 2.06.94-2.06 2.06-.94-2.06-.94-.94-2.06-.94 2.06-2.06.94z\"/><path d=\"M17.41 7.96l-1.37-1.37c-.4-.4-.92-.59-1.43-.59-.52 0-1.04.2-1.43.59L10.3 9.45l-7.72 7.72c-.78.78-.78 2.05 0 2.83L4 21.41c.39.39.9.59 1.41.59.51 0 1.02-.2 1.41-.59l7.78-7.78 2.81-2.81c.8-.78.8-2.07 0-2.86zM5.41 20L4 18.59l7.72-7.72 1.47 1.35L5.41 20z\"/>\n",
       "  </svg>\n",
       "      </button>\n",
       "      \n",
       "  <style>\n",
       "    .colab-df-container {\n",
       "      display:flex;\n",
       "      flex-wrap:wrap;\n",
       "      gap: 12px;\n",
       "    }\n",
       "\n",
       "    .colab-df-convert {\n",
       "      background-color: #E8F0FE;\n",
       "      border: none;\n",
       "      border-radius: 50%;\n",
       "      cursor: pointer;\n",
       "      display: none;\n",
       "      fill: #1967D2;\n",
       "      height: 32px;\n",
       "      padding: 0 0 0 0;\n",
       "      width: 32px;\n",
       "    }\n",
       "\n",
       "    .colab-df-convert:hover {\n",
       "      background-color: #E2EBFA;\n",
       "      box-shadow: 0px 1px 2px rgba(60, 64, 67, 0.3), 0px 1px 3px 1px rgba(60, 64, 67, 0.15);\n",
       "      fill: #174EA6;\n",
       "    }\n",
       "\n",
       "    [theme=dark] .colab-df-convert {\n",
       "      background-color: #3B4455;\n",
       "      fill: #D2E3FC;\n",
       "    }\n",
       "\n",
       "    [theme=dark] .colab-df-convert:hover {\n",
       "      background-color: #434B5C;\n",
       "      box-shadow: 0px 1px 3px 1px rgba(0, 0, 0, 0.15);\n",
       "      filter: drop-shadow(0px 1px 2px rgba(0, 0, 0, 0.3));\n",
       "      fill: #FFFFFF;\n",
       "    }\n",
       "  </style>\n",
       "\n",
       "      <script>\n",
       "        const buttonEl =\n",
       "          document.querySelector('#df-96a05f4c-7d82-474e-9414-27af3822a3f7 button.colab-df-convert');\n",
       "        buttonEl.style.display =\n",
       "          google.colab.kernel.accessAllowed ? 'block' : 'none';\n",
       "\n",
       "        async function convertToInteractive(key) {\n",
       "          const element = document.querySelector('#df-96a05f4c-7d82-474e-9414-27af3822a3f7');\n",
       "          const dataTable =\n",
       "            await google.colab.kernel.invokeFunction('convertToInteractive',\n",
       "                                                     [key], {});\n",
       "          if (!dataTable) return;\n",
       "\n",
       "          const docLinkHtml = 'Like what you see? Visit the ' +\n",
       "            '<a target=\"_blank\" href=https://colab.research.google.com/notebooks/data_table.ipynb>data table notebook</a>'\n",
       "            + ' to learn more about interactive tables.';\n",
       "          element.innerHTML = '';\n",
       "          dataTable['output_type'] = 'display_data';\n",
       "          await google.colab.output.renderOutput(dataTable, element);\n",
       "          const docLink = document.createElement('div');\n",
       "          docLink.innerHTML = docLinkHtml;\n",
       "          element.appendChild(docLink);\n",
       "        }\n",
       "      </script>\n",
       "    </div>\n",
       "  </div>\n",
       "  "
      ],
      "text/plain": [
       "       Annual_Income  Monthly_Inhand_Salary  Num_Bank_Accounts  \\\n",
       "count   1.179800e+04            9988.000000       11798.000000   \n",
       "mean    1.611088e+05            4197.572662           5.396593   \n",
       "std     1.288669e+06            3182.264794           2.863859   \n",
       "min     7.005930e+03             303.645417           0.000000   \n",
       "25%     1.945599e+04            1623.766042           3.000000   \n",
       "50%     3.772600e+04            3097.755000           5.500000   \n",
       "75%     7.303090e+04            5981.070417           7.000000   \n",
       "max     2.383470e+07           15204.633333          82.000000   \n",
       "\n",
       "       Num_Credit_Card  Interest_Rate  Outstanding_Debt  Credit_Age_in_Years  \\\n",
       "count     11798.000000   11798.000000      11798.000000         10741.000000   \n",
       "mean          5.628920      14.555518       1429.086143            18.216926   \n",
       "std           3.074303       8.749222       1158.394988             8.311759   \n",
       "min           0.000000       1.000000          0.230000             0.000000   \n",
       "25%           4.000000       7.000000        565.032500            12.000000   \n",
       "50%           5.000000      13.000000       1167.065000            18.000000   \n",
       "75%           7.000000      20.000000       1958.675000            25.000000   \n",
       "max          97.000000      34.000000       4998.070000            33.000000   \n",
       "\n",
       "       Avg_EMI_per_month  Avg_Invested_per_month  Avg_Balance_per_month  \\\n",
       "count       11798.000000            11798.000000           11798.000000   \n",
       "mean         1408.208501              195.878474             403.564746   \n",
       "std          2924.563370              136.859849             175.814977   \n",
       "min             0.000000               14.528879              92.841401   \n",
       "25%            41.165111               97.558584             284.555983   \n",
       "50%           105.465028              152.193782             339.311275   \n",
       "75%           374.331962              258.352635             466.681112   \n",
       "max         29986.742104             1005.847285            1349.264887   \n",
       "\n",
       "       Avg_CreditUtil_per_month  Avg_DelayPymnt_per_month  \\\n",
       "count              11798.000000              11798.000000   \n",
       "mean                  32.285032                 30.798244   \n",
       "std                    2.063307                 83.246692   \n",
       "min                   25.476634                 -1.333333   \n",
       "25%                   30.858033                  9.250000   \n",
       "50%                   32.239826                 14.500000   \n",
       "75%                   33.610360                 19.000000   \n",
       "max                   42.395301               1147.333333   \n",
       "\n",
       "       Avg_CreditInq_per_month  Avg_DelayDueDate_per_month  \\\n",
       "count             11798.000000                11798.000000   \n",
       "mean                 27.812116                   21.079727   \n",
       "std                  69.063455                   14.754352   \n",
       "min                   0.000000                   -1.250000   \n",
       "25%                   3.000000                    9.875000   \n",
       "50%                   6.125000                   18.000000   \n",
       "75%                  10.375000                   28.000000   \n",
       "max                 602.250000                   63.250000   \n",
       "\n",
       "       Avg_NumLoan_per_month      True_Age  \n",
       "count           11798.000000  11149.000000  \n",
       "mean                3.384864     34.329462  \n",
       "std                 2.360998     10.147193  \n",
       "min                 0.000000     18.000000  \n",
       "25%                 1.750000     25.875000  \n",
       "50%                 3.000000     34.000000  \n",
       "75%                 5.000000     42.000000  \n",
       "max                 9.000000     56.714286  "
      ]
     },
     "execution_count": 219,
     "metadata": {},
     "output_type": "execute_result"
    }
   ],
   "source": [
    "credit_df_new.describe()"
   ]
  },
  {
   "cell_type": "markdown",
   "metadata": {
    "id": "u7CFBuCKzI-D"
   },
   "source": [
    "### Plots/Data Exploration after cleanup:"
   ]
  },
  {
   "cell_type": "code",
   "execution_count": null,
   "metadata": {
    "colab": {
     "base_uri": "https://localhost:8080/"
    },
    "id": "2inU7dhG5mIh",
    "outputId": "926dbe06-b203-4199-b5e7-e4d357ea17a8"
   },
   "outputs": [
    {
     "data": {
      "text/plain": [
       "(11798, 24)"
      ]
     },
     "execution_count": 220,
     "metadata": {},
     "output_type": "execute_result"
    }
   ],
   "source": [
    "credit_df_new.shape"
   ]
  },
  {
   "cell_type": "code",
   "execution_count": null,
   "metadata": {
    "colab": {
     "base_uri": "https://localhost:8080/",
     "height": 991
    },
    "id": "duaThpirx-u1",
    "outputId": "e41db909-44c2-425a-cd63-71e67fbd3437"
   },
   "outputs": [
    {
     "data": {
      "image/png": "[encoded data removed]",
      "text/plain": [
       "<Figure size 1224x1224 with 16 Axes>"
      ]
     },
     "metadata": {},
     "output_type": "display_data"
    }
   ],
   "source": [
    "credit_df_new.hist(figsize = (17,17));"
   ]
  },
  {
   "cell_type": "code",
   "execution_count": null,
   "metadata": {
    "colab": {
     "base_uri": "https://localhost:8080/",
     "height": 643
    },
    "id": "htRNz6B8jrx0",
    "outputId": "20234b92-e6db-4928-c75a-f25738304de8"
   },
   "outputs": [
    {
     "data": {
      "image/png": "[encoded data removed]",
      "text/plain": [
       "<Figure size 1440x576 with 2 Axes>"
      ]
     },
     "metadata": {},
     "output_type": "display_data"
    }
   ],
   "source": [
    "# plot the heatmap and annotation on it\n",
    "#Correlation matrix \n",
    "corr_matrix_credit = credit_df_new.corr()\n",
    "sns.set(rc = {'figure.figsize':(20,8)})\n",
    "sns.heatmap(corr_matrix_credit, cmap=\"YlGnBu\", annot=True)\n",
    "plt.show()"
   ]
  },
  {
   "cell_type": "code",
   "execution_count": null,
   "metadata": {
    "colab": {
     "base_uri": "https://localhost:8080/",
     "height": 582
    },
    "id": "yDLmYLYsw_X8",
    "outputId": "866640a1-c31e-4474-84e6-700294f0159e"
   },
   "outputs": [
    {
     "data": {
      "image/png": "[encoded data removed]",
      "text/plain": [
       "<Figure size 1440x576 with 1 Axes>"
      ]
     },
     "metadata": {},
     "output_type": "display_data"
    }
   ],
   "source": [
    "credit_df_new['Occupation'].value_counts().plot(kind='bar')\n",
    "plt.title('Occupation Counts')\n",
    "plt.xlabel('Occupation')\n",
    "plt.ylabel('Counts')\n",
    "plt.show()"
   ]
  },
  {
   "cell_type": "markdown",
   "metadata": {
    "id": "jRU1ociIBG01"
   },
   "source": [
    "### Loan Type Feature Engineering"
   ]
  },
  {
   "cell_type": "code",
   "execution_count": null,
   "metadata": {
    "id": "qeEefdKZxAKO"
   },
   "outputs": [],
   "source": [
    "#parse out the different loand types within the \"Type_of_Loan\" column\n",
    "credit_df_new['Auto_Loan_Flag'] = credit_df_new['Type_of_Loan'].astype(str).map(lambda x: 1 if \"Auto\" in x else 0)\n",
    "credit_df_new['Credit_Builder_Flag'] = credit_df_new['Type_of_Loan'].astype(str).map(lambda x: 1 if \"Credit-Builder\" in x else 0)\n",
    "credit_df_new['Student_Loan_Flag'] = credit_df_new['Type_of_Loan'].astype(str).map(lambda x: 1 if \"Student\" in x else 0)\n",
    "credit_df_new['Mortagage_Loan_Flag'] = credit_df_new['Type_of_Loan'].astype(str).map(lambda x: 1 if \"Mortgage\" in x else 0)\n",
    "credit_df_new['Home_Equity_Flag'] = credit_df_new['Type_of_Loan'].astype(str).map(lambda x: 1 if \"Home Equity\" in x else 0)\n",
    "credit_df_new['Debt_Consolidation_Flag'] = credit_df_new['Type_of_Loan'].astype(str).map(lambda x: 1 if \"Debt Consolidation\" in x else 0)\n",
    "credit_df_new['PayDay_Flag'] = credit_df_new['Type_of_Loan'].astype(str).map(lambda x: 1 if \"Payday\" in x else 0)\n",
    "credit_df_new['Personal_Loan_Flag'] = credit_df_new['Type_of_Loan'].astype(str).map(lambda x: 1 if \"Personal\" in x else 0)\n",
    "#del credit_df_new['Type_of_Loan']\n",
    "#credit_df_new.head(100)"
   ]
  },
  {
   "cell_type": "code",
   "execution_count": null,
   "metadata": {
    "colab": {
     "base_uri": "https://localhost:8080/",
     "height": 627
    },
    "id": "WtcqN9xCxCth",
    "outputId": "5b907e64-9b10-423e-b414-0401406d67f0"
   },
   "outputs": [
    {
     "data": {
      "image/png": "[encoded data removed]",
      "text/plain": [
       "<Figure size 1440x576 with 2 Axes>"
      ]
     },
     "metadata": {},
     "output_type": "display_data"
    }
   ],
   "source": [
    "#Correlation matrix for loan types only \n",
    "corr_matrix_credit = credit_df_new[['Auto_Loan_Flag','Credit_Builder_Flag','Student_Loan_Flag','Mortagage_Loan_Flag',\n",
    "                                    'Home_Equity_Flag','Debt_Consolidation_Flag','PayDay_Flag','Personal_Loan_Flag']].corr()\n",
    "sns.set(rc = {'figure.figsize':(20,8)})\n",
    "sns.heatmap(corr_matrix_credit, cmap=\"YlGnBu\", annot=True)\n",
    "plt.title(\"Loan Correlation Matrix\")\n",
    "plt.show()"
   ]
  },
  {
   "cell_type": "code",
   "execution_count": null,
   "metadata": {
    "colab": {
     "base_uri": "https://localhost:8080/",
     "height": 991
    },
    "id": "TOEvhY6kxFL4",
    "outputId": "fd119593-622a-43d1-ca15-eb20db37a91b"
   },
   "outputs": [
    {
     "data": {
      "image/png": "[encoded data removed]",
      "text/plain": [
       "<Figure size 1224x1224 with 9 Axes>"
      ]
     },
     "metadata": {},
     "output_type": "display_data"
    }
   ],
   "source": [
    "#create an object of just the differnt types of loan values \n",
    "loan_values= credit_df_new[['Auto_Loan_Flag','Credit_Builder_Flag','Student_Loan_Flag','Mortagage_Loan_Flag',\n",
    "                                    'Home_Equity_Flag','Debt_Consolidation_Flag','PayDay_Flag','Personal_Loan_Flag']]\n",
    "#develop histogram of loan types                                  \n",
    "loan_values.hist(figsize = (17,17));"
   ]
  },
  {
   "cell_type": "code",
   "execution_count": null,
   "metadata": {
    "colab": {
     "base_uri": "https://localhost:8080/",
     "height": 502
    },
    "id": "nPQvXSj3xHeJ",
    "outputId": "2f5334d4-5791-4d57-83a8-0de72d0a3199"
   },
   "outputs": [
    {
     "data": {
      "image/png": "[encoded data removed]",
      "text/plain": [
       "<Figure size 1440x576 with 1 Axes>"
      ]
     },
     "metadata": {},
     "output_type": "display_data"
    }
   ],
   "source": [
    "#view the mortgage loan distribution by occupation\n",
    "ax = sns.barplot(x=\"Occupation\", y=\"Mortagage_Loan_Flag\", data= credit_df_new)"
   ]
  },
  {
   "cell_type": "markdown",
   "metadata": {
    "id": "1HfI0-b8BMKm"
   },
   "source": [
    "### Binary output label"
   ]
  },
  {
   "cell_type": "code",
   "execution_count": null,
   "metadata": {
    "id": "sN7Co7kbITbO"
   },
   "outputs": [],
   "source": [
    "#  Combine Poor and Standard categories:\n",
    "# Different from numerical binary option\n",
    "# Using 'Yes' to denote we should advertise\n",
    "# to these clients:\n",
    "\n",
    "pan = {'Poor' : 'No','Standard' : 'No', \n",
    "       'Good': 'Yes'}\n",
    "credit_df_new['Credit_Ad'] = credit_df_new['Credit_Score'].map(pan)"
   ]
  },
  {
   "cell_type": "code",
   "execution_count": null,
   "metadata": {
    "colab": {
     "base_uri": "https://localhost:8080/"
    },
    "id": "E3yIHHW6IuuF",
    "outputId": "e92dbbaf-30c4-4b2f-e14c-5af7bfaba226"
   },
   "outputs": [
    {
     "data": {
      "text/plain": [
       "No     9534\n",
       "Yes    2264\n",
       "Name: Credit_Ad, dtype: int64"
      ]
     },
     "execution_count": 229,
     "metadata": {},
     "output_type": "execute_result"
    }
   ],
   "source": [
    "credit_df_new['Credit_Ad'].value_counts()\n",
    "# no extreme imbalance at 20% minority class,\n",
    "# But should still attempt using balanced classifiers"
   ]
  },
  {
   "cell_type": "markdown",
   "metadata": {
    "id": "kEDZZ3KJydAO"
   },
   "source": [
    "Look for any outliers/data that might not fit. Also, looking if any features that should be numerical, are not showing up due to dirty data:\n"
   ]
  },
  {
   "cell_type": "code",
   "execution_count": null,
   "metadata": {
    "colab": {
     "base_uri": "https://localhost:8080/",
     "height": 425
    },
    "id": "g_S3AAHe8i3Y",
    "outputId": "c0f67512-3996-4dd3-a119-8cee0d95ea58"
   },
   "outputs": [
    {
     "data": {
      "text/html": [
       "\n",
       "  <div id=\"df-2f5463d5-cf9a-43c3-a18a-ad90d5aa4fa5\">\n",
       "    <div class=\"colab-df-container\">\n",
       "      <div>\n",
       "<style scoped>\n",
       "    .dataframe tbody tr th:only-of-type {\n",
       "        vertical-align: middle;\n",
       "    }\n",
       "\n",
       "    .dataframe tbody tr th {\n",
       "        vertical-align: top;\n",
       "    }\n",
       "\n",
       "    .dataframe thead th {\n",
       "        text-align: right;\n",
       "    }\n",
       "</style>\n",
       "<table border=\"1\" class=\"dataframe\">\n",
       "  <thead>\n",
       "    <tr style=\"text-align: right;\">\n",
       "      <th></th>\n",
       "      <th>Annual_Income</th>\n",
       "      <th>Monthly_Inhand_Salary</th>\n",
       "      <th>Num_Bank_Accounts</th>\n",
       "      <th>Num_Credit_Card</th>\n",
       "      <th>Interest_Rate</th>\n",
       "      <th>Outstanding_Debt</th>\n",
       "      <th>Credit_Age_in_Years</th>\n",
       "      <th>Avg_EMI_per_month</th>\n",
       "      <th>Avg_Invested_per_month</th>\n",
       "      <th>Avg_Balance_per_month</th>\n",
       "      <th>...</th>\n",
       "      <th>Avg_NumLoan_per_month</th>\n",
       "      <th>True_Age</th>\n",
       "      <th>Auto_Loan_Flag</th>\n",
       "      <th>Credit_Builder_Flag</th>\n",
       "      <th>Student_Loan_Flag</th>\n",
       "      <th>Mortagage_Loan_Flag</th>\n",
       "      <th>Home_Equity_Flag</th>\n",
       "      <th>Debt_Consolidation_Flag</th>\n",
       "      <th>PayDay_Flag</th>\n",
       "      <th>Personal_Loan_Flag</th>\n",
       "    </tr>\n",
       "  </thead>\n",
       "  <tbody>\n",
       "    <tr>\n",
       "      <th>count</th>\n",
       "      <td>1.179800e+04</td>\n",
       "      <td>9988.000000</td>\n",
       "      <td>11798.000000</td>\n",
       "      <td>11798.000000</td>\n",
       "      <td>11798.000000</td>\n",
       "      <td>11798.000000</td>\n",
       "      <td>10741.000000</td>\n",
       "      <td>11798.000000</td>\n",
       "      <td>11798.000000</td>\n",
       "      <td>11798.000000</td>\n",
       "      <td>...</td>\n",
       "      <td>11798.000000</td>\n",
       "      <td>11149.000000</td>\n",
       "      <td>11798.000000</td>\n",
       "      <td>11798.000000</td>\n",
       "      <td>11798.000000</td>\n",
       "      <td>11798.000000</td>\n",
       "      <td>11798.000000</td>\n",
       "      <td>11798.000000</td>\n",
       "      <td>11798.000000</td>\n",
       "      <td>11798.000000</td>\n",
       "    </tr>\n",
       "    <tr>\n",
       "      <th>mean</th>\n",
       "      <td>1.611088e+05</td>\n",
       "      <td>4197.572662</td>\n",
       "      <td>5.396593</td>\n",
       "      <td>5.628920</td>\n",
       "      <td>14.555518</td>\n",
       "      <td>1429.086143</td>\n",
       "      <td>18.216926</td>\n",
       "      <td>1408.208501</td>\n",
       "      <td>195.878474</td>\n",
       "      <td>403.564746</td>\n",
       "      <td>...</td>\n",
       "      <td>3.384864</td>\n",
       "      <td>34.329462</td>\n",
       "      <td>0.306238</td>\n",
       "      <td>0.317766</td>\n",
       "      <td>0.311833</td>\n",
       "      <td>0.314969</td>\n",
       "      <td>0.312172</td>\n",
       "      <td>0.310561</td>\n",
       "      <td>0.320987</td>\n",
       "      <td>0.311070</td>\n",
       "    </tr>\n",
       "    <tr>\n",
       "      <th>std</th>\n",
       "      <td>1.288669e+06</td>\n",
       "      <td>3182.264794</td>\n",
       "      <td>2.863859</td>\n",
       "      <td>3.074303</td>\n",
       "      <td>8.749222</td>\n",
       "      <td>1158.394988</td>\n",
       "      <td>8.311759</td>\n",
       "      <td>2924.563370</td>\n",
       "      <td>136.859849</td>\n",
       "      <td>175.814977</td>\n",
       "      <td>...</td>\n",
       "      <td>2.360998</td>\n",
       "      <td>10.147193</td>\n",
       "      <td>0.460949</td>\n",
       "      <td>0.465628</td>\n",
       "      <td>0.463261</td>\n",
       "      <td>0.464523</td>\n",
       "      <td>0.463399</td>\n",
       "      <td>0.462743</td>\n",
       "      <td>0.466875</td>\n",
       "      <td>0.462951</td>\n",
       "    </tr>\n",
       "    <tr>\n",
       "      <th>min</th>\n",
       "      <td>7.005930e+03</td>\n",
       "      <td>303.645417</td>\n",
       "      <td>0.000000</td>\n",
       "      <td>0.000000</td>\n",
       "      <td>1.000000</td>\n",
       "      <td>0.230000</td>\n",
       "      <td>0.000000</td>\n",
       "      <td>0.000000</td>\n",
       "      <td>14.528879</td>\n",
       "      <td>92.841401</td>\n",
       "      <td>...</td>\n",
       "      <td>0.000000</td>\n",
       "      <td>18.000000</td>\n",
       "      <td>0.000000</td>\n",
       "      <td>0.000000</td>\n",
       "      <td>0.000000</td>\n",
       "      <td>0.000000</td>\n",
       "      <td>0.000000</td>\n",
       "      <td>0.000000</td>\n",
       "      <td>0.000000</td>\n",
       "      <td>0.000000</td>\n",
       "    </tr>\n",
       "    <tr>\n",
       "      <th>25%</th>\n",
       "      <td>1.945599e+04</td>\n",
       "      <td>1623.766042</td>\n",
       "      <td>3.000000</td>\n",
       "      <td>4.000000</td>\n",
       "      <td>7.000000</td>\n",
       "      <td>565.032500</td>\n",
       "      <td>12.000000</td>\n",
       "      <td>41.165111</td>\n",
       "      <td>97.558584</td>\n",
       "      <td>284.555983</td>\n",
       "      <td>...</td>\n",
       "      <td>1.750000</td>\n",
       "      <td>25.875000</td>\n",
       "      <td>0.000000</td>\n",
       "      <td>0.000000</td>\n",
       "      <td>0.000000</td>\n",
       "      <td>0.000000</td>\n",
       "      <td>0.000000</td>\n",
       "      <td>0.000000</td>\n",
       "      <td>0.000000</td>\n",
       "      <td>0.000000</td>\n",
       "    </tr>\n",
       "    <tr>\n",
       "      <th>50%</th>\n",
       "      <td>3.772600e+04</td>\n",
       "      <td>3097.755000</td>\n",
       "      <td>5.500000</td>\n",
       "      <td>5.000000</td>\n",
       "      <td>13.000000</td>\n",
       "      <td>1167.065000</td>\n",
       "      <td>18.000000</td>\n",
       "      <td>105.465028</td>\n",
       "      <td>152.193782</td>\n",
       "      <td>339.311275</td>\n",
       "      <td>...</td>\n",
       "      <td>3.000000</td>\n",
       "      <td>34.000000</td>\n",
       "      <td>0.000000</td>\n",
       "      <td>0.000000</td>\n",
       "      <td>0.000000</td>\n",
       "      <td>0.000000</td>\n",
       "      <td>0.000000</td>\n",
       "      <td>0.000000</td>\n",
       "      <td>0.000000</td>\n",
       "      <td>0.000000</td>\n",
       "    </tr>\n",
       "    <tr>\n",
       "      <th>75%</th>\n",
       "      <td>7.303090e+04</td>\n",
       "      <td>5981.070417</td>\n",
       "      <td>7.000000</td>\n",
       "      <td>7.000000</td>\n",
       "      <td>20.000000</td>\n",
       "      <td>1958.675000</td>\n",
       "      <td>25.000000</td>\n",
       "      <td>374.331962</td>\n",
       "      <td>258.352635</td>\n",
       "      <td>466.681112</td>\n",
       "      <td>...</td>\n",
       "      <td>5.000000</td>\n",
       "      <td>42.000000</td>\n",
       "      <td>1.000000</td>\n",
       "      <td>1.000000</td>\n",
       "      <td>1.000000</td>\n",
       "      <td>1.000000</td>\n",
       "      <td>1.000000</td>\n",
       "      <td>1.000000</td>\n",
       "      <td>1.000000</td>\n",
       "      <td>1.000000</td>\n",
       "    </tr>\n",
       "    <tr>\n",
       "      <th>max</th>\n",
       "      <td>2.383470e+07</td>\n",
       "      <td>15204.633333</td>\n",
       "      <td>82.000000</td>\n",
       "      <td>97.000000</td>\n",
       "      <td>34.000000</td>\n",
       "      <td>4998.070000</td>\n",
       "      <td>33.000000</td>\n",
       "      <td>29986.742104</td>\n",
       "      <td>1005.847285</td>\n",
       "      <td>1349.264887</td>\n",
       "      <td>...</td>\n",
       "      <td>9.000000</td>\n",
       "      <td>56.714286</td>\n",
       "      <td>1.000000</td>\n",
       "      <td>1.000000</td>\n",
       "      <td>1.000000</td>\n",
       "      <td>1.000000</td>\n",
       "      <td>1.000000</td>\n",
       "      <td>1.000000</td>\n",
       "      <td>1.000000</td>\n",
       "      <td>1.000000</td>\n",
       "    </tr>\n",
       "    <tr>\n",
       "      <th>iqr</th>\n",
       "      <td>5.357491e+04</td>\n",
       "      <td>4357.304375</td>\n",
       "      <td>4.000000</td>\n",
       "      <td>3.000000</td>\n",
       "      <td>13.000000</td>\n",
       "      <td>1393.642500</td>\n",
       "      <td>13.000000</td>\n",
       "      <td>333.166851</td>\n",
       "      <td>160.794051</td>\n",
       "      <td>182.125130</td>\n",
       "      <td>...</td>\n",
       "      <td>3.250000</td>\n",
       "      <td>16.125000</td>\n",
       "      <td>1.000000</td>\n",
       "      <td>1.000000</td>\n",
       "      <td>1.000000</td>\n",
       "      <td>1.000000</td>\n",
       "      <td>1.000000</td>\n",
       "      <td>1.000000</td>\n",
       "      <td>1.000000</td>\n",
       "      <td>1.000000</td>\n",
       "    </tr>\n",
       "  </tbody>\n",
       "</table>\n",
       "<p>9 rows × 24 columns</p>\n",
       "</div>\n",
       "      <button class=\"colab-df-convert\" onclick=\"convertToInteractive('df-2f5463d5-cf9a-43c3-a18a-ad90d5aa4fa5')\"\n",
       "              title=\"Convert this dataframe to an interactive table.\"\n",
       "              style=\"display:none;\">\n",
       "        \n",
       "  <svg xmlns=\"http://www.w3.org/2000/svg\" height=\"24px\"viewBox=\"0 0 24 24\"\n",
       "       width=\"24px\">\n",
       "    <path d=\"M0 0h24v24H0V0z\" fill=\"none\"/>\n",
       "    <path d=\"M18.56 5.44l.94 2.06.94-2.06 2.06-.94-2.06-.94-.94-2.06-.94 2.06-2.06.94zm-11 1L8.5 8.5l.94-2.06 2.06-.94-2.06-.94L8.5 2.5l-.94 2.06-2.06.94zm10 10l.94 2.06.94-2.06 2.06-.94-2.06-.94-.94-2.06-.94 2.06-2.06.94z\"/><path d=\"M17.41 7.96l-1.37-1.37c-.4-.4-.92-.59-1.43-.59-.52 0-1.04.2-1.43.59L10.3 9.45l-7.72 7.72c-.78.78-.78 2.05 0 2.83L4 21.41c.39.39.9.59 1.41.59.51 0 1.02-.2 1.41-.59l7.78-7.78 2.81-2.81c.8-.78.8-2.07 0-2.86zM5.41 20L4 18.59l7.72-7.72 1.47 1.35L5.41 20z\"/>\n",
       "  </svg>\n",
       "      </button>\n",
       "      \n",
       "  <style>\n",
       "    .colab-df-container {\n",
       "      display:flex;\n",
       "      flex-wrap:wrap;\n",
       "      gap: 12px;\n",
       "    }\n",
       "\n",
       "    .colab-df-convert {\n",
       "      background-color: #E8F0FE;\n",
       "      border: none;\n",
       "      border-radius: 50%;\n",
       "      cursor: pointer;\n",
       "      display: none;\n",
       "      fill: #1967D2;\n",
       "      height: 32px;\n",
       "      padding: 0 0 0 0;\n",
       "      width: 32px;\n",
       "    }\n",
       "\n",
       "    .colab-df-convert:hover {\n",
       "      background-color: #E2EBFA;\n",
       "      box-shadow: 0px 1px 2px rgba(60, 64, 67, 0.3), 0px 1px 3px 1px rgba(60, 64, 67, 0.15);\n",
       "      fill: #174EA6;\n",
       "    }\n",
       "\n",
       "    [theme=dark] .colab-df-convert {\n",
       "      background-color: #3B4455;\n",
       "      fill: #D2E3FC;\n",
       "    }\n",
       "\n",
       "    [theme=dark] .colab-df-convert:hover {\n",
       "      background-color: #434B5C;\n",
       "      box-shadow: 0px 1px 3px 1px rgba(0, 0, 0, 0.15);\n",
       "      filter: drop-shadow(0px 1px 2px rgba(0, 0, 0, 0.3));\n",
       "      fill: #FFFFFF;\n",
       "    }\n",
       "  </style>\n",
       "\n",
       "      <script>\n",
       "        const buttonEl =\n",
       "          document.querySelector('#df-2f5463d5-cf9a-43c3-a18a-ad90d5aa4fa5 button.colab-df-convert');\n",
       "        buttonEl.style.display =\n",
       "          google.colab.kernel.accessAllowed ? 'block' : 'none';\n",
       "\n",
       "        async function convertToInteractive(key) {\n",
       "          const element = document.querySelector('#df-2f5463d5-cf9a-43c3-a18a-ad90d5aa4fa5');\n",
       "          const dataTable =\n",
       "            await google.colab.kernel.invokeFunction('convertToInteractive',\n",
       "                                                     [key], {});\n",
       "          if (!dataTable) return;\n",
       "\n",
       "          const docLinkHtml = 'Like what you see? Visit the ' +\n",
       "            '<a target=\"_blank\" href=https://colab.research.google.com/notebooks/data_table.ipynb>data table notebook</a>'\n",
       "            + ' to learn more about interactive tables.';\n",
       "          element.innerHTML = '';\n",
       "          dataTable['output_type'] = 'display_data';\n",
       "          await google.colab.output.renderOutput(dataTable, element);\n",
       "          const docLink = document.createElement('div');\n",
       "          docLink.innerHTML = docLinkHtml;\n",
       "          element.appendChild(docLink);\n",
       "        }\n",
       "      </script>\n",
       "    </div>\n",
       "  </div>\n",
       "  "
      ],
      "text/plain": [
       "       Annual_Income  Monthly_Inhand_Salary  Num_Bank_Accounts  \\\n",
       "count   1.179800e+04            9988.000000       11798.000000   \n",
       "mean    1.611088e+05            4197.572662           5.396593   \n",
       "std     1.288669e+06            3182.264794           2.863859   \n",
       "min     7.005930e+03             303.645417           0.000000   \n",
       "25%     1.945599e+04            1623.766042           3.000000   \n",
       "50%     3.772600e+04            3097.755000           5.500000   \n",
       "75%     7.303090e+04            5981.070417           7.000000   \n",
       "max     2.383470e+07           15204.633333          82.000000   \n",
       "iqr     5.357491e+04            4357.304375           4.000000   \n",
       "\n",
       "       Num_Credit_Card  Interest_Rate  Outstanding_Debt  Credit_Age_in_Years  \\\n",
       "count     11798.000000   11798.000000      11798.000000         10741.000000   \n",
       "mean          5.628920      14.555518       1429.086143            18.216926   \n",
       "std           3.074303       8.749222       1158.394988             8.311759   \n",
       "min           0.000000       1.000000          0.230000             0.000000   \n",
       "25%           4.000000       7.000000        565.032500            12.000000   \n",
       "50%           5.000000      13.000000       1167.065000            18.000000   \n",
       "75%           7.000000      20.000000       1958.675000            25.000000   \n",
       "max          97.000000      34.000000       4998.070000            33.000000   \n",
       "iqr           3.000000      13.000000       1393.642500            13.000000   \n",
       "\n",
       "       Avg_EMI_per_month  Avg_Invested_per_month  Avg_Balance_per_month  ...  \\\n",
       "count       11798.000000            11798.000000           11798.000000  ...   \n",
       "mean         1408.208501              195.878474             403.564746  ...   \n",
       "std          2924.563370              136.859849             175.814977  ...   \n",
       "min             0.000000               14.528879              92.841401  ...   \n",
       "25%            41.165111               97.558584             284.555983  ...   \n",
       "50%           105.465028              152.193782             339.311275  ...   \n",
       "75%           374.331962              258.352635             466.681112  ...   \n",
       "max         29986.742104             1005.847285            1349.264887  ...   \n",
       "iqr           333.166851              160.794051             182.125130  ...   \n",
       "\n",
       "       Avg_NumLoan_per_month      True_Age  Auto_Loan_Flag  \\\n",
       "count           11798.000000  11149.000000    11798.000000   \n",
       "mean                3.384864     34.329462        0.306238   \n",
       "std                 2.360998     10.147193        0.460949   \n",
       "min                 0.000000     18.000000        0.000000   \n",
       "25%                 1.750000     25.875000        0.000000   \n",
       "50%                 3.000000     34.000000        0.000000   \n",
       "75%                 5.000000     42.000000        1.000000   \n",
       "max                 9.000000     56.714286        1.000000   \n",
       "iqr                 3.250000     16.125000        1.000000   \n",
       "\n",
       "       Credit_Builder_Flag  Student_Loan_Flag  Mortagage_Loan_Flag  \\\n",
       "count         11798.000000       11798.000000         11798.000000   \n",
       "mean              0.317766           0.311833             0.314969   \n",
       "std               0.465628           0.463261             0.464523   \n",
       "min               0.000000           0.000000             0.000000   \n",
       "25%               0.000000           0.000000             0.000000   \n",
       "50%               0.000000           0.000000             0.000000   \n",
       "75%               1.000000           1.000000             1.000000   \n",
       "max               1.000000           1.000000             1.000000   \n",
       "iqr               1.000000           1.000000             1.000000   \n",
       "\n",
       "       Home_Equity_Flag  Debt_Consolidation_Flag   PayDay_Flag  \\\n",
       "count      11798.000000             11798.000000  11798.000000   \n",
       "mean           0.312172                 0.310561      0.320987   \n",
       "std            0.463399                 0.462743      0.466875   \n",
       "min            0.000000                 0.000000      0.000000   \n",
       "25%            0.000000                 0.000000      0.000000   \n",
       "50%            0.000000                 0.000000      0.000000   \n",
       "75%            1.000000                 1.000000      1.000000   \n",
       "max            1.000000                 1.000000      1.000000   \n",
       "iqr            1.000000                 1.000000      1.000000   \n",
       "\n",
       "       Personal_Loan_Flag  \n",
       "count        11798.000000  \n",
       "mean             0.311070  \n",
       "std              0.462951  \n",
       "min              0.000000  \n",
       "25%              0.000000  \n",
       "50%              0.000000  \n",
       "75%              1.000000  \n",
       "max              1.000000  \n",
       "iqr              1.000000  \n",
       "\n",
       "[9 rows x 24 columns]"
      ]
     },
     "execution_count": 230,
     "metadata": {},
     "output_type": "execute_result"
    }
   ],
   "source": [
    "df_stat = credit_df_new.describe()\n",
    "df_stat.loc['iqr'] = df_stat.apply(lambda x: x[\"75%\"]-x[\"25%\"])\n",
    "#df_stat.loc['lowbound'] = df_stat.apply(lambda x: x[\"25%\"]-x[\"iqr\"]*1.5)\n",
    "#df_stat.loc['upbound'] = df_stat.apply(lambda x: x[\"75%\"]+x[\"iqr\"]*1.5)\n",
    "df_stat"
   ]
  },
  {
   "cell_type": "code",
   "execution_count": null,
   "metadata": {
    "colab": {
     "base_uri": "https://localhost:8080/"
    },
    "id": "l31Yiaeh98fc",
    "outputId": "0949c7a9-f475-4c75-a32f-40b87b2b2ce5"
   },
   "outputs": [
    {
     "data": {
      "text/plain": [
       "ID                               0\n",
       "Customer_ID                      0\n",
       "Occupation                       0\n",
       "Annual_Income                    0\n",
       "Monthly_Inhand_Salary         1810\n",
       "Num_Bank_Accounts                0\n",
       "Num_Credit_Card                  0\n",
       "Interest_Rate                    0\n",
       "Type_of_Loan                  1344\n",
       "Changed_Credit_Limit             0\n",
       "Outstanding_Debt                 0\n",
       "Credit_Score                     0\n",
       "Credit_Age_in_Years           1057\n",
       "Avg_EMI_per_month                0\n",
       "Avg_Invested_per_month           0\n",
       "Avg_Balance_per_month            0\n",
       "Avg_CreditUtil_per_month         0\n",
       "Avg_DelayPymnt_per_month         0\n",
       "Avg_CreditInq_per_month          0\n",
       "Avg_DelayDueDate_per_month       0\n",
       "Avg_NumLoan_per_month            0\n",
       "True_Age                       649\n",
       "Mode_Payment_Min_Amount          0\n",
       "Mode_Behavior_binary             0\n",
       "Auto_Loan_Flag                   0\n",
       "Credit_Builder_Flag              0\n",
       "Student_Loan_Flag                0\n",
       "Mortagage_Loan_Flag              0\n",
       "Home_Equity_Flag                 0\n",
       "Debt_Consolidation_Flag          0\n",
       "PayDay_Flag                      0\n",
       "Personal_Loan_Flag               0\n",
       "Credit_Ad                        0\n",
       "dtype: int64"
      ]
     },
     "execution_count": 231,
     "metadata": {},
     "output_type": "execute_result"
    }
   ],
   "source": [
    "credit_df_new.isnull().sum()"
   ]
  },
  {
   "cell_type": "code",
   "execution_count": null,
   "metadata": {
    "id": "UpK8MmEErGX_"
   },
   "outputs": [],
   "source": [
    "## Always an option to throw out nulls, but will attempt imputations\n",
    "# after data split to avoid any test data information leakage\n",
    "# hence corrupting our model by having been trained on data that has\n",
    "# information (nearest neighbors or median/mean) from test data:\n",
    "\n",
    "##credit_df_new = credit_df_new.dropna()"
   ]
  },
  {
   "cell_type": "code",
   "execution_count": null,
   "metadata": {
    "colab": {
     "base_uri": "https://localhost:8080/"
    },
    "id": "aBdpplvIF0VK",
    "outputId": "a6229423-1ee1-4f2e-c8f4-d80846402091"
   },
   "outputs": [
    {
     "data": {
      "text/plain": [
       "7        High_Spend\n",
       "15       High_Spend\n",
       "23       High_Spend\n",
       "31        Low_Spend\n",
       "39       High_Spend\n",
       "            ...    \n",
       "99967    High_Spend\n",
       "99975     Low_Spend\n",
       "99983     Low_Spend\n",
       "99991     Low_Spend\n",
       "99999    High_Spend\n",
       "Name: Mode_Behavior_binary, Length: 11798, dtype: object"
      ]
     },
     "execution_count": 233,
     "metadata": {},
     "output_type": "execute_result"
    }
   ],
   "source": [
    "credit_df_new['Mode_Behavior_binary']"
   ]
  },
  {
   "cell_type": "code",
   "execution_count": null,
   "metadata": {
    "id": "rPgwVqx5c9K1"
   },
   "outputs": [],
   "source": [
    "# Define categorical and numerical features:\n",
    "\n",
    "\n",
    "categorical_features_credit = ['Occupation', 'Mode_Behavior_binary', \n",
    "                               'Mode_Payment_Min_Amount',\n",
    "                               'Auto_Loan_Flag', 'Credit_Builder_Flag', \n",
    "                               'Student_Loan_Flag', 'Mortagage_Loan_Flag', \n",
    "                               'Home_Equity_Flag','Debt_Consolidation_Flag',\n",
    "                               'PayDay_Flag', 'Personal_Loan_Flag']\n",
    "numerical_features_credit = ['Annual_Income', 'Num_Bank_Accounts', \n",
    "                             'Num_Credit_Card', 'Interest_Rate',\n",
    "                             'Outstanding_Debt', 'Credit_Age_in_Years',\n",
    "                             'Avg_CreditInq_per_month', \n",
    "                             'Avg_EMI_per_month', \n",
    "                             'Avg_Invested_per_month', 'Avg_Balance_per_month',\n",
    "                             'Avg_CreditUtil_per_month',\n",
    "                             'True_Age', 'Monthly_Inhand_Salary']\n",
    "\n",
    "# Generate dataframes with the different features\n",
    "\n",
    "Xcat_credit_df = credit_df_new[categorical_features_credit]\n",
    "\n",
    "Xnum_credit_df = credit_df_new[numerical_features_credit]\n",
    "\n",
    "# Combine the two in order to maintain indices, used merge function\n",
    "# although it should be automatic even with the join command, as\n",
    "# both come from the same dataframe with no modifications.\n",
    "\n",
    "# Create X and y for splitting and further pre-processing:\n",
    "\n",
    "X_credit_df = pd.merge(Xcat_credit_df, Xnum_credit_df, left_index=True, \n",
    "                       right_index=True)\n",
    "\n",
    "y_credit_df = credit_df_new[['Credit_Ad']]"
   ]
  },
  {
   "cell_type": "code",
   "execution_count": null,
   "metadata": {
    "id": "2bXXFq9zPWOb"
   },
   "outputs": [],
   "source": [
    "# Split data:\n",
    "# Stratify tells us to randomly select samples for each train and test\n",
    "# set while maintaining the proportions of Credit_Ad classes\n",
    "# Since the original dataset contains about 20% yes and 80% No\n",
    "# We should expect to see these same proportions in the ylabel for train\n",
    "# and test:\n",
    "\n",
    "X_train_credit, X_test_credit, y_train_credit, y_test_credit = train_test_split(X_credit_df,\n",
    "                                                                        y_credit_df,\n",
    "                                                                        stratify = y_credit_df['Credit_Ad'],\n",
    "                                                                test_size = 0.1,\n",
    "                                                              random_state = 42)"
   ]
  },
  {
   "cell_type": "code",
   "execution_count": null,
   "metadata": {
    "colab": {
     "base_uri": "https://localhost:8080/"
    },
    "id": "P6eIqC-kEh89",
    "outputId": "f15fcff4-e035-4e9f-8bac-fec4cc6a5f95"
   },
   "outputs": [
    {
     "name": "stdout",
     "output_type": "stream",
     "text": [
      "<class 'pandas.core.frame.DataFrame'>\n",
      "Int64Index: 10618 entries, 38775 to 38839\n",
      "Data columns (total 24 columns):\n",
      " #   Column                    Non-Null Count  Dtype   \n",
      "---  ------                    --------------  -----   \n",
      " 0   Occupation                10618 non-null  category\n",
      " 1   Mode_Behavior_binary      10618 non-null  object  \n",
      " 2   Mode_Payment_Min_Amount   10618 non-null  category\n",
      " 3   Auto_Loan_Flag            10618 non-null  int64   \n",
      " 4   Credit_Builder_Flag       10618 non-null  int64   \n",
      " 5   Student_Loan_Flag         10618 non-null  int64   \n",
      " 6   Mortagage_Loan_Flag       10618 non-null  int64   \n",
      " 7   Home_Equity_Flag          10618 non-null  int64   \n",
      " 8   Debt_Consolidation_Flag   10618 non-null  int64   \n",
      " 9   PayDay_Flag               10618 non-null  int64   \n",
      " 10  Personal_Loan_Flag        10618 non-null  int64   \n",
      " 11  Annual_Income             10618 non-null  float64 \n",
      " 12  Num_Bank_Accounts         10618 non-null  int64   \n",
      " 13  Num_Credit_Card           10618 non-null  int64   \n",
      " 14  Interest_Rate             10618 non-null  int64   \n",
      " 15  Outstanding_Debt          10618 non-null  float64 \n",
      " 16  Credit_Age_in_Years       9664 non-null   float64 \n",
      " 17  Avg_CreditInq_per_month   10618 non-null  float64 \n",
      " 18  Avg_EMI_per_month         10618 non-null  float64 \n",
      " 19  Avg_Invested_per_month    10618 non-null  float64 \n",
      " 20  Avg_Balance_per_month     10618 non-null  float64 \n",
      " 21  Avg_CreditUtil_per_month  10618 non-null  float64 \n",
      " 22  True_Age                  10037 non-null  float64 \n",
      " 23  Monthly_Inhand_Salary     8965 non-null   float64 \n",
      "dtypes: category(2), float64(10), int64(11), object(1)\n",
      "memory usage: 1.9+ MB\n"
     ]
    }
   ],
   "source": [
    "X_train_credit.info()"
   ]
  },
  {
   "cell_type": "markdown",
   "metadata": {
    "id": "wI_cltMIzSi_"
   },
   "source": [
    "And indeed, we see the same yes and no class proportions in training and test y label sets:"
   ]
  },
  {
   "cell_type": "code",
   "execution_count": null,
   "metadata": {
    "colab": {
     "base_uri": "https://localhost:8080/"
    },
    "id": "4oPwZPrbf5c0",
    "outputId": "7e080508-9e4e-46e9-935c-33fb3e67a17b"
   },
   "outputs": [
    {
     "data": {
      "text/plain": [
       "Credit_Ad\n",
       "No           8580\n",
       "Yes          2038\n",
       "dtype: int64"
      ]
     },
     "execution_count": 237,
     "metadata": {},
     "output_type": "execute_result"
    }
   ],
   "source": [
    "y_train_credit.value_counts()"
   ]
  },
  {
   "cell_type": "code",
   "execution_count": null,
   "metadata": {
    "colab": {
     "base_uri": "https://localhost:8080/"
    },
    "id": "HbCuTQK9gGc6",
    "outputId": "4fa934da-1bb9-44da-fa7d-bbff2b2e4596"
   },
   "outputs": [
    {
     "data": {
      "text/plain": [
       "Credit_Ad\n",
       "No           954\n",
       "Yes          226\n",
       "dtype: int64"
      ]
     },
     "execution_count": 238,
     "metadata": {},
     "output_type": "execute_result"
    }
   ],
   "source": [
    "y_test_credit.value_counts()"
   ]
  },
  {
   "cell_type": "code",
   "execution_count": null,
   "metadata": {
    "colab": {
     "base_uri": "https://localhost:8080/"
    },
    "id": "eKwQAvn9gLCO",
    "outputId": "daa9df4b-a985-46ff-943b-b496b856b816"
   },
   "outputs": [
    {
     "data": {
      "text/plain": [
       "19.197437829691033"
      ]
     },
     "execution_count": 239,
     "metadata": {},
     "output_type": "execute_result"
    }
   ],
   "source": [
    "#manually check the distribution percentage of the training data\n",
    "(2038/(2036+8580))*100"
   ]
  },
  {
   "cell_type": "code",
   "execution_count": null,
   "metadata": {
    "colab": {
     "base_uri": "https://localhost:8080/"
    },
    "id": "kpfUGPCagTq4",
    "outputId": "4f3e8b22-1b07-44ba-be88-980d8439f6d7"
   },
   "outputs": [
    {
     "data": {
      "text/plain": [
       "19.152542372881356"
      ]
     },
     "execution_count": 240,
     "metadata": {},
     "output_type": "execute_result"
    }
   ],
   "source": [
    "#manually check the distribution percentage of the test data\n",
    "(226/(226+954))*100"
   ]
  },
  {
   "cell_type": "code",
   "execution_count": null,
   "metadata": {
    "colab": {
     "base_uri": "https://localhost:8080/",
     "height": 299
    },
    "id": "KwGR6mdi985-",
    "outputId": "0a4ef026-36d4-4f0f-8ec3-16f933c31828"
   },
   "outputs": [
    {
     "data": {
      "text/html": [
       "\n",
       "  <div id=\"df-a6a16658-8dac-4131-a75e-41967eaad6b8\">\n",
       "    <div class=\"colab-df-container\">\n",
       "      <div>\n",
       "<style scoped>\n",
       "    .dataframe tbody tr th:only-of-type {\n",
       "        vertical-align: middle;\n",
       "    }\n",
       "\n",
       "    .dataframe tbody tr th {\n",
       "        vertical-align: top;\n",
       "    }\n",
       "\n",
       "    .dataframe thead th {\n",
       "        text-align: right;\n",
       "    }\n",
       "</style>\n",
       "<table border=\"1\" class=\"dataframe\">\n",
       "  <thead>\n",
       "    <tr style=\"text-align: right;\">\n",
       "      <th></th>\n",
       "      <th>Occupation</th>\n",
       "      <th>Mode_Behavior_binary</th>\n",
       "      <th>Mode_Payment_Min_Amount</th>\n",
       "      <th>Auto_Loan_Flag</th>\n",
       "      <th>Credit_Builder_Flag</th>\n",
       "      <th>Student_Loan_Flag</th>\n",
       "      <th>Mortagage_Loan_Flag</th>\n",
       "      <th>Home_Equity_Flag</th>\n",
       "      <th>Debt_Consolidation_Flag</th>\n",
       "      <th>PayDay_Flag</th>\n",
       "      <th>...</th>\n",
       "      <th>Interest_Rate</th>\n",
       "      <th>Outstanding_Debt</th>\n",
       "      <th>Credit_Age_in_Years</th>\n",
       "      <th>Avg_CreditInq_per_month</th>\n",
       "      <th>Avg_EMI_per_month</th>\n",
       "      <th>Avg_Invested_per_month</th>\n",
       "      <th>Avg_Balance_per_month</th>\n",
       "      <th>Avg_CreditUtil_per_month</th>\n",
       "      <th>True_Age</th>\n",
       "      <th>Monthly_Inhand_Salary</th>\n",
       "    </tr>\n",
       "  </thead>\n",
       "  <tbody>\n",
       "    <tr>\n",
       "      <th>38775</th>\n",
       "      <td>Developer</td>\n",
       "      <td>High_Spend</td>\n",
       "      <td>['No']</td>\n",
       "      <td>1</td>\n",
       "      <td>0</td>\n",
       "      <td>0</td>\n",
       "      <td>1</td>\n",
       "      <td>0</td>\n",
       "      <td>0</td>\n",
       "      <td>1</td>\n",
       "      <td>...</td>\n",
       "      <td>19</td>\n",
       "      <td>149.44</td>\n",
       "      <td>18.0</td>\n",
       "      <td>1.000000</td>\n",
       "      <td>7478.005877</td>\n",
       "      <td>305.868813</td>\n",
       "      <td>592.933017</td>\n",
       "      <td>35.196448</td>\n",
       "      <td>48.0</td>\n",
       "      <td>9694.486667</td>\n",
       "    </tr>\n",
       "    <tr>\n",
       "      <th>69079</th>\n",
       "      <td>Teacher</td>\n",
       "      <td>High_Spend</td>\n",
       "      <td>['No']</td>\n",
       "      <td>1</td>\n",
       "      <td>0</td>\n",
       "      <td>0</td>\n",
       "      <td>0</td>\n",
       "      <td>1</td>\n",
       "      <td>0</td>\n",
       "      <td>0</td>\n",
       "      <td>...</td>\n",
       "      <td>10</td>\n",
       "      <td>421.54</td>\n",
       "      <td>26.0</td>\n",
       "      <td>5.428571</td>\n",
       "      <td>59.372147</td>\n",
       "      <td>224.105713</td>\n",
       "      <td>555.486140</td>\n",
       "      <td>32.093604</td>\n",
       "      <td>31.4</td>\n",
       "      <td>5802.140000</td>\n",
       "    </tr>\n",
       "    <tr>\n",
       "      <th>90623</th>\n",
       "      <td>Accountant</td>\n",
       "      <td>High_Spend</td>\n",
       "      <td>['No']</td>\n",
       "      <td>1</td>\n",
       "      <td>0</td>\n",
       "      <td>0</td>\n",
       "      <td>0</td>\n",
       "      <td>0</td>\n",
       "      <td>1</td>\n",
       "      <td>0</td>\n",
       "      <td>...</td>\n",
       "      <td>12</td>\n",
       "      <td>1122.78</td>\n",
       "      <td>NaN</td>\n",
       "      <td>203.500000</td>\n",
       "      <td>3098.254403</td>\n",
       "      <td>318.026353</td>\n",
       "      <td>655.096569</td>\n",
       "      <td>34.082373</td>\n",
       "      <td>51.0</td>\n",
       "      <td>8438.955000</td>\n",
       "    </tr>\n",
       "    <tr>\n",
       "      <th>2975</th>\n",
       "      <td>Scientist</td>\n",
       "      <td>Low_Spend</td>\n",
       "      <td>['Yes']</td>\n",
       "      <td>1</td>\n",
       "      <td>0</td>\n",
       "      <td>0</td>\n",
       "      <td>0</td>\n",
       "      <td>1</td>\n",
       "      <td>0</td>\n",
       "      <td>1</td>\n",
       "      <td>...</td>\n",
       "      <td>18</td>\n",
       "      <td>516.76</td>\n",
       "      <td>18.0</td>\n",
       "      <td>7.375000</td>\n",
       "      <td>121.195063</td>\n",
       "      <td>154.242553</td>\n",
       "      <td>266.393760</td>\n",
       "      <td>29.460877</td>\n",
       "      <td>32.0</td>\n",
       "      <td>2031.587766</td>\n",
       "    </tr>\n",
       "    <tr>\n",
       "      <th>64191</th>\n",
       "      <td>Manager</td>\n",
       "      <td>Low_Spend</td>\n",
       "      <td>['No']</td>\n",
       "      <td>1</td>\n",
       "      <td>0</td>\n",
       "      <td>1</td>\n",
       "      <td>1</td>\n",
       "      <td>0</td>\n",
       "      <td>0</td>\n",
       "      <td>1</td>\n",
       "      <td>...</td>\n",
       "      <td>5</td>\n",
       "      <td>838.13</td>\n",
       "      <td>NaN</td>\n",
       "      <td>3.000000</td>\n",
       "      <td>38.533511</td>\n",
       "      <td>139.191457</td>\n",
       "      <td>261.306115</td>\n",
       "      <td>35.396913</td>\n",
       "      <td>31.0</td>\n",
       "      <td>1552.810833</td>\n",
       "    </tr>\n",
       "  </tbody>\n",
       "</table>\n",
       "<p>5 rows × 24 columns</p>\n",
       "</div>\n",
       "      <button class=\"colab-df-convert\" onclick=\"convertToInteractive('df-a6a16658-8dac-4131-a75e-41967eaad6b8')\"\n",
       "              title=\"Convert this dataframe to an interactive table.\"\n",
       "              style=\"display:none;\">\n",
       "        \n",
       "  <svg xmlns=\"http://www.w3.org/2000/svg\" height=\"24px\"viewBox=\"0 0 24 24\"\n",
       "       width=\"24px\">\n",
       "    <path d=\"M0 0h24v24H0V0z\" fill=\"none\"/>\n",
       "    <path d=\"M18.56 5.44l.94 2.06.94-2.06 2.06-.94-2.06-.94-.94-2.06-.94 2.06-2.06.94zm-11 1L8.5 8.5l.94-2.06 2.06-.94-2.06-.94L8.5 2.5l-.94 2.06-2.06.94zm10 10l.94 2.06.94-2.06 2.06-.94-2.06-.94-.94-2.06-.94 2.06-2.06.94z\"/><path d=\"M17.41 7.96l-1.37-1.37c-.4-.4-.92-.59-1.43-.59-.52 0-1.04.2-1.43.59L10.3 9.45l-7.72 7.72c-.78.78-.78 2.05 0 2.83L4 21.41c.39.39.9.59 1.41.59.51 0 1.02-.2 1.41-.59l7.78-7.78 2.81-2.81c.8-.78.8-2.07 0-2.86zM5.41 20L4 18.59l7.72-7.72 1.47 1.35L5.41 20z\"/>\n",
       "  </svg>\n",
       "      </button>\n",
       "      \n",
       "  <style>\n",
       "    .colab-df-container {\n",
       "      display:flex;\n",
       "      flex-wrap:wrap;\n",
       "      gap: 12px;\n",
       "    }\n",
       "\n",
       "    .colab-df-convert {\n",
       "      background-color: #E8F0FE;\n",
       "      border: none;\n",
       "      border-radius: 50%;\n",
       "      cursor: pointer;\n",
       "      display: none;\n",
       "      fill: #1967D2;\n",
       "      height: 32px;\n",
       "      padding: 0 0 0 0;\n",
       "      width: 32px;\n",
       "    }\n",
       "\n",
       "    .colab-df-convert:hover {\n",
       "      background-color: #E2EBFA;\n",
       "      box-shadow: 0px 1px 2px rgba(60, 64, 67, 0.3), 0px 1px 3px 1px rgba(60, 64, 67, 0.15);\n",
       "      fill: #174EA6;\n",
       "    }\n",
       "\n",
       "    [theme=dark] .colab-df-convert {\n",
       "      background-color: #3B4455;\n",
       "      fill: #D2E3FC;\n",
       "    }\n",
       "\n",
       "    [theme=dark] .colab-df-convert:hover {\n",
       "      background-color: #434B5C;\n",
       "      box-shadow: 0px 1px 3px 1px rgba(0, 0, 0, 0.15);\n",
       "      filter: drop-shadow(0px 1px 2px rgba(0, 0, 0, 0.3));\n",
       "      fill: #FFFFFF;\n",
       "    }\n",
       "  </style>\n",
       "\n",
       "      <script>\n",
       "        const buttonEl =\n",
       "          document.querySelector('#df-a6a16658-8dac-4131-a75e-41967eaad6b8 button.colab-df-convert');\n",
       "        buttonEl.style.display =\n",
       "          google.colab.kernel.accessAllowed ? 'block' : 'none';\n",
       "\n",
       "        async function convertToInteractive(key) {\n",
       "          const element = document.querySelector('#df-a6a16658-8dac-4131-a75e-41967eaad6b8');\n",
       "          const dataTable =\n",
       "            await google.colab.kernel.invokeFunction('convertToInteractive',\n",
       "                                                     [key], {});\n",
       "          if (!dataTable) return;\n",
       "\n",
       "          const docLinkHtml = 'Like what you see? Visit the ' +\n",
       "            '<a target=\"_blank\" href=https://colab.research.google.com/notebooks/data_table.ipynb>data table notebook</a>'\n",
       "            + ' to learn more about interactive tables.';\n",
       "          element.innerHTML = '';\n",
       "          dataTable['output_type'] = 'display_data';\n",
       "          await google.colab.output.renderOutput(dataTable, element);\n",
       "          const docLink = document.createElement('div');\n",
       "          docLink.innerHTML = docLinkHtml;\n",
       "          element.appendChild(docLink);\n",
       "        }\n",
       "      </script>\n",
       "    </div>\n",
       "  </div>\n",
       "  "
      ],
      "text/plain": [
       "       Occupation Mode_Behavior_binary Mode_Payment_Min_Amount  \\\n",
       "38775   Developer           High_Spend                  ['No']   \n",
       "69079     Teacher           High_Spend                  ['No']   \n",
       "90623  Accountant           High_Spend                  ['No']   \n",
       "2975    Scientist            Low_Spend                 ['Yes']   \n",
       "64191     Manager            Low_Spend                  ['No']   \n",
       "\n",
       "       Auto_Loan_Flag  Credit_Builder_Flag  Student_Loan_Flag  \\\n",
       "38775               1                    0                  0   \n",
       "69079               1                    0                  0   \n",
       "90623               1                    0                  0   \n",
       "2975                1                    0                  0   \n",
       "64191               1                    0                  1   \n",
       "\n",
       "       Mortagage_Loan_Flag  Home_Equity_Flag  Debt_Consolidation_Flag  \\\n",
       "38775                    1                 0                        0   \n",
       "69079                    0                 1                        0   \n",
       "90623                    0                 0                        1   \n",
       "2975                     0                 1                        0   \n",
       "64191                    1                 0                        0   \n",
       "\n",
       "       PayDay_Flag  ...  Interest_Rate  Outstanding_Debt  Credit_Age_in_Years  \\\n",
       "38775            1  ...             19            149.44                 18.0   \n",
       "69079            0  ...             10            421.54                 26.0   \n",
       "90623            0  ...             12           1122.78                  NaN   \n",
       "2975             1  ...             18            516.76                 18.0   \n",
       "64191            1  ...              5            838.13                  NaN   \n",
       "\n",
       "       Avg_CreditInq_per_month  Avg_EMI_per_month  Avg_Invested_per_month  \\\n",
       "38775                 1.000000        7478.005877              305.868813   \n",
       "69079                 5.428571          59.372147              224.105713   \n",
       "90623               203.500000        3098.254403              318.026353   \n",
       "2975                  7.375000         121.195063              154.242553   \n",
       "64191                 3.000000          38.533511              139.191457   \n",
       "\n",
       "       Avg_Balance_per_month  Avg_CreditUtil_per_month  True_Age  \\\n",
       "38775             592.933017                 35.196448      48.0   \n",
       "69079             555.486140                 32.093604      31.4   \n",
       "90623             655.096569                 34.082373      51.0   \n",
       "2975              266.393760                 29.460877      32.0   \n",
       "64191             261.306115                 35.396913      31.0   \n",
       "\n",
       "       Monthly_Inhand_Salary  \n",
       "38775            9694.486667  \n",
       "69079            5802.140000  \n",
       "90623            8438.955000  \n",
       "2975             2031.587766  \n",
       "64191            1552.810833  \n",
       "\n",
       "[5 rows x 24 columns]"
      ]
     },
     "execution_count": 241,
     "metadata": {},
     "output_type": "execute_result"
    }
   ],
   "source": [
    "##X_train_credit[numerical_features_credit].astype(float)\n",
    "##X_test_credit[numerical_features_credit].astype(float)\n",
    "\n",
    "X_train_credit.head()"
   ]
  },
  {
   "cell_type": "code",
   "execution_count": null,
   "metadata": {
    "colab": {
     "base_uri": "https://localhost:8080/"
    },
    "id": "wVI7Tyo6DJoK",
    "outputId": "fdbf9a5b-af13-4681-e2de-8ab76235ee65"
   },
   "outputs": [
    {
     "data": {
      "text/plain": [
       "Occupation                     0\n",
       "Mode_Behavior_binary           0\n",
       "Mode_Payment_Min_Amount        0\n",
       "Auto_Loan_Flag                 0\n",
       "Credit_Builder_Flag            0\n",
       "Student_Loan_Flag              0\n",
       "Mortagage_Loan_Flag            0\n",
       "Home_Equity_Flag               0\n",
       "Debt_Consolidation_Flag        0\n",
       "PayDay_Flag                    0\n",
       "Personal_Loan_Flag             0\n",
       "Annual_Income                  0\n",
       "Num_Bank_Accounts              0\n",
       "Num_Credit_Card                0\n",
       "Interest_Rate                  0\n",
       "Outstanding_Debt               0\n",
       "Credit_Age_in_Years          954\n",
       "Avg_CreditInq_per_month        0\n",
       "Avg_EMI_per_month              0\n",
       "Avg_Invested_per_month         0\n",
       "Avg_Balance_per_month          0\n",
       "Avg_CreditUtil_per_month       0\n",
       "True_Age                     581\n",
       "Monthly_Inhand_Salary       1653\n",
       "dtype: int64"
      ]
     },
     "execution_count": 242,
     "metadata": {},
     "output_type": "execute_result"
    }
   ],
   "source": [
    "X_train_credit.isnull().sum()"
   ]
  },
  {
   "cell_type": "code",
   "execution_count": null,
   "metadata": {
    "colab": {
     "base_uri": "https://localhost:8080/"
    },
    "id": "QhV4rVV5QWDN",
    "outputId": "5fd14e2f-4069-454a-8890-32ff3eefff8b"
   },
   "outputs": [
    {
     "data": {
      "text/plain": [
       "Int64Index([38775, 69079, 90623,  2975, 64191, 68943, 59863, 53039, 66727,\n",
       "             6791,\n",
       "            ...\n",
       "            19983, 24439, 55799, 62215, 65703, 14071, 46055, 76943, 76791,\n",
       "            38839],\n",
       "           dtype='int64', length=10618)"
      ]
     },
     "execution_count": 243,
     "metadata": {},
     "output_type": "execute_result"
    }
   ],
   "source": [
    "X_train_credit.index"
   ]
  },
  {
   "cell_type": "markdown",
   "metadata": {
    "id": "jLJ5Uq0WRgNJ"
   },
   "source": [
    "### Imputation of training and test data\n",
    "Done separately to avoid leakage\n",
    "Using KNN to use nearest neighbors approach"
   ]
  },
  {
   "cell_type": "code",
   "execution_count": null,
   "metadata": {
    "id": "nEsTvtF255RD"
   },
   "outputs": [],
   "source": [
    "imputer = KNNImputer(n_neighbors=4)\n",
    "\n",
    "X_train_credit_imp1 = imputer.fit_transform(X_train_credit[numerical_features_credit])\n",
    "\n",
    "X_test_credit_imp1 = imputer.fit_transform(X_test_credit[numerical_features_credit])\n",
    "\n",
    "X_train_credit_imp=pd.DataFrame(X_train_credit_imp1, columns = numerical_features_credit,\n",
    "                                index = X_train_credit.index)\n",
    "\n",
    "X_test_credit_imp=pd.DataFrame(X_test_credit_imp1, columns = numerical_features_credit,\n",
    "                                index = X_test_credit.index)\n",
    "\n",
    "X_train_credit_imp_df = pd.merge(X_train_credit[categorical_features_credit], \n",
    "                                 X_train_credit_imp, right_index=True,\n",
    "                                 left_index=True)\n",
    "\n",
    "X_test_credit_imp_df = pd.merge(X_test_credit[categorical_features_credit], \n",
    "                                 X_test_credit_imp, right_index=True,\n",
    "                                 left_index=True)\n"
   ]
  },
  {
   "cell_type": "code",
   "execution_count": null,
   "metadata": {
    "colab": {
     "base_uri": "https://localhost:8080/",
     "height": 394
    },
    "id": "leE7TnCv6i1g",
    "outputId": "3a7daa1a-0b11-4d9f-d3fb-7519efe3eb9e"
   },
   "outputs": [
    {
     "data": {
      "text/html": [
       "\n",
       "  <div id=\"df-ca09e4c0-4294-4191-b949-ddf5d4648669\">\n",
       "    <div class=\"colab-df-container\">\n",
       "      <div>\n",
       "<style scoped>\n",
       "    .dataframe tbody tr th:only-of-type {\n",
       "        vertical-align: middle;\n",
       "    }\n",
       "\n",
       "    .dataframe tbody tr th {\n",
       "        vertical-align: top;\n",
       "    }\n",
       "\n",
       "    .dataframe thead th {\n",
       "        text-align: right;\n",
       "    }\n",
       "</style>\n",
       "<table border=\"1\" class=\"dataframe\">\n",
       "  <thead>\n",
       "    <tr style=\"text-align: right;\">\n",
       "      <th></th>\n",
       "      <th>Occupation</th>\n",
       "      <th>Mode_Behavior_binary</th>\n",
       "      <th>Mode_Payment_Min_Amount</th>\n",
       "      <th>Auto_Loan_Flag</th>\n",
       "      <th>Credit_Builder_Flag</th>\n",
       "      <th>Student_Loan_Flag</th>\n",
       "      <th>Mortagage_Loan_Flag</th>\n",
       "      <th>Home_Equity_Flag</th>\n",
       "      <th>Debt_Consolidation_Flag</th>\n",
       "      <th>PayDay_Flag</th>\n",
       "      <th>...</th>\n",
       "      <th>Interest_Rate</th>\n",
       "      <th>Outstanding_Debt</th>\n",
       "      <th>Credit_Age_in_Years</th>\n",
       "      <th>Avg_CreditInq_per_month</th>\n",
       "      <th>Avg_EMI_per_month</th>\n",
       "      <th>Avg_Invested_per_month</th>\n",
       "      <th>Avg_Balance_per_month</th>\n",
       "      <th>Avg_CreditUtil_per_month</th>\n",
       "      <th>True_Age</th>\n",
       "      <th>Monthly_Inhand_Salary</th>\n",
       "    </tr>\n",
       "  </thead>\n",
       "  <tbody>\n",
       "    <tr>\n",
       "      <th>38775</th>\n",
       "      <td>Developer</td>\n",
       "      <td>High_Spend</td>\n",
       "      <td>['No']</td>\n",
       "      <td>1</td>\n",
       "      <td>0</td>\n",
       "      <td>0</td>\n",
       "      <td>1</td>\n",
       "      <td>0</td>\n",
       "      <td>0</td>\n",
       "      <td>1</td>\n",
       "      <td>...</td>\n",
       "      <td>19.0</td>\n",
       "      <td>149.44</td>\n",
       "      <td>18.00</td>\n",
       "      <td>1.000000</td>\n",
       "      <td>7478.005877</td>\n",
       "      <td>305.868813</td>\n",
       "      <td>592.933017</td>\n",
       "      <td>35.196448</td>\n",
       "      <td>48.000000</td>\n",
       "      <td>9694.486667</td>\n",
       "    </tr>\n",
       "    <tr>\n",
       "      <th>69079</th>\n",
       "      <td>Teacher</td>\n",
       "      <td>High_Spend</td>\n",
       "      <td>['No']</td>\n",
       "      <td>1</td>\n",
       "      <td>0</td>\n",
       "      <td>0</td>\n",
       "      <td>0</td>\n",
       "      <td>1</td>\n",
       "      <td>0</td>\n",
       "      <td>0</td>\n",
       "      <td>...</td>\n",
       "      <td>10.0</td>\n",
       "      <td>421.54</td>\n",
       "      <td>26.00</td>\n",
       "      <td>5.428571</td>\n",
       "      <td>59.372147</td>\n",
       "      <td>224.105713</td>\n",
       "      <td>555.486140</td>\n",
       "      <td>32.093604</td>\n",
       "      <td>31.400000</td>\n",
       "      <td>5802.140000</td>\n",
       "    </tr>\n",
       "    <tr>\n",
       "      <th>90623</th>\n",
       "      <td>Accountant</td>\n",
       "      <td>High_Spend</td>\n",
       "      <td>['No']</td>\n",
       "      <td>1</td>\n",
       "      <td>0</td>\n",
       "      <td>0</td>\n",
       "      <td>0</td>\n",
       "      <td>0</td>\n",
       "      <td>1</td>\n",
       "      <td>0</td>\n",
       "      <td>...</td>\n",
       "      <td>12.0</td>\n",
       "      <td>1122.78</td>\n",
       "      <td>23.75</td>\n",
       "      <td>203.500000</td>\n",
       "      <td>3098.254403</td>\n",
       "      <td>318.026353</td>\n",
       "      <td>655.096569</td>\n",
       "      <td>34.082373</td>\n",
       "      <td>51.000000</td>\n",
       "      <td>8438.955000</td>\n",
       "    </tr>\n",
       "    <tr>\n",
       "      <th>2975</th>\n",
       "      <td>Scientist</td>\n",
       "      <td>Low_Spend</td>\n",
       "      <td>['Yes']</td>\n",
       "      <td>1</td>\n",
       "      <td>0</td>\n",
       "      <td>0</td>\n",
       "      <td>0</td>\n",
       "      <td>1</td>\n",
       "      <td>0</td>\n",
       "      <td>1</td>\n",
       "      <td>...</td>\n",
       "      <td>18.0</td>\n",
       "      <td>516.76</td>\n",
       "      <td>18.00</td>\n",
       "      <td>7.375000</td>\n",
       "      <td>121.195063</td>\n",
       "      <td>154.242553</td>\n",
       "      <td>266.393760</td>\n",
       "      <td>29.460877</td>\n",
       "      <td>32.000000</td>\n",
       "      <td>2031.587766</td>\n",
       "    </tr>\n",
       "    <tr>\n",
       "      <th>64191</th>\n",
       "      <td>Manager</td>\n",
       "      <td>Low_Spend</td>\n",
       "      <td>['No']</td>\n",
       "      <td>1</td>\n",
       "      <td>0</td>\n",
       "      <td>1</td>\n",
       "      <td>1</td>\n",
       "      <td>0</td>\n",
       "      <td>0</td>\n",
       "      <td>1</td>\n",
       "      <td>...</td>\n",
       "      <td>5.0</td>\n",
       "      <td>838.13</td>\n",
       "      <td>22.25</td>\n",
       "      <td>3.000000</td>\n",
       "      <td>38.533511</td>\n",
       "      <td>139.191457</td>\n",
       "      <td>261.306115</td>\n",
       "      <td>35.396913</td>\n",
       "      <td>31.000000</td>\n",
       "      <td>1552.810833</td>\n",
       "    </tr>\n",
       "    <tr>\n",
       "      <th>68943</th>\n",
       "      <td>Architect</td>\n",
       "      <td>High_Spend</td>\n",
       "      <td>['Yes']</td>\n",
       "      <td>0</td>\n",
       "      <td>0</td>\n",
       "      <td>0</td>\n",
       "      <td>0</td>\n",
       "      <td>0</td>\n",
       "      <td>1</td>\n",
       "      <td>0</td>\n",
       "      <td>...</td>\n",
       "      <td>5.0</td>\n",
       "      <td>277.38</td>\n",
       "      <td>17.00</td>\n",
       "      <td>4.000000</td>\n",
       "      <td>19.025280</td>\n",
       "      <td>86.796299</td>\n",
       "      <td>504.910421</td>\n",
       "      <td>35.504864</td>\n",
       "      <td>20.428571</td>\n",
       "      <td>3532.320000</td>\n",
       "    </tr>\n",
       "    <tr>\n",
       "      <th>59863</th>\n",
       "      <td>Manager</td>\n",
       "      <td>Low_Spend</td>\n",
       "      <td>['Yes']</td>\n",
       "      <td>0</td>\n",
       "      <td>0</td>\n",
       "      <td>1</td>\n",
       "      <td>0</td>\n",
       "      <td>0</td>\n",
       "      <td>1</td>\n",
       "      <td>1</td>\n",
       "      <td>...</td>\n",
       "      <td>12.0</td>\n",
       "      <td>893.87</td>\n",
       "      <td>14.00</td>\n",
       "      <td>9.875000</td>\n",
       "      <td>46.975654</td>\n",
       "      <td>78.325064</td>\n",
       "      <td>328.284865</td>\n",
       "      <td>30.873481</td>\n",
       "      <td>28.000000</td>\n",
       "      <td>1773.355833</td>\n",
       "    </tr>\n",
       "    <tr>\n",
       "      <th>53039</th>\n",
       "      <td>Developer</td>\n",
       "      <td>High_Spend</td>\n",
       "      <td>['No']</td>\n",
       "      <td>1</td>\n",
       "      <td>0</td>\n",
       "      <td>1</td>\n",
       "      <td>0</td>\n",
       "      <td>0</td>\n",
       "      <td>0</td>\n",
       "      <td>0</td>\n",
       "      <td>...</td>\n",
       "      <td>5.0</td>\n",
       "      <td>926.99</td>\n",
       "      <td>22.75</td>\n",
       "      <td>6.000000</td>\n",
       "      <td>4102.954208</td>\n",
       "      <td>149.681948</td>\n",
       "      <td>322.023180</td>\n",
       "      <td>32.239356</td>\n",
       "      <td>36.625000</td>\n",
       "      <td>2762.615833</td>\n",
       "    </tr>\n",
       "  </tbody>\n",
       "</table>\n",
       "<p>8 rows × 24 columns</p>\n",
       "</div>\n",
       "      <button class=\"colab-df-convert\" onclick=\"convertToInteractive('df-ca09e4c0-4294-4191-b949-ddf5d4648669')\"\n",
       "              title=\"Convert this dataframe to an interactive table.\"\n",
       "              style=\"display:none;\">\n",
       "        \n",
       "  <svg xmlns=\"http://www.w3.org/2000/svg\" height=\"24px\"viewBox=\"0 0 24 24\"\n",
       "       width=\"24px\">\n",
       "    <path d=\"M0 0h24v24H0V0z\" fill=\"none\"/>\n",
       "    <path d=\"M18.56 5.44l.94 2.06.94-2.06 2.06-.94-2.06-.94-.94-2.06-.94 2.06-2.06.94zm-11 1L8.5 8.5l.94-2.06 2.06-.94-2.06-.94L8.5 2.5l-.94 2.06-2.06.94zm10 10l.94 2.06.94-2.06 2.06-.94-2.06-.94-.94-2.06-.94 2.06-2.06.94z\"/><path d=\"M17.41 7.96l-1.37-1.37c-.4-.4-.92-.59-1.43-.59-.52 0-1.04.2-1.43.59L10.3 9.45l-7.72 7.72c-.78.78-.78 2.05 0 2.83L4 21.41c.39.39.9.59 1.41.59.51 0 1.02-.2 1.41-.59l7.78-7.78 2.81-2.81c.8-.78.8-2.07 0-2.86zM5.41 20L4 18.59l7.72-7.72 1.47 1.35L5.41 20z\"/>\n",
       "  </svg>\n",
       "      </button>\n",
       "      \n",
       "  <style>\n",
       "    .colab-df-container {\n",
       "      display:flex;\n",
       "      flex-wrap:wrap;\n",
       "      gap: 12px;\n",
       "    }\n",
       "\n",
       "    .colab-df-convert {\n",
       "      background-color: #E8F0FE;\n",
       "      border: none;\n",
       "      border-radius: 50%;\n",
       "      cursor: pointer;\n",
       "      display: none;\n",
       "      fill: #1967D2;\n",
       "      height: 32px;\n",
       "      padding: 0 0 0 0;\n",
       "      width: 32px;\n",
       "    }\n",
       "\n",
       "    .colab-df-convert:hover {\n",
       "      background-color: #E2EBFA;\n",
       "      box-shadow: 0px 1px 2px rgba(60, 64, 67, 0.3), 0px 1px 3px 1px rgba(60, 64, 67, 0.15);\n",
       "      fill: #174EA6;\n",
       "    }\n",
       "\n",
       "    [theme=dark] .colab-df-convert {\n",
       "      background-color: #3B4455;\n",
       "      fill: #D2E3FC;\n",
       "    }\n",
       "\n",
       "    [theme=dark] .colab-df-convert:hover {\n",
       "      background-color: #434B5C;\n",
       "      box-shadow: 0px 1px 3px 1px rgba(0, 0, 0, 0.15);\n",
       "      filter: drop-shadow(0px 1px 2px rgba(0, 0, 0, 0.3));\n",
       "      fill: #FFFFFF;\n",
       "    }\n",
       "  </style>\n",
       "\n",
       "      <script>\n",
       "        const buttonEl =\n",
       "          document.querySelector('#df-ca09e4c0-4294-4191-b949-ddf5d4648669 button.colab-df-convert');\n",
       "        buttonEl.style.display =\n",
       "          google.colab.kernel.accessAllowed ? 'block' : 'none';\n",
       "\n",
       "        async function convertToInteractive(key) {\n",
       "          const element = document.querySelector('#df-ca09e4c0-4294-4191-b949-ddf5d4648669');\n",
       "          const dataTable =\n",
       "            await google.colab.kernel.invokeFunction('convertToInteractive',\n",
       "                                                     [key], {});\n",
       "          if (!dataTable) return;\n",
       "\n",
       "          const docLinkHtml = 'Like what you see? Visit the ' +\n",
       "            '<a target=\"_blank\" href=https://colab.research.google.com/notebooks/data_table.ipynb>data table notebook</a>'\n",
       "            + ' to learn more about interactive tables.';\n",
       "          element.innerHTML = '';\n",
       "          dataTable['output_type'] = 'display_data';\n",
       "          await google.colab.output.renderOutput(dataTable, element);\n",
       "          const docLink = document.createElement('div');\n",
       "          docLink.innerHTML = docLinkHtml;\n",
       "          element.appendChild(docLink);\n",
       "        }\n",
       "      </script>\n",
       "    </div>\n",
       "  </div>\n",
       "  "
      ],
      "text/plain": [
       "       Occupation Mode_Behavior_binary Mode_Payment_Min_Amount  \\\n",
       "38775   Developer           High_Spend                  ['No']   \n",
       "69079     Teacher           High_Spend                  ['No']   \n",
       "90623  Accountant           High_Spend                  ['No']   \n",
       "2975    Scientist            Low_Spend                 ['Yes']   \n",
       "64191     Manager            Low_Spend                  ['No']   \n",
       "68943   Architect           High_Spend                 ['Yes']   \n",
       "59863     Manager            Low_Spend                 ['Yes']   \n",
       "53039   Developer           High_Spend                  ['No']   \n",
       "\n",
       "       Auto_Loan_Flag  Credit_Builder_Flag  Student_Loan_Flag  \\\n",
       "38775               1                    0                  0   \n",
       "69079               1                    0                  0   \n",
       "90623               1                    0                  0   \n",
       "2975                1                    0                  0   \n",
       "64191               1                    0                  1   \n",
       "68943               0                    0                  0   \n",
       "59863               0                    0                  1   \n",
       "53039               1                    0                  1   \n",
       "\n",
       "       Mortagage_Loan_Flag  Home_Equity_Flag  Debt_Consolidation_Flag  \\\n",
       "38775                    1                 0                        0   \n",
       "69079                    0                 1                        0   \n",
       "90623                    0                 0                        1   \n",
       "2975                     0                 1                        0   \n",
       "64191                    1                 0                        0   \n",
       "68943                    0                 0                        1   \n",
       "59863                    0                 0                        1   \n",
       "53039                    0                 0                        0   \n",
       "\n",
       "       PayDay_Flag  ...  Interest_Rate  Outstanding_Debt  Credit_Age_in_Years  \\\n",
       "38775            1  ...           19.0            149.44                18.00   \n",
       "69079            0  ...           10.0            421.54                26.00   \n",
       "90623            0  ...           12.0           1122.78                23.75   \n",
       "2975             1  ...           18.0            516.76                18.00   \n",
       "64191            1  ...            5.0            838.13                22.25   \n",
       "68943            0  ...            5.0            277.38                17.00   \n",
       "59863            1  ...           12.0            893.87                14.00   \n",
       "53039            0  ...            5.0            926.99                22.75   \n",
       "\n",
       "       Avg_CreditInq_per_month  Avg_EMI_per_month  Avg_Invested_per_month  \\\n",
       "38775                 1.000000        7478.005877              305.868813   \n",
       "69079                 5.428571          59.372147              224.105713   \n",
       "90623               203.500000        3098.254403              318.026353   \n",
       "2975                  7.375000         121.195063              154.242553   \n",
       "64191                 3.000000          38.533511              139.191457   \n",
       "68943                 4.000000          19.025280               86.796299   \n",
       "59863                 9.875000          46.975654               78.325064   \n",
       "53039                 6.000000        4102.954208              149.681948   \n",
       "\n",
       "       Avg_Balance_per_month  Avg_CreditUtil_per_month   True_Age  \\\n",
       "38775             592.933017                 35.196448  48.000000   \n",
       "69079             555.486140                 32.093604  31.400000   \n",
       "90623             655.096569                 34.082373  51.000000   \n",
       "2975              266.393760                 29.460877  32.000000   \n",
       "64191             261.306115                 35.396913  31.000000   \n",
       "68943             504.910421                 35.504864  20.428571   \n",
       "59863             328.284865                 30.873481  28.000000   \n",
       "53039             322.023180                 32.239356  36.625000   \n",
       "\n",
       "       Monthly_Inhand_Salary  \n",
       "38775            9694.486667  \n",
       "69079            5802.140000  \n",
       "90623            8438.955000  \n",
       "2975             2031.587766  \n",
       "64191            1552.810833  \n",
       "68943            3532.320000  \n",
       "59863            1773.355833  \n",
       "53039            2762.615833  \n",
       "\n",
       "[8 rows x 24 columns]"
      ]
     },
     "execution_count": 245,
     "metadata": {},
     "output_type": "execute_result"
    }
   ],
   "source": [
    "X_train_credit_imp_df.head(8)"
   ]
  },
  {
   "cell_type": "code",
   "execution_count": null,
   "metadata": {
    "colab": {
     "base_uri": "https://localhost:8080/"
    },
    "id": "3oQf-tBSRWVZ",
    "outputId": "f29f0af9-6352-4b3d-e77f-ae9d3bf3e16c"
   },
   "outputs": [
    {
     "data": {
      "text/plain": [
       "Occupation                  0\n",
       "Mode_Behavior_binary        0\n",
       "Mode_Payment_Min_Amount     0\n",
       "Auto_Loan_Flag              0\n",
       "Credit_Builder_Flag         0\n",
       "Student_Loan_Flag           0\n",
       "Mortagage_Loan_Flag         0\n",
       "Home_Equity_Flag            0\n",
       "Debt_Consolidation_Flag     0\n",
       "PayDay_Flag                 0\n",
       "Personal_Loan_Flag          0\n",
       "Annual_Income               0\n",
       "Num_Bank_Accounts           0\n",
       "Num_Credit_Card             0\n",
       "Interest_Rate               0\n",
       "Outstanding_Debt            0\n",
       "Credit_Age_in_Years         0\n",
       "Avg_CreditInq_per_month     0\n",
       "Avg_EMI_per_month           0\n",
       "Avg_Invested_per_month      0\n",
       "Avg_Balance_per_month       0\n",
       "Avg_CreditUtil_per_month    0\n",
       "True_Age                    0\n",
       "Monthly_Inhand_Salary       0\n",
       "dtype: int64"
      ]
     },
     "execution_count": 246,
     "metadata": {},
     "output_type": "execute_result"
    }
   ],
   "source": [
    "#check for NULL values after imputation\n",
    "X_train_credit_imp_df.isnull().sum()"
   ]
  },
  {
   "cell_type": "markdown",
   "metadata": {
    "id": "WsJvhwW8ziru"
   },
   "source": [
    "### Scale/Encode X data:"
   ]
  },
  {
   "cell_type": "code",
   "execution_count": null,
   "metadata": {
    "id": "hF8JpdwEmgjS"
   },
   "outputs": [],
   "source": [
    "# Pre-Process Training data categorical variables and \n",
    "# scale/normalize numericals by column\n",
    "\n",
    "# (later will implement pipes to do this along with modeling)\n",
    "\n",
    "X_train_credit_num = X_train_credit_imp_df[numerical_features_credit]\n",
    "X_test_credit_num =  X_test_credit_imp_df[numerical_features_credit]\n",
    "\n",
    "sc = preprocessing.StandardScaler()\n",
    "sc_fitted = sc.fit(X_train_credit_num)\n",
    "\n",
    "X_train_credit_sc = pd.DataFrame(sc_fitted.transform(X_train_credit_num), \n",
    "                               columns=X_train_credit_num.columns)\n",
    "X_test_credit_sc = pd.DataFrame(sc_fitted.transform(X_test_credit_num), \n",
    "                              columns=X_test_credit_num.columns)"
   ]
  },
  {
   "cell_type": "code",
   "execution_count": null,
   "metadata": {
    "colab": {
     "base_uri": "https://localhost:8080/",
     "height": 270
    },
    "id": "Q7bBf7bBSgeR",
    "outputId": "9b17ce86-a951-4d40-f4a7-f9ea294830e0"
   },
   "outputs": [
    {
     "data": {
      "text/html": [
       "\n",
       "  <div id=\"df-f2db49e3-2fa0-49ce-b596-f73aca8e9c35\">\n",
       "    <div class=\"colab-df-container\">\n",
       "      <div>\n",
       "<style scoped>\n",
       "    .dataframe tbody tr th:only-of-type {\n",
       "        vertical-align: middle;\n",
       "    }\n",
       "\n",
       "    .dataframe tbody tr th {\n",
       "        vertical-align: top;\n",
       "    }\n",
       "\n",
       "    .dataframe thead th {\n",
       "        text-align: right;\n",
       "    }\n",
       "</style>\n",
       "<table border=\"1\" class=\"dataframe\">\n",
       "  <thead>\n",
       "    <tr style=\"text-align: right;\">\n",
       "      <th></th>\n",
       "      <th>Occupation</th>\n",
       "      <th>Mode_Behavior_binary</th>\n",
       "      <th>Mode_Payment_Min_Amount</th>\n",
       "      <th>Auto_Loan_Flag</th>\n",
       "      <th>Credit_Builder_Flag</th>\n",
       "      <th>Student_Loan_Flag</th>\n",
       "      <th>Mortagage_Loan_Flag</th>\n",
       "      <th>Home_Equity_Flag</th>\n",
       "      <th>Debt_Consolidation_Flag</th>\n",
       "      <th>PayDay_Flag</th>\n",
       "      <th>Personal_Loan_Flag</th>\n",
       "    </tr>\n",
       "  </thead>\n",
       "  <tbody>\n",
       "    <tr>\n",
       "      <th>38775</th>\n",
       "      <td>Developer</td>\n",
       "      <td>High_Spend</td>\n",
       "      <td>['No']</td>\n",
       "      <td>1</td>\n",
       "      <td>0</td>\n",
       "      <td>0</td>\n",
       "      <td>1</td>\n",
       "      <td>0</td>\n",
       "      <td>0</td>\n",
       "      <td>1</td>\n",
       "      <td>1</td>\n",
       "    </tr>\n",
       "    <tr>\n",
       "      <th>69079</th>\n",
       "      <td>Teacher</td>\n",
       "      <td>High_Spend</td>\n",
       "      <td>['No']</td>\n",
       "      <td>1</td>\n",
       "      <td>0</td>\n",
       "      <td>0</td>\n",
       "      <td>0</td>\n",
       "      <td>1</td>\n",
       "      <td>0</td>\n",
       "      <td>0</td>\n",
       "      <td>0</td>\n",
       "    </tr>\n",
       "    <tr>\n",
       "      <th>90623</th>\n",
       "      <td>Accountant</td>\n",
       "      <td>High_Spend</td>\n",
       "      <td>['No']</td>\n",
       "      <td>1</td>\n",
       "      <td>0</td>\n",
       "      <td>0</td>\n",
       "      <td>0</td>\n",
       "      <td>0</td>\n",
       "      <td>1</td>\n",
       "      <td>0</td>\n",
       "      <td>0</td>\n",
       "    </tr>\n",
       "    <tr>\n",
       "      <th>2975</th>\n",
       "      <td>Scientist</td>\n",
       "      <td>Low_Spend</td>\n",
       "      <td>['Yes']</td>\n",
       "      <td>1</td>\n",
       "      <td>0</td>\n",
       "      <td>0</td>\n",
       "      <td>0</td>\n",
       "      <td>1</td>\n",
       "      <td>0</td>\n",
       "      <td>1</td>\n",
       "      <td>0</td>\n",
       "    </tr>\n",
       "    <tr>\n",
       "      <th>64191</th>\n",
       "      <td>Manager</td>\n",
       "      <td>Low_Spend</td>\n",
       "      <td>['No']</td>\n",
       "      <td>1</td>\n",
       "      <td>0</td>\n",
       "      <td>1</td>\n",
       "      <td>1</td>\n",
       "      <td>0</td>\n",
       "      <td>0</td>\n",
       "      <td>1</td>\n",
       "      <td>0</td>\n",
       "    </tr>\n",
       "  </tbody>\n",
       "</table>\n",
       "</div>\n",
       "      <button class=\"colab-df-convert\" onclick=\"convertToInteractive('df-f2db49e3-2fa0-49ce-b596-f73aca8e9c35')\"\n",
       "              title=\"Convert this dataframe to an interactive table.\"\n",
       "              style=\"display:none;\">\n",
       "        \n",
       "  <svg xmlns=\"http://www.w3.org/2000/svg\" height=\"24px\"viewBox=\"0 0 24 24\"\n",
       "       width=\"24px\">\n",
       "    <path d=\"M0 0h24v24H0V0z\" fill=\"none\"/>\n",
       "    <path d=\"M18.56 5.44l.94 2.06.94-2.06 2.06-.94-2.06-.94-.94-2.06-.94 2.06-2.06.94zm-11 1L8.5 8.5l.94-2.06 2.06-.94-2.06-.94L8.5 2.5l-.94 2.06-2.06.94zm10 10l.94 2.06.94-2.06 2.06-.94-2.06-.94-.94-2.06-.94 2.06-2.06.94z\"/><path d=\"M17.41 7.96l-1.37-1.37c-.4-.4-.92-.59-1.43-.59-.52 0-1.04.2-1.43.59L10.3 9.45l-7.72 7.72c-.78.78-.78 2.05 0 2.83L4 21.41c.39.39.9.59 1.41.59.51 0 1.02-.2 1.41-.59l7.78-7.78 2.81-2.81c.8-.78.8-2.07 0-2.86zM5.41 20L4 18.59l7.72-7.72 1.47 1.35L5.41 20z\"/>\n",
       "  </svg>\n",
       "      </button>\n",
       "      \n",
       "  <style>\n",
       "    .colab-df-container {\n",
       "      display:flex;\n",
       "      flex-wrap:wrap;\n",
       "      gap: 12px;\n",
       "    }\n",
       "\n",
       "    .colab-df-convert {\n",
       "      background-color: #E8F0FE;\n",
       "      border: none;\n",
       "      border-radius: 50%;\n",
       "      cursor: pointer;\n",
       "      display: none;\n",
       "      fill: #1967D2;\n",
       "      height: 32px;\n",
       "      padding: 0 0 0 0;\n",
       "      width: 32px;\n",
       "    }\n",
       "\n",
       "    .colab-df-convert:hover {\n",
       "      background-color: #E2EBFA;\n",
       "      box-shadow: 0px 1px 2px rgba(60, 64, 67, 0.3), 0px 1px 3px 1px rgba(60, 64, 67, 0.15);\n",
       "      fill: #174EA6;\n",
       "    }\n",
       "\n",
       "    [theme=dark] .colab-df-convert {\n",
       "      background-color: #3B4455;\n",
       "      fill: #D2E3FC;\n",
       "    }\n",
       "\n",
       "    [theme=dark] .colab-df-convert:hover {\n",
       "      background-color: #434B5C;\n",
       "      box-shadow: 0px 1px 3px 1px rgba(0, 0, 0, 0.15);\n",
       "      filter: drop-shadow(0px 1px 2px rgba(0, 0, 0, 0.3));\n",
       "      fill: #FFFFFF;\n",
       "    }\n",
       "  </style>\n",
       "\n",
       "      <script>\n",
       "        const buttonEl =\n",
       "          document.querySelector('#df-f2db49e3-2fa0-49ce-b596-f73aca8e9c35 button.colab-df-convert');\n",
       "        buttonEl.style.display =\n",
       "          google.colab.kernel.accessAllowed ? 'block' : 'none';\n",
       "\n",
       "        async function convertToInteractive(key) {\n",
       "          const element = document.querySelector('#df-f2db49e3-2fa0-49ce-b596-f73aca8e9c35');\n",
       "          const dataTable =\n",
       "            await google.colab.kernel.invokeFunction('convertToInteractive',\n",
       "                                                     [key], {});\n",
       "          if (!dataTable) return;\n",
       "\n",
       "          const docLinkHtml = 'Like what you see? Visit the ' +\n",
       "            '<a target=\"_blank\" href=https://colab.research.google.com/notebooks/data_table.ipynb>data table notebook</a>'\n",
       "            + ' to learn more about interactive tables.';\n",
       "          element.innerHTML = '';\n",
       "          dataTable['output_type'] = 'display_data';\n",
       "          await google.colab.output.renderOutput(dataTable, element);\n",
       "          const docLink = document.createElement('div');\n",
       "          docLink.innerHTML = docLinkHtml;\n",
       "          element.appendChild(docLink);\n",
       "        }\n",
       "      </script>\n",
       "    </div>\n",
       "  </div>\n",
       "  "
      ],
      "text/plain": [
       "       Occupation Mode_Behavior_binary Mode_Payment_Min_Amount  \\\n",
       "38775   Developer           High_Spend                  ['No']   \n",
       "69079     Teacher           High_Spend                  ['No']   \n",
       "90623  Accountant           High_Spend                  ['No']   \n",
       "2975    Scientist            Low_Spend                 ['Yes']   \n",
       "64191     Manager            Low_Spend                  ['No']   \n",
       "\n",
       "       Auto_Loan_Flag  Credit_Builder_Flag  Student_Loan_Flag  \\\n",
       "38775               1                    0                  0   \n",
       "69079               1                    0                  0   \n",
       "90623               1                    0                  0   \n",
       "2975                1                    0                  0   \n",
       "64191               1                    0                  1   \n",
       "\n",
       "       Mortagage_Loan_Flag  Home_Equity_Flag  Debt_Consolidation_Flag  \\\n",
       "38775                    1                 0                        0   \n",
       "69079                    0                 1                        0   \n",
       "90623                    0                 0                        1   \n",
       "2975                     0                 1                        0   \n",
       "64191                    1                 0                        0   \n",
       "\n",
       "       PayDay_Flag  Personal_Loan_Flag  \n",
       "38775            1                   1  \n",
       "69079            0                   0  \n",
       "90623            0                   0  \n",
       "2975             1                   0  \n",
       "64191            1                   0  "
      ]
     },
     "execution_count": 248,
     "metadata": {},
     "output_type": "execute_result"
    }
   ],
   "source": [
    "X_train_credit_imp_df[categorical_features_credit].head()"
   ]
  },
  {
   "cell_type": "code",
   "execution_count": null,
   "metadata": {
    "colab": {
     "base_uri": "https://localhost:8080/"
    },
    "id": "ryeJeDrsPOPO",
    "outputId": "7226ae5b-a474-4144-f7ce-c6de33a34915"
   },
   "outputs": [
    {
     "name": "stderr",
     "output_type": "stream",
     "text": [
      "/usr/local/lib/python3.7/dist-packages/sklearn/utils/deprecation.py:87: FutureWarning: Function get_feature_names is deprecated; get_feature_names is deprecated in 1.0 and will be removed in 1.2. Please use get_feature_names_out instead.\n",
      "  warnings.warn(msg, category=FutureWarning)\n",
      "/usr/local/lib/python3.7/dist-packages/sklearn/utils/deprecation.py:87: FutureWarning: Function get_feature_names is deprecated; get_feature_names is deprecated in 1.0 and will be removed in 1.2. Please use get_feature_names_out instead.\n",
      "  warnings.warn(msg, category=FutureWarning)\n"
     ]
    }
   ],
   "source": [
    "# Hot encode categorical features:\n",
    "X_train_credit_cat = X_train_credit_imp_df[['Occupation']]\n",
    "X_test_credit_cat =  X_test_credit_imp_df[['Occupation']]\n",
    "#X_train_credit_cat=X_train_credit_cat.reshape(-1,1)\n",
    "#X_test_credit_cat=X_test_credit_cat.reshape(-1,1)\n",
    "\n",
    "\n",
    "##onehotencoder1 = OneHotEncoder(categorical_features = [0])\n",
    "##cat_feat = onehotencoder1.fit(X_train_credit_imp_df).toarray()\n",
    "\n",
    "#cat_feat = pd.DataFrame()\n",
    "enc_hot = OneHotEncoder(categories = 'auto', sparse=False)\n",
    "enc_ord = OrdinalEncoder()\n",
    "\n",
    "cat_feat = enc_hot.fit(X_train_credit_cat)\n",
    "\n",
    "\n",
    "\n",
    "X_train_credit_enc = pd.DataFrame(cat_feat.transform(X_train_credit_cat), \n",
    "                               columns=cat_feat.get_feature_names(['Occupation']))\n",
    "X_test_credit_enc = pd.DataFrame(cat_feat.transform(X_test_credit_cat), \n",
    "                               columns=cat_feat.get_feature_names(['Occupation']))"
   ]
  },
  {
   "cell_type": "code",
   "execution_count": null,
   "metadata": {
    "colab": {
     "base_uri": "https://localhost:8080/"
    },
    "id": "xvGP71MFWSZp",
    "outputId": "c5225224-0888-40b5-c85b-0983847f2110"
   },
   "outputs": [
    {
     "data": {
      "text/plain": [
       "['Developer', 'Teacher', 'Accountant', 'Scientist', 'Manager', ..., 'Musician', 'Journalist', 'Writer', 'Mechanic', 'Lawyer']\n",
       "Length: 15\n",
       "Categories (15, object): ['Accountant', 'Architect', 'Developer', 'Doctor', ..., 'Other', 'Scientist',\n",
       "                          'Teacher', 'Writer']"
      ]
     },
     "execution_count": 250,
     "metadata": {},
     "output_type": "execute_result"
    }
   ],
   "source": [
    "#check the unique values from the Occupation attribute\n",
    "X_train_credit_imp_df['Occupation'].unique()"
   ]
  },
  {
   "cell_type": "code",
   "execution_count": null,
   "metadata": {
    "colab": {
     "base_uri": "https://localhost:8080/",
     "height": 270
    },
    "id": "mpw4Jtj70tfu",
    "outputId": "49e5d5c2-8fad-4045-e70f-b90ee78360a2"
   },
   "outputs": [
    {
     "data": {
      "text/html": [
       "\n",
       "  <div id=\"df-0b44c8a9-5cce-4835-a161-66cae4ef90ca\">\n",
       "    <div class=\"colab-df-container\">\n",
       "      <div>\n",
       "<style scoped>\n",
       "    .dataframe tbody tr th:only-of-type {\n",
       "        vertical-align: middle;\n",
       "    }\n",
       "\n",
       "    .dataframe tbody tr th {\n",
       "        vertical-align: top;\n",
       "    }\n",
       "\n",
       "    .dataframe thead th {\n",
       "        text-align: right;\n",
       "    }\n",
       "</style>\n",
       "<table border=\"1\" class=\"dataframe\">\n",
       "  <thead>\n",
       "    <tr style=\"text-align: right;\">\n",
       "      <th></th>\n",
       "      <th>Occupation_Accountant</th>\n",
       "      <th>Occupation_Architect</th>\n",
       "      <th>Occupation_Developer</th>\n",
       "      <th>Occupation_Doctor</th>\n",
       "      <th>Occupation_Engineer</th>\n",
       "      <th>Occupation_Entrepreneur</th>\n",
       "      <th>Occupation_Journalist</th>\n",
       "      <th>Occupation_Lawyer</th>\n",
       "      <th>Occupation_Manager</th>\n",
       "      <th>Occupation_Mechanic</th>\n",
       "      <th>Occupation_Musician</th>\n",
       "      <th>Occupation_Other</th>\n",
       "      <th>Occupation_Scientist</th>\n",
       "      <th>Occupation_Teacher</th>\n",
       "      <th>Occupation_Writer</th>\n",
       "    </tr>\n",
       "  </thead>\n",
       "  <tbody>\n",
       "    <tr>\n",
       "      <th>0</th>\n",
       "      <td>0.0</td>\n",
       "      <td>0.0</td>\n",
       "      <td>1.0</td>\n",
       "      <td>0.0</td>\n",
       "      <td>0.0</td>\n",
       "      <td>0.0</td>\n",
       "      <td>0.0</td>\n",
       "      <td>0.0</td>\n",
       "      <td>0.0</td>\n",
       "      <td>0.0</td>\n",
       "      <td>0.0</td>\n",
       "      <td>0.0</td>\n",
       "      <td>0.0</td>\n",
       "      <td>0.0</td>\n",
       "      <td>0.0</td>\n",
       "    </tr>\n",
       "    <tr>\n",
       "      <th>1</th>\n",
       "      <td>0.0</td>\n",
       "      <td>0.0</td>\n",
       "      <td>0.0</td>\n",
       "      <td>0.0</td>\n",
       "      <td>0.0</td>\n",
       "      <td>0.0</td>\n",
       "      <td>0.0</td>\n",
       "      <td>0.0</td>\n",
       "      <td>0.0</td>\n",
       "      <td>0.0</td>\n",
       "      <td>0.0</td>\n",
       "      <td>0.0</td>\n",
       "      <td>0.0</td>\n",
       "      <td>1.0</td>\n",
       "      <td>0.0</td>\n",
       "    </tr>\n",
       "    <tr>\n",
       "      <th>2</th>\n",
       "      <td>1.0</td>\n",
       "      <td>0.0</td>\n",
       "      <td>0.0</td>\n",
       "      <td>0.0</td>\n",
       "      <td>0.0</td>\n",
       "      <td>0.0</td>\n",
       "      <td>0.0</td>\n",
       "      <td>0.0</td>\n",
       "      <td>0.0</td>\n",
       "      <td>0.0</td>\n",
       "      <td>0.0</td>\n",
       "      <td>0.0</td>\n",
       "      <td>0.0</td>\n",
       "      <td>0.0</td>\n",
       "      <td>0.0</td>\n",
       "    </tr>\n",
       "    <tr>\n",
       "      <th>3</th>\n",
       "      <td>0.0</td>\n",
       "      <td>0.0</td>\n",
       "      <td>0.0</td>\n",
       "      <td>0.0</td>\n",
       "      <td>0.0</td>\n",
       "      <td>0.0</td>\n",
       "      <td>0.0</td>\n",
       "      <td>0.0</td>\n",
       "      <td>0.0</td>\n",
       "      <td>0.0</td>\n",
       "      <td>0.0</td>\n",
       "      <td>0.0</td>\n",
       "      <td>1.0</td>\n",
       "      <td>0.0</td>\n",
       "      <td>0.0</td>\n",
       "    </tr>\n",
       "    <tr>\n",
       "      <th>4</th>\n",
       "      <td>0.0</td>\n",
       "      <td>0.0</td>\n",
       "      <td>0.0</td>\n",
       "      <td>0.0</td>\n",
       "      <td>0.0</td>\n",
       "      <td>0.0</td>\n",
       "      <td>0.0</td>\n",
       "      <td>0.0</td>\n",
       "      <td>1.0</td>\n",
       "      <td>0.0</td>\n",
       "      <td>0.0</td>\n",
       "      <td>0.0</td>\n",
       "      <td>0.0</td>\n",
       "      <td>0.0</td>\n",
       "      <td>0.0</td>\n",
       "    </tr>\n",
       "  </tbody>\n",
       "</table>\n",
       "</div>\n",
       "      <button class=\"colab-df-convert\" onclick=\"convertToInteractive('df-0b44c8a9-5cce-4835-a161-66cae4ef90ca')\"\n",
       "              title=\"Convert this dataframe to an interactive table.\"\n",
       "              style=\"display:none;\">\n",
       "        \n",
       "  <svg xmlns=\"http://www.w3.org/2000/svg\" height=\"24px\"viewBox=\"0 0 24 24\"\n",
       "       width=\"24px\">\n",
       "    <path d=\"M0 0h24v24H0V0z\" fill=\"none\"/>\n",
       "    <path d=\"M18.56 5.44l.94 2.06.94-2.06 2.06-.94-2.06-.94-.94-2.06-.94 2.06-2.06.94zm-11 1L8.5 8.5l.94-2.06 2.06-.94-2.06-.94L8.5 2.5l-.94 2.06-2.06.94zm10 10l.94 2.06.94-2.06 2.06-.94-2.06-.94-.94-2.06-.94 2.06-2.06.94z\"/><path d=\"M17.41 7.96l-1.37-1.37c-.4-.4-.92-.59-1.43-.59-.52 0-1.04.2-1.43.59L10.3 9.45l-7.72 7.72c-.78.78-.78 2.05 0 2.83L4 21.41c.39.39.9.59 1.41.59.51 0 1.02-.2 1.41-.59l7.78-7.78 2.81-2.81c.8-.78.8-2.07 0-2.86zM5.41 20L4 18.59l7.72-7.72 1.47 1.35L5.41 20z\"/>\n",
       "  </svg>\n",
       "      </button>\n",
       "      \n",
       "  <style>\n",
       "    .colab-df-container {\n",
       "      display:flex;\n",
       "      flex-wrap:wrap;\n",
       "      gap: 12px;\n",
       "    }\n",
       "\n",
       "    .colab-df-convert {\n",
       "      background-color: #E8F0FE;\n",
       "      border: none;\n",
       "      border-radius: 50%;\n",
       "      cursor: pointer;\n",
       "      display: none;\n",
       "      fill: #1967D2;\n",
       "      height: 32px;\n",
       "      padding: 0 0 0 0;\n",
       "      width: 32px;\n",
       "    }\n",
       "\n",
       "    .colab-df-convert:hover {\n",
       "      background-color: #E2EBFA;\n",
       "      box-shadow: 0px 1px 2px rgba(60, 64, 67, 0.3), 0px 1px 3px 1px rgba(60, 64, 67, 0.15);\n",
       "      fill: #174EA6;\n",
       "    }\n",
       "\n",
       "    [theme=dark] .colab-df-convert {\n",
       "      background-color: #3B4455;\n",
       "      fill: #D2E3FC;\n",
       "    }\n",
       "\n",
       "    [theme=dark] .colab-df-convert:hover {\n",
       "      background-color: #434B5C;\n",
       "      box-shadow: 0px 1px 3px 1px rgba(0, 0, 0, 0.15);\n",
       "      filter: drop-shadow(0px 1px 2px rgba(0, 0, 0, 0.3));\n",
       "      fill: #FFFFFF;\n",
       "    }\n",
       "  </style>\n",
       "\n",
       "      <script>\n",
       "        const buttonEl =\n",
       "          document.querySelector('#df-0b44c8a9-5cce-4835-a161-66cae4ef90ca button.colab-df-convert');\n",
       "        buttonEl.style.display =\n",
       "          google.colab.kernel.accessAllowed ? 'block' : 'none';\n",
       "\n",
       "        async function convertToInteractive(key) {\n",
       "          const element = document.querySelector('#df-0b44c8a9-5cce-4835-a161-66cae4ef90ca');\n",
       "          const dataTable =\n",
       "            await google.colab.kernel.invokeFunction('convertToInteractive',\n",
       "                                                     [key], {});\n",
       "          if (!dataTable) return;\n",
       "\n",
       "          const docLinkHtml = 'Like what you see? Visit the ' +\n",
       "            '<a target=\"_blank\" href=https://colab.research.google.com/notebooks/data_table.ipynb>data table notebook</a>'\n",
       "            + ' to learn more about interactive tables.';\n",
       "          element.innerHTML = '';\n",
       "          dataTable['output_type'] = 'display_data';\n",
       "          await google.colab.output.renderOutput(dataTable, element);\n",
       "          const docLink = document.createElement('div');\n",
       "          docLink.innerHTML = docLinkHtml;\n",
       "          element.appendChild(docLink);\n",
       "        }\n",
       "      </script>\n",
       "    </div>\n",
       "  </div>\n",
       "  "
      ],
      "text/plain": [
       "   Occupation_Accountant  Occupation_Architect  Occupation_Developer  \\\n",
       "0                    0.0                   0.0                   1.0   \n",
       "1                    0.0                   0.0                   0.0   \n",
       "2                    1.0                   0.0                   0.0   \n",
       "3                    0.0                   0.0                   0.0   \n",
       "4                    0.0                   0.0                   0.0   \n",
       "\n",
       "   Occupation_Doctor  Occupation_Engineer  Occupation_Entrepreneur  \\\n",
       "0                0.0                  0.0                      0.0   \n",
       "1                0.0                  0.0                      0.0   \n",
       "2                0.0                  0.0                      0.0   \n",
       "3                0.0                  0.0                      0.0   \n",
       "4                0.0                  0.0                      0.0   \n",
       "\n",
       "   Occupation_Journalist  Occupation_Lawyer  Occupation_Manager  \\\n",
       "0                    0.0                0.0                 0.0   \n",
       "1                    0.0                0.0                 0.0   \n",
       "2                    0.0                0.0                 0.0   \n",
       "3                    0.0                0.0                 0.0   \n",
       "4                    0.0                0.0                 1.0   \n",
       "\n",
       "   Occupation_Mechanic  Occupation_Musician  Occupation_Other  \\\n",
       "0                  0.0                  0.0               0.0   \n",
       "1                  0.0                  0.0               0.0   \n",
       "2                  0.0                  0.0               0.0   \n",
       "3                  0.0                  0.0               0.0   \n",
       "4                  0.0                  0.0               0.0   \n",
       "\n",
       "   Occupation_Scientist  Occupation_Teacher  Occupation_Writer  \n",
       "0                   0.0                 0.0                0.0  \n",
       "1                   0.0                 1.0                0.0  \n",
       "2                   0.0                 0.0                0.0  \n",
       "3                   1.0                 0.0                0.0  \n",
       "4                   0.0                 0.0                0.0  "
      ]
     },
     "execution_count": 251,
     "metadata": {},
     "output_type": "execute_result"
    }
   ],
   "source": [
    "X_train_credit_enc.head()"
   ]
  },
  {
   "cell_type": "code",
   "execution_count": null,
   "metadata": {
    "id": "zJFYPgM4LHf7"
   },
   "outputs": [],
   "source": [
    "# Combine the two dataframes for scaled and encoded \n",
    "# numerical and categorical features:\n",
    "\n",
    "X_train_credit_pre = pd.merge(X_train_credit_sc, X_train_credit_enc, left_index=True, \n",
    "                       right_index=True)\n",
    "\n",
    "X_test_credit_pre = pd.merge(X_test_credit_sc, X_test_credit_enc, left_index=True, \n",
    "                       right_index=True)\n",
    "\n",
    "# Encode multiclass output label:\n",
    "\n",
    "#le = preprocessing.LabelEncoder()\n",
    "#y_train_credit_enc = pd.DataFrame(le.fit(y_train_credit).transform(y_train_credit),\n",
    "#                              columns = list(y_train_credit))\n"
   ]
  },
  {
   "cell_type": "code",
   "execution_count": null,
   "metadata": {
    "id": "tao5CWeh6MkG"
   },
   "outputs": [],
   "source": [
    "#y_test_credit_enc = pd.DataFrame(le.fit(y_train_credit).transform(y_test_credit),\n",
    "#                              columns = list(y_test_credit))"
   ]
  },
  {
   "cell_type": "markdown",
   "metadata": {
    "id": "OZHFW4t83j5e"
   },
   "source": [
    "## Modeling"
   ]
  },
  {
   "cell_type": "markdown",
   "metadata": {
    "id": "myJQ72VTMG41"
   },
   "source": [
    "#### Balanced Perceptron model:"
   ]
  },
  {
   "cell_type": "code",
   "execution_count": null,
   "metadata": {
    "id": "5tifXi4o3hLY"
   },
   "outputs": [],
   "source": [
    "balanced_model = make_pipeline(Perceptron(class_weight='balanced'))\n",
    "unbalanced_model = make_pipeline(Perceptron())"
   ]
  },
  {
   "cell_type": "code",
   "execution_count": null,
   "metadata": {
    "colab": {
     "base_uri": "https://localhost:8080/"
    },
    "id": "ui9uFcoH4gaz",
    "outputId": "7b3ed140-f6e8-4ac6-ab28-9a3bba730a2b"
   },
   "outputs": [
    {
     "name": "stderr",
     "output_type": "stream",
     "text": [
      "/usr/local/lib/python3.7/dist-packages/sklearn/utils/validation.py:993: DataConversionWarning: A column-vector y was passed when a 1d array was expected. Please change the shape of y to (n_samples, ), for example using ravel().\n",
      "  y = column_or_1d(y, warn=True)\n"
     ]
    }
   ],
   "source": [
    "balanced_mod = balanced_model.fit(X_train_credit_pre, y_train_credit)\n",
    "balanced_mod_pred_train = balanced_mod.predict(X_train_credit_pre)\n",
    "balanced_mod_pred = balanced_mod.predict(X_test_credit_pre)"
   ]
  },
  {
   "cell_type": "code",
   "execution_count": null,
   "metadata": {
    "id": "0ki1qtnc4nRS"
   },
   "outputs": [],
   "source": [
    "cm_mod_train_bal = confusion_matrix(y_train_credit,\n",
    "                      balanced_mod_pred_train)\n",
    "\n",
    "cm_mod_test_bal = confusion_matrix(y_test_credit,\n",
    "                      balanced_mod_pred)"
   ]
  },
  {
   "cell_type": "code",
   "execution_count": null,
   "metadata": {
    "id": "wVHsWDyc4rRB"
   },
   "outputs": [],
   "source": [
    "labels_mod = ['Yes', 'No']\n",
    "\n",
    "train_results_bal = pd.DataFrame(cm_mod_train_bal, index = labels_mod, \n",
    "                                  columns = labels_mod)\n",
    "\n",
    "test_results_bal = pd.DataFrame(cm_mod_test_bal, index = labels_mod, \n",
    "                                  columns = labels_mod)"
   ]
  },
  {
   "cell_type": "code",
   "execution_count": null,
   "metadata": {
    "colab": {
     "base_uri": "https://localhost:8080/"
    },
    "id": "dgdvRDLA4ufR",
    "outputId": "1600e1bc-0743-47b7-ef81-f70e620a20a4"
   },
   "outputs": [
    {
     "name": "stdout",
     "output_type": "stream",
     "text": [
      "Train Data Confusion Matrix for Credit Data on Balanced Classifier\n",
      "      Yes    No\n",
      "Yes  5654  2926\n",
      "No    586  1452\n",
      "\n",
      "Train Accuracy for Credit Data on Balanced Classifier:\n",
      "\n",
      "\t\t\t\t 0.6692409116594462\n",
      "\n",
      "\n",
      "Test Data Confusion Matrix for Credit Data on Balanced Classifier\n",
      "     Yes   No\n",
      "Yes  618  336\n",
      "No    65  161\n",
      "\n",
      "Test Accuracy for Credit data on Balanced Classifier:\n",
      "\n",
      "\t\t\t\t 0.6601694915254237\n",
      "\n",
      "\n"
     ]
    }
   ],
   "source": [
    "print('Train Data Confusion Matrix for Credit Data on Balanced Classifier')\n",
    "print(train_results_bal)\n",
    "print('\\nTrain Accuracy for Credit Data on Balanced Classifier:\\n')\n",
    "print('\\t\\t\\t\\t', accuracy_score(y_train_credit, balanced_mod_pred_train))\n",
    "print('\\n')\n",
    "\n",
    "print('Test Data Confusion Matrix for Credit Data on Balanced Classifier')\n",
    "print(test_results_bal)\n",
    "print('\\nTest Accuracy for Credit data on Balanced Classifier:\\n')\n",
    "print('\\t\\t\\t\\t', accuracy_score(y_test_credit, balanced_mod_pred))\n",
    "print('\\n')"
   ]
  },
  {
   "cell_type": "code",
   "execution_count": null,
   "metadata": {
    "colab": {
     "base_uri": "https://localhost:8080/",
     "height": 502
    },
    "id": "vlOUKdVEymna",
    "outputId": "193318ea-46eb-4862-d5c2-993015dbf812"
   },
   "outputs": [
    {
     "data": {
      "image/png": "[encoded data removed]",
      "text/plain": [
       "<Figure size 1440x576 with 2 Axes>"
      ]
     },
     "metadata": {},
     "output_type": "display_data"
    }
   ],
   "source": [
    "#create a confusion matrix for display of the balanced perceptron \n",
    "confusion_matrix = metrics.confusion_matrix(y_test_credit,balanced_mod_pred)\n",
    "cm_display = metrics.ConfusionMatrixDisplay(confusion_matrix = confusion_matrix)\n",
    "cm_display.plot()\n",
    "plt.show()"
   ]
  },
  {
   "cell_type": "code",
   "execution_count": null,
   "metadata": {
    "colab": {
     "base_uri": "https://localhost:8080/"
    },
    "id": "uBbtT4Is4yao",
    "outputId": "3fde8866-961a-4f4e-fd64-329dfba44b04"
   },
   "outputs": [
    {
     "name": "stdout",
     "output_type": "stream",
     "text": [
      "\n",
      "Classification Report for Credit Data on Balanced Classifier:\n",
      "\n",
      "              precision    recall  f1-score   support\n",
      "\n",
      "          No       0.90      0.65      0.76       954\n",
      "         Yes       0.32      0.71      0.45       226\n",
      "\n",
      "    accuracy                           0.66      1180\n",
      "   macro avg       0.61      0.68      0.60      1180\n",
      "weighted avg       0.79      0.66      0.70      1180\n",
      "\n",
      "\n",
      "\n"
     ]
    }
   ],
   "source": [
    "print('\\nClassification Report for Credit Data on Balanced Classifier:\\n')\n",
    "print(classification_report(y_test_credit, balanced_mod_pred))\n",
    "print('\\n')"
   ]
  },
  {
   "cell_type": "markdown",
   "metadata": {
    "id": "FMgViAFhMD_c"
   },
   "source": [
    "#### Unbalanced Perceptron Model:"
   ]
  },
  {
   "cell_type": "code",
   "execution_count": null,
   "metadata": {
    "colab": {
     "base_uri": "https://localhost:8080/"
    },
    "id": "7xukc5ZrL-PO",
    "outputId": "a0f32d8f-f817-4359-bd89-b7f77d6a964f"
   },
   "outputs": [
    {
     "name": "stderr",
     "output_type": "stream",
     "text": [
      "/usr/local/lib/python3.7/dist-packages/sklearn/utils/validation.py:993: DataConversionWarning: A column-vector y was passed when a 1d array was expected. Please change the shape of y to (n_samples, ), for example using ravel().\n",
      "  y = column_or_1d(y, warn=True)\n"
     ]
    }
   ],
   "source": [
    "unbalanced_mod = unbalanced_model.fit(X_train_credit_pre, y_train_credit)\n",
    "unbalanced_mod_pred_train = unbalanced_mod.predict(X_train_credit_pre)\n",
    "unbalanced_mod_pred = unbalanced_mod.predict(X_test_credit_pre)"
   ]
  },
  {
   "cell_type": "code",
   "execution_count": null,
   "metadata": {
    "colab": {
     "base_uri": "https://localhost:8080/",
     "height": 201
    },
    "id": "a066A-PdMLY4",
    "outputId": "e2d0ad1b-31dc-4172-f21e-5d7e95ba0259"
   },
   "outputs": [
    {
     "ename": "TypeError",
     "evalue": "ignored",
     "output_type": "error",
     "traceback": [
      "\u001b[0;31m---------------------------------------------------------------------------\u001b[0m",
      "\u001b[0;31mTypeError\u001b[0m                                 Traceback (most recent call last)",
      "\u001b[0;32m<ipython-input-261-f68e707c74b1>\u001b[0m in \u001b[0;36m<module>\u001b[0;34m()\u001b[0m\n\u001b[0;32m----> 1\u001b[0;31m \u001b[0mcm_mod_train_unbal\u001b[0m \u001b[0;34m=\u001b[0m \u001b[0mconfusion_matrix\u001b[0m\u001b[0;34m(\u001b[0m\u001b[0my_train_credit\u001b[0m\u001b[0;34m,\u001b[0m \u001b[0munbalanced_mod_pred_train\u001b[0m\u001b[0;34m)\u001b[0m\u001b[0;34m\u001b[0m\u001b[0;34m\u001b[0m\u001b[0m\n\u001b[0m\u001b[1;32m      2\u001b[0m \u001b[0;34m\u001b[0m\u001b[0m\n\u001b[1;32m      3\u001b[0m \u001b[0mcm_mod_test_unbal\u001b[0m \u001b[0;34m=\u001b[0m \u001b[0mconfusion_matrix\u001b[0m\u001b[0;34m(\u001b[0m\u001b[0my_test_credit\u001b[0m\u001b[0;34m,\u001b[0m \u001b[0munbalanced_mod_pred\u001b[0m\u001b[0;34m)\u001b[0m\u001b[0;34m\u001b[0m\u001b[0;34m\u001b[0m\u001b[0m\n",
      "\u001b[0;31mTypeError\u001b[0m: 'numpy.ndarray' object is not callable"
     ]
    }
   ],
   "source": [
    "cm_mod_train_unbal = confusion_matrix(y_train_credit, unbalanced_mod_pred_train)\n",
    "\n",
    "cm_mod_test_unbal = confusion_matrix(y_test_credit, unbalanced_mod_pred)"
   ]
  },
  {
   "cell_type": "code",
   "execution_count": null,
   "metadata": {
    "colab": {
     "base_uri": "https://localhost:8080/",
     "height": 235
    },
    "id": "K3nQ1MDFMO41",
    "outputId": "40ae7887-3e0c-465b-fa4e-567388a84fee"
   },
   "outputs": [
    {
     "ename": "NameError",
     "evalue": "ignored",
     "output_type": "error",
     "traceback": [
      "\u001b[0;31m---------------------------------------------------------------------------\u001b[0m",
      "\u001b[0;31mNameError\u001b[0m                                 Traceback (most recent call last)",
      "\u001b[0;32m<ipython-input-262-53ae867126b7>\u001b[0m in \u001b[0;36m<module>\u001b[0;34m()\u001b[0m\n\u001b[0;32m----> 1\u001b[0;31m train_results_unbal = pd.DataFrame(cm_mod_train_unbal, index = labels_mod, \n\u001b[0m\u001b[1;32m      2\u001b[0m                                   columns = labels_mod)\n\u001b[1;32m      3\u001b[0m \u001b[0;34m\u001b[0m\u001b[0m\n\u001b[1;32m      4\u001b[0m test_results_unbal = pd.DataFrame(cm_mod_test_unbal, index = labels_mod, \n\u001b[1;32m      5\u001b[0m                                   columns = labels_mod)\n",
      "\u001b[0;31mNameError\u001b[0m: name 'cm_mod_train_unbal' is not defined"
     ]
    }
   ],
   "source": [
    "train_results_unbal = pd.DataFrame(cm_mod_train_unbal, index = labels_mod, \n",
    "                                  columns = labels_mod)\n",
    "\n",
    "test_results_unbal = pd.DataFrame(cm_mod_test_unbal, index = labels_mod, \n",
    "                                  columns = labels_mod)"
   ]
  },
  {
   "cell_type": "code",
   "execution_count": null,
   "metadata": {
    "colab": {
     "base_uri": "https://localhost:8080/",
     "height": 253
    },
    "id": "S5mry0EmMUnj",
    "outputId": "5641c4b3-5a2b-4926-d4a1-a6d564e1b3ff"
   },
   "outputs": [
    {
     "name": "stdout",
     "output_type": "stream",
     "text": [
      "Train Data Confusion Matrix for Credit Data on Unbalanced Classifier\n"
     ]
    },
    {
     "ename": "NameError",
     "evalue": "ignored",
     "output_type": "error",
     "traceback": [
      "\u001b[0;31m---------------------------------------------------------------------------\u001b[0m",
      "\u001b[0;31mNameError\u001b[0m                                 Traceback (most recent call last)",
      "\u001b[0;32m<ipython-input-263-b0bff36df132>\u001b[0m in \u001b[0;36m<module>\u001b[0;34m()\u001b[0m\n\u001b[1;32m      1\u001b[0m \u001b[0mprint\u001b[0m\u001b[0;34m(\u001b[0m\u001b[0;34m'Train Data Confusion Matrix for Credit Data on Unbalanced Classifier'\u001b[0m\u001b[0;34m)\u001b[0m\u001b[0;34m\u001b[0m\u001b[0;34m\u001b[0m\u001b[0m\n\u001b[0;32m----> 2\u001b[0;31m \u001b[0mprint\u001b[0m\u001b[0;34m(\u001b[0m\u001b[0mtrain_results_unbal\u001b[0m\u001b[0;34m)\u001b[0m\u001b[0;34m\u001b[0m\u001b[0;34m\u001b[0m\u001b[0m\n\u001b[0m\u001b[1;32m      3\u001b[0m \u001b[0mprint\u001b[0m\u001b[0;34m(\u001b[0m\u001b[0;34m'\\nTrain Accuracy for Credit Data on Unbalanced Classifier:\\n'\u001b[0m\u001b[0;34m)\u001b[0m\u001b[0;34m\u001b[0m\u001b[0;34m\u001b[0m\u001b[0m\n\u001b[1;32m      4\u001b[0m \u001b[0mprint\u001b[0m\u001b[0;34m(\u001b[0m\u001b[0;34m'\\t\\t\\t\\t'\u001b[0m\u001b[0;34m,\u001b[0m \u001b[0maccuracy_score\u001b[0m\u001b[0;34m(\u001b[0m\u001b[0my_train_credit\u001b[0m\u001b[0;34m,\u001b[0m \u001b[0munbalanced_mod_pred_train\u001b[0m\u001b[0;34m)\u001b[0m\u001b[0;34m)\u001b[0m\u001b[0;34m\u001b[0m\u001b[0;34m\u001b[0m\u001b[0m\n\u001b[1;32m      5\u001b[0m \u001b[0mprint\u001b[0m\u001b[0;34m(\u001b[0m\u001b[0;34m'\\n'\u001b[0m\u001b[0;34m)\u001b[0m\u001b[0;34m\u001b[0m\u001b[0;34m\u001b[0m\u001b[0m\n",
      "\u001b[0;31mNameError\u001b[0m: name 'train_results_unbal' is not defined"
     ]
    }
   ],
   "source": [
    "print('Train Data Confusion Matrix for Credit Data on Unbalanced Classifier')\n",
    "print(train_results_unbal)\n",
    "print('\\nTrain Accuracy for Credit Data on Unbalanced Classifier:\\n')\n",
    "print('\\t\\t\\t\\t', accuracy_score(y_train_credit, unbalanced_mod_pred_train))\n",
    "print('\\n')\n",
    "\n",
    "print('Test Data Confusion Matrix for Credit Data on Unbalanced Classifier')\n",
    "print(test_results_unbal)\n",
    "print('\\nTest Accuracy for Credit data on Unbalanced Classifier:\\n')\n",
    "print('\\t\\t\\t\\t', accuracy_score(y_test_credit, unbalanced_mod_pred))\n",
    "print('\\n')"
   ]
  },
  {
   "cell_type": "code",
   "execution_count": null,
   "metadata": {
    "colab": {
     "base_uri": "https://localhost:8080/"
    },
    "id": "tfQw3JutMd8c",
    "outputId": "19996db5-421a-46ae-adab-7ad831486ffd"
   },
   "outputs": [
    {
     "name": "stdout",
     "output_type": "stream",
     "text": [
      "\n",
      "Classification Report for Credit Data on Unbalanced Classifier:\n",
      "\n",
      "              precision    recall  f1-score   support\n",
      "\n",
      "          No       0.84      0.91      0.87       954\n",
      "         Yes       0.40      0.25      0.31       226\n",
      "\n",
      "    accuracy                           0.79      1180\n",
      "   macro avg       0.62      0.58      0.59      1180\n",
      "weighted avg       0.75      0.79      0.77      1180\n",
      "\n",
      "\n",
      "\n"
     ]
    }
   ],
   "source": [
    "print('\\nClassification Report for Credit Data on Unbalanced Classifier:\\n')\n",
    "print(classification_report(y_test_credit, unbalanced_mod_pred))\n",
    "print('\\n')"
   ]
  },
  {
   "cell_type": "markdown",
   "metadata": {
    "id": "de10GQ4TeWm0"
   },
   "source": [
    "#### Random forest model:"
   ]
  },
  {
   "cell_type": "code",
   "execution_count": null,
   "metadata": {
    "colab": {
     "base_uri": "https://localhost:8080/"
    },
    "id": "ou42gNXidY99",
    "outputId": "4ed251d7-a29e-4a39-f399-1d0a6dc4a9e9"
   },
   "outputs": [
    {
     "name": "stderr",
     "output_type": "stream",
     "text": [
      "/usr/local/lib/python3.7/dist-packages/ipykernel_launcher.py:6: DataConversionWarning: A column-vector y was passed when a 1d array was expected. Please change the shape of y to (n_samples,), for example using ravel().\n",
      "  \n"
     ]
    }
   ],
   "source": [
    "from sklearn.ensemble import RandomForestClassifier\n",
    "from sklearn.model_selection import RandomizedSearchCV\n",
    "\n",
    "# Initial model \n",
    "rf = RandomForestClassifier(n_estimators = 500, n_jobs = -1, random_state = 42)\n",
    "rf_model = rf.fit(X_train_credit_pre, y_train_credit)\n",
    "rf_train_pred = rf.predict(X_train_credit_pre)\n",
    "rf_test_pred = rf.predict(X_test_credit_pre)\n"
   ]
  },
  {
   "cell_type": "code",
   "execution_count": null,
   "metadata": {
    "colab": {
     "base_uri": "https://localhost:8080/",
     "height": 235
    },
    "id": "s9FNLUxShQ5a",
    "outputId": "b49f4fa2-8506-4d3c-f429-372ab12a5a1d"
   },
   "outputs": [
    {
     "ename": "TypeError",
     "evalue": "ignored",
     "output_type": "error",
     "traceback": [
      "\u001b[0;31m---------------------------------------------------------------------------\u001b[0m",
      "\u001b[0;31mTypeError\u001b[0m                                 Traceback (most recent call last)",
      "\u001b[0;32m<ipython-input-266-8eab94efe57c>\u001b[0m in \u001b[0;36m<module>\u001b[0;34m()\u001b[0m\n\u001b[1;32m      1\u001b[0m cm_mod_train_rf = confusion_matrix(y_train_credit,\n\u001b[0;32m----> 2\u001b[0;31m                       rf_train_pred)\n\u001b[0m\u001b[1;32m      3\u001b[0m \u001b[0;34m\u001b[0m\u001b[0m\n\u001b[1;32m      4\u001b[0m cm_mod_test_rf = confusion_matrix(y_test_credit,\n\u001b[1;32m      5\u001b[0m                       rf_test_pred)\n",
      "\u001b[0;31mTypeError\u001b[0m: 'numpy.ndarray' object is not callable"
     ]
    }
   ],
   "source": [
    "cm_mod_train_rf = confusion_matrix(y_train_credit,\n",
    "                      rf_train_pred)\n",
    "\n",
    "cm_mod_test_rf = confusion_matrix(y_test_credit,\n",
    "                      rf_test_pred)"
   ]
  },
  {
   "cell_type": "code",
   "execution_count": null,
   "metadata": {
    "colab": {
     "base_uri": "https://localhost:8080/",
     "height": 235
    },
    "id": "B7iwYz7AhTZm",
    "outputId": "07dc36c4-53ab-4ce5-a214-88d119880581"
   },
   "outputs": [
    {
     "ename": "NameError",
     "evalue": "ignored",
     "output_type": "error",
     "traceback": [
      "\u001b[0;31m---------------------------------------------------------------------------\u001b[0m",
      "\u001b[0;31mNameError\u001b[0m                                 Traceback (most recent call last)",
      "\u001b[0;32m<ipython-input-267-33c8fe05c732>\u001b[0m in \u001b[0;36m<module>\u001b[0;34m()\u001b[0m\n\u001b[0;32m----> 1\u001b[0;31m train_results_rf = pd.DataFrame(cm_mod_train_rf, index = labels_mod, \n\u001b[0m\u001b[1;32m      2\u001b[0m                                   columns = labels_mod)\n\u001b[1;32m      3\u001b[0m \u001b[0;34m\u001b[0m\u001b[0m\n\u001b[1;32m      4\u001b[0m test_results_rf = pd.DataFrame(cm_mod_test_rf, index = labels_mod, \n\u001b[1;32m      5\u001b[0m                                   columns = labels_mod)\n",
      "\u001b[0;31mNameError\u001b[0m: name 'cm_mod_train_rf' is not defined"
     ]
    }
   ],
   "source": [
    "train_results_rf = pd.DataFrame(cm_mod_train_rf, index = labels_mod, \n",
    "                                  columns = labels_mod)\n",
    "\n",
    "test_results_rf = pd.DataFrame(cm_mod_test_rf, index = labels_mod, \n",
    "                                  columns = labels_mod)"
   ]
  },
  {
   "cell_type": "code",
   "execution_count": null,
   "metadata": {
    "colab": {
     "base_uri": "https://localhost:8080/",
     "height": 253
    },
    "id": "QgtWfRYZhVuV",
    "outputId": "223735d8-f23c-49d7-d09e-f006568980f2"
   },
   "outputs": [
    {
     "name": "stdout",
     "output_type": "stream",
     "text": [
      "Train Data Confusion Matrix for Credit Data on RF Classifier\n"
     ]
    },
    {
     "ename": "NameError",
     "evalue": "ignored",
     "output_type": "error",
     "traceback": [
      "\u001b[0;31m---------------------------------------------------------------------------\u001b[0m",
      "\u001b[0;31mNameError\u001b[0m                                 Traceback (most recent call last)",
      "\u001b[0;32m<ipython-input-268-c6d3516e43bf>\u001b[0m in \u001b[0;36m<module>\u001b[0;34m()\u001b[0m\n\u001b[1;32m      1\u001b[0m \u001b[0mprint\u001b[0m\u001b[0;34m(\u001b[0m\u001b[0;34m'Train Data Confusion Matrix for Credit Data on RF Classifier'\u001b[0m\u001b[0;34m)\u001b[0m\u001b[0;34m\u001b[0m\u001b[0;34m\u001b[0m\u001b[0m\n\u001b[0;32m----> 2\u001b[0;31m \u001b[0mprint\u001b[0m\u001b[0;34m(\u001b[0m\u001b[0mtrain_results_rf\u001b[0m\u001b[0;34m)\u001b[0m\u001b[0;34m\u001b[0m\u001b[0;34m\u001b[0m\u001b[0m\n\u001b[0m\u001b[1;32m      3\u001b[0m \u001b[0mprint\u001b[0m\u001b[0;34m(\u001b[0m\u001b[0;34m'\\nTrain Accuracy for Credit Data on RF Classifier:\\n'\u001b[0m\u001b[0;34m)\u001b[0m\u001b[0;34m\u001b[0m\u001b[0;34m\u001b[0m\u001b[0m\n\u001b[1;32m      4\u001b[0m \u001b[0mprint\u001b[0m\u001b[0;34m(\u001b[0m\u001b[0;34m'\\t\\t\\t\\t'\u001b[0m\u001b[0;34m,\u001b[0m \u001b[0maccuracy_score\u001b[0m\u001b[0;34m(\u001b[0m\u001b[0my_train_credit\u001b[0m\u001b[0;34m,\u001b[0m \u001b[0mrf_train_pred\u001b[0m\u001b[0;34m)\u001b[0m\u001b[0;34m)\u001b[0m\u001b[0;34m\u001b[0m\u001b[0;34m\u001b[0m\u001b[0m\n\u001b[1;32m      5\u001b[0m \u001b[0mprint\u001b[0m\u001b[0;34m(\u001b[0m\u001b[0;34m'\\n'\u001b[0m\u001b[0;34m)\u001b[0m\u001b[0;34m\u001b[0m\u001b[0;34m\u001b[0m\u001b[0m\n",
      "\u001b[0;31mNameError\u001b[0m: name 'train_results_rf' is not defined"
     ]
    }
   ],
   "source": [
    "print('Train Data Confusion Matrix for Credit Data on RF Classifier')\n",
    "print(train_results_rf)\n",
    "print('\\nTrain Accuracy for Credit Data on RF Classifier:\\n')\n",
    "print('\\t\\t\\t\\t', accuracy_score(y_train_credit, rf_train_pred))\n",
    "print('\\n')\n",
    "\n",
    "print('Test Data Confusion Matrix for Credit Data on RF Classifier')\n",
    "print(test_results_rf)\n",
    "print('\\nTest Accuracy for Credit data on RF Classifier:\\n')\n",
    "print('\\t\\t\\t\\t', accuracy_score(y_test_credit, rf_test_pred))\n",
    "print('\\n')"
   ]
  },
  {
   "cell_type": "code",
   "execution_count": null,
   "metadata": {
    "colab": {
     "base_uri": "https://localhost:8080/"
    },
    "id": "eii8YDy9hYNu",
    "outputId": "365a3da2-37ba-4a81-a457-5dba9a449560"
   },
   "outputs": [
    {
     "name": "stdout",
     "output_type": "stream",
     "text": [
      "\n",
      "Classification Report for Credit Data on RF Classifier:\n",
      "\n",
      "              precision    recall  f1-score   support\n",
      "\n",
      "          No       0.84      0.98      0.90       954\n",
      "         Yes       0.71      0.19      0.29       226\n",
      "\n",
      "    accuracy                           0.83      1180\n",
      "   macro avg       0.77      0.58      0.60      1180\n",
      "weighted avg       0.81      0.83      0.79      1180\n",
      "\n",
      "\n",
      "\n"
     ]
    }
   ],
   "source": [
    "print('\\nClassification Report for Credit Data on RF Classifier:\\n')\n",
    "print(classification_report(y_test_credit, rf_test_pred))\n",
    "print('\\n')"
   ]
  },
  {
   "cell_type": "markdown",
   "metadata": {
    "id": "REzmxFKN3wHW"
   },
   "source": [
    "#### Decision Tree Classifier"
   ]
  },
  {
   "cell_type": "code",
   "execution_count": null,
   "metadata": {
    "colab": {
     "base_uri": "https://localhost:8080/"
    },
    "id": "SsG6pDYo3zOi",
    "outputId": "5ec9ed5d-722d-4746-8bd9-ad795a403bca"
   },
   "outputs": [
    {
     "name": "stdout",
     "output_type": "stream",
     "text": [
      "accuracy 0.73 \n"
     ]
    }
   ],
   "source": [
    "#put the from at top of data\n",
    "from sklearn.tree import DecisionTreeClassifier\n",
    "clf = DecisionTreeClassifier() \n",
    "clf_train = clf.fit(X_train_credit_pre, y_train_credit)  \n",
    "y_pred_dt = clf_train.predict(X_test_credit_pre)\n",
    "print('accuracy %2.2f ' % accuracy_score(y_test_credit,y_pred_dt))"
   ]
  },
  {
   "cell_type": "code",
   "execution_count": null,
   "metadata": {
    "id": "ADCkEasu4U_P"
   },
   "outputs": [],
   "source": [
    "from sklearn.metrics import confusion_matrix\n",
    "#cm_mod_train_dt = confusion_matrix(y_train_credit, clf_train)\n",
    "\n",
    "cm_mod_test_dt = confusion_matrix(y_test_credit,y_pred_dt)\n",
    "\n",
    "#labels_mod = ['Approve','Deny']\n",
    "\n",
    "#train_results_lr = pd.DataFrame(cm_mod_train_lr, index = labels_mod, \n",
    "#                                columns = labels_mod)\n",
    "\n",
    "test_results_dt = pd.DataFrame(cm_mod_test_dt, index = labels_mod, \n",
    "                                  columns = labels_mod)"
   ]
  },
  {
   "cell_type": "code",
   "execution_count": null,
   "metadata": {
    "colab": {
     "base_uri": "https://localhost:8080/",
     "height": 518
    },
    "id": "KCtkcNnk5bMy",
    "outputId": "3c32aa0d-a2f0-4a8f-c5b0-d9aa56726e4f"
   },
   "outputs": [
    {
     "data": {
      "image/png": "[encoded data removed]",
      "text/plain": [
       "<Figure size 1440x576 with 2 Axes>"
      ]
     },
     "metadata": {},
     "output_type": "display_data"
    }
   ],
   "source": [
    "#create a confusion matrix for display of the decision tree model \n",
    "confusion_matrix = metrics.confusion_matrix(y_test_credit,y_pred_dt)\n",
    "cm_display = metrics.ConfusionMatrixDisplay(confusion_matrix = confusion_matrix)\n",
    "cm_display.plot()\n",
    "plt.title(\"Decision Tree Confusion Matrix\")\n",
    "plt.show()"
   ]
  },
  {
   "cell_type": "code",
   "execution_count": null,
   "metadata": {
    "colab": {
     "base_uri": "https://localhost:8080/"
    },
    "id": "fm2m4Rl85k_1",
    "outputId": "d8b2227a-86c3-4510-db1e-c8068908a69b"
   },
   "outputs": [
    {
     "name": "stdout",
     "output_type": "stream",
     "text": [
      "Test Data Confusion Matrix for Credit Data on Decision Tree Classifier\n",
      "     Yes   No\n",
      "Yes  789  165\n",
      "No   148   78\n",
      "\n",
      "Test Accuracy for Credit data on Decision Tree Classifier:\n",
      "\n",
      "\t\t\t\t 0.7347457627118644\n",
      "\n",
      "\n"
     ]
    }
   ],
   "source": [
    "#print('Train Data Confusion Matrix for Credit Data on Balanced Classifier')\n",
    "#print(train_results_bal)\n",
    "#print('\\nTrain Accuracy for Credit Data on Balanced Classifier:\\n')\n",
    "#print('\\t\\t\\t\\t', accuracy_score(y_train_credit_enc, balanced_mod_pred_train))\n",
    "#print('\\n')\n",
    "\n",
    "print('Test Data Confusion Matrix for Credit Data on Decision Tree Classifier')\n",
    "print(test_results_dt)\n",
    "print('\\nTest Accuracy for Credit data on Decision Tree Classifier:\\n')\n",
    "print('\\t\\t\\t\\t', accuracy_score(y_test_credit, y_pred_dt))\n",
    "print('\\n')"
   ]
  },
  {
   "cell_type": "code",
   "execution_count": null,
   "metadata": {
    "colab": {
     "base_uri": "https://localhost:8080/"
    },
    "id": "JZ23NESG2lWc",
    "outputId": "096fbdf0-7957-49b6-9684-ac786f796043"
   },
   "outputs": [
    {
     "name": "stdout",
     "output_type": "stream",
     "text": [
      "\n",
      "Classification Report for Credit Data on Decision Tree Classifier:\n",
      "\n",
      "              precision    recall  f1-score   support\n",
      "\n",
      "          No       0.84      0.83      0.83       954\n",
      "         Yes       0.32      0.35      0.33       226\n",
      "\n",
      "    accuracy                           0.73      1180\n",
      "   macro avg       0.58      0.59      0.58      1180\n",
      "weighted avg       0.74      0.73      0.74      1180\n",
      "\n",
      "\n",
      "\n"
     ]
    }
   ],
   "source": [
    "print('\\nClassification Report for Credit Data on Decision Tree Classifier:\\n')\n",
    "print(classification_report(y_test_credit, y_pred_dt))\n",
    "print('\\n')"
   ]
  },
  {
   "cell_type": "markdown",
   "metadata": {
    "id": "S-d8fDG23j-P"
   },
   "source": [
    "#### KNN Model:"
   ]
  },
  {
   "cell_type": "markdown",
   "metadata": {
    "id": "TsWDcV3Q56El"
   },
   "source": [
    "##### Euclidean Distance"
   ]
  },
  {
   "cell_type": "code",
   "execution_count": null,
   "metadata": {
    "colab": {
     "base_uri": "https://localhost:8080/",
     "height": 730
    },
    "id": "zDmnGxIB3jCm",
    "outputId": "3191ffad-e9a8-427f-f9f8-61f2eb8d1f1a"
   },
   "outputs": [
    {
     "name": "stderr",
     "output_type": "stream",
     "text": [
      "/usr/local/lib/python3.7/dist-packages/sklearn/neighbors/_classification.py:198: DataConversionWarning: A column-vector y was passed when a 1d array was expected. Please change the shape of y to (n_samples,), for example using ravel().\n",
      "  return self._fit(X, y)\n",
      "/usr/local/lib/python3.7/dist-packages/sklearn/neighbors/_classification.py:198: DataConversionWarning: A column-vector y was passed when a 1d array was expected. Please change the shape of y to (n_samples,), for example using ravel().\n",
      "  return self._fit(X, y)\n",
      "/usr/local/lib/python3.7/dist-packages/sklearn/neighbors/_classification.py:198: DataConversionWarning: A column-vector y was passed when a 1d array was expected. Please change the shape of y to (n_samples,), for example using ravel().\n",
      "  return self._fit(X, y)\n",
      "/usr/local/lib/python3.7/dist-packages/sklearn/neighbors/_classification.py:198: DataConversionWarning: A column-vector y was passed when a 1d array was expected. Please change the shape of y to (n_samples,), for example using ravel().\n",
      "  return self._fit(X, y)\n",
      "/usr/local/lib/python3.7/dist-packages/sklearn/neighbors/_classification.py:198: DataConversionWarning: A column-vector y was passed when a 1d array was expected. Please change the shape of y to (n_samples,), for example using ravel().\n",
      "  return self._fit(X, y)\n",
      "/usr/local/lib/python3.7/dist-packages/sklearn/neighbors/_classification.py:198: DataConversionWarning: A column-vector y was passed when a 1d array was expected. Please change the shape of y to (n_samples,), for example using ravel().\n",
      "  return self._fit(X, y)\n",
      "/usr/local/lib/python3.7/dist-packages/sklearn/neighbors/_classification.py:198: DataConversionWarning: A column-vector y was passed when a 1d array was expected. Please change the shape of y to (n_samples,), for example using ravel().\n",
      "  return self._fit(X, y)\n",
      "/usr/local/lib/python3.7/dist-packages/sklearn/neighbors/_classification.py:198: DataConversionWarning: A column-vector y was passed when a 1d array was expected. Please change the shape of y to (n_samples,), for example using ravel().\n",
      "  return self._fit(X, y)\n",
      "/usr/local/lib/python3.7/dist-packages/sklearn/neighbors/_classification.py:198: DataConversionWarning: A column-vector y was passed when a 1d array was expected. Please change the shape of y to (n_samples,), for example using ravel().\n",
      "  return self._fit(X, y)\n",
      "/usr/local/lib/python3.7/dist-packages/sklearn/neighbors/_classification.py:198: DataConversionWarning: A column-vector y was passed when a 1d array was expected. Please change the shape of y to (n_samples,), for example using ravel().\n",
      "  return self._fit(X, y)\n"
     ]
    },
    {
     "data": {
      "text/html": [
       "\n",
       "  <div id=\"df-6311c001-db34-4965-9441-72682dea1d6c\">\n",
       "    <div class=\"colab-df-container\">\n",
       "      <div>\n",
       "<style scoped>\n",
       "    .dataframe tbody tr th:only-of-type {\n",
       "        vertical-align: middle;\n",
       "    }\n",
       "\n",
       "    .dataframe tbody tr th {\n",
       "        vertical-align: top;\n",
       "    }\n",
       "\n",
       "    .dataframe thead th {\n",
       "        text-align: right;\n",
       "    }\n",
       "</style>\n",
       "<table border=\"1\" class=\"dataframe\">\n",
       "  <thead>\n",
       "    <tr style=\"text-align: right;\">\n",
       "      <th></th>\n",
       "      <th>k values</th>\n",
       "      <th>Training Accuracy</th>\n",
       "      <th>Test Accuracy</th>\n",
       "    </tr>\n",
       "  </thead>\n",
       "  <tbody>\n",
       "    <tr>\n",
       "      <th>KNeighborsClassifier(metric='euclidean', n_neighbors=1)</th>\n",
       "      <td>1</td>\n",
       "      <td>1.000000</td>\n",
       "      <td>0.726271</td>\n",
       "    </tr>\n",
       "    <tr>\n",
       "      <th>KNeighborsClassifier(metric='euclidean', n_neighbors=3)</th>\n",
       "      <td>3</td>\n",
       "      <td>0.872104</td>\n",
       "      <td>0.755085</td>\n",
       "    </tr>\n",
       "    <tr>\n",
       "      <th>KNeighborsClassifier(metric='euclidean')</th>\n",
       "      <td>5</td>\n",
       "      <td>0.847429</td>\n",
       "      <td>0.771186</td>\n",
       "    </tr>\n",
       "    <tr>\n",
       "      <th>KNeighborsClassifier(metric='euclidean', n_neighbors=7)</th>\n",
       "      <td>7</td>\n",
       "      <td>0.838859</td>\n",
       "      <td>0.782203</td>\n",
       "    </tr>\n",
       "    <tr>\n",
       "      <th>KNeighborsClassifier(metric='euclidean', n_neighbors=9)</th>\n",
       "      <td>9</td>\n",
       "      <td>0.831230</td>\n",
       "      <td>0.787288</td>\n",
       "    </tr>\n",
       "    <tr>\n",
       "      <th>KNeighborsClassifier(metric='euclidean', n_neighbors=11)</th>\n",
       "      <td>11</td>\n",
       "      <td>0.828028</td>\n",
       "      <td>0.784746</td>\n",
       "    </tr>\n",
       "    <tr>\n",
       "      <th>KNeighborsClassifier(metric='euclidean', n_neighbors=13)</th>\n",
       "      <td>13</td>\n",
       "      <td>0.826521</td>\n",
       "      <td>0.789831</td>\n",
       "    </tr>\n",
       "    <tr>\n",
       "      <th>KNeighborsClassifier(metric='euclidean', n_neighbors=15)</th>\n",
       "      <td>15</td>\n",
       "      <td>0.825297</td>\n",
       "      <td>0.801695</td>\n",
       "    </tr>\n",
       "    <tr>\n",
       "      <th>KNeighborsClassifier(metric='euclidean', n_neighbors=17)</th>\n",
       "      <td>17</td>\n",
       "      <td>0.822565</td>\n",
       "      <td>0.800847</td>\n",
       "    </tr>\n",
       "    <tr>\n",
       "      <th>KNeighborsClassifier(metric='euclidean', n_neighbors=19)</th>\n",
       "      <td>19</td>\n",
       "      <td>0.819646</td>\n",
       "      <td>0.802542</td>\n",
       "    </tr>\n",
       "  </tbody>\n",
       "</table>\n",
       "</div>\n",
       "      <button class=\"colab-df-convert\" onclick=\"convertToInteractive('df-6311c001-db34-4965-9441-72682dea1d6c')\"\n",
       "              title=\"Convert this dataframe to an interactive table.\"\n",
       "              style=\"display:none;\">\n",
       "        \n",
       "  <svg xmlns=\"http://www.w3.org/2000/svg\" height=\"24px\"viewBox=\"0 0 24 24\"\n",
       "       width=\"24px\">\n",
       "    <path d=\"M0 0h24v24H0V0z\" fill=\"none\"/>\n",
       "    <path d=\"M18.56 5.44l.94 2.06.94-2.06 2.06-.94-2.06-.94-.94-2.06-.94 2.06-2.06.94zm-11 1L8.5 8.5l.94-2.06 2.06-.94-2.06-.94L8.5 2.5l-.94 2.06-2.06.94zm10 10l.94 2.06.94-2.06 2.06-.94-2.06-.94-.94-2.06-.94 2.06-2.06.94z\"/><path d=\"M17.41 7.96l-1.37-1.37c-.4-.4-.92-.59-1.43-.59-.52 0-1.04.2-1.43.59L10.3 9.45l-7.72 7.72c-.78.78-.78 2.05 0 2.83L4 21.41c.39.39.9.59 1.41.59.51 0 1.02-.2 1.41-.59l7.78-7.78 2.81-2.81c.8-.78.8-2.07 0-2.86zM5.41 20L4 18.59l7.72-7.72 1.47 1.35L5.41 20z\"/>\n",
       "  </svg>\n",
       "      </button>\n",
       "      \n",
       "  <style>\n",
       "    .colab-df-container {\n",
       "      display:flex;\n",
       "      flex-wrap:wrap;\n",
       "      gap: 12px;\n",
       "    }\n",
       "\n",
       "    .colab-df-convert {\n",
       "      background-color: #E8F0FE;\n",
       "      border: none;\n",
       "      border-radius: 50%;\n",
       "      cursor: pointer;\n",
       "      display: none;\n",
       "      fill: #1967D2;\n",
       "      height: 32px;\n",
       "      padding: 0 0 0 0;\n",
       "      width: 32px;\n",
       "    }\n",
       "\n",
       "    .colab-df-convert:hover {\n",
       "      background-color: #E2EBFA;\n",
       "      box-shadow: 0px 1px 2px rgba(60, 64, 67, 0.3), 0px 1px 3px 1px rgba(60, 64, 67, 0.15);\n",
       "      fill: #174EA6;\n",
       "    }\n",
       "\n",
       "    [theme=dark] .colab-df-convert {\n",
       "      background-color: #3B4455;\n",
       "      fill: #D2E3FC;\n",
       "    }\n",
       "\n",
       "    [theme=dark] .colab-df-convert:hover {\n",
       "      background-color: #434B5C;\n",
       "      box-shadow: 0px 1px 3px 1px rgba(0, 0, 0, 0.15);\n",
       "      filter: drop-shadow(0px 1px 2px rgba(0, 0, 0, 0.3));\n",
       "      fill: #FFFFFF;\n",
       "    }\n",
       "  </style>\n",
       "\n",
       "      <script>\n",
       "        const buttonEl =\n",
       "          document.querySelector('#df-6311c001-db34-4965-9441-72682dea1d6c button.colab-df-convert');\n",
       "        buttonEl.style.display =\n",
       "          google.colab.kernel.accessAllowed ? 'block' : 'none';\n",
       "\n",
       "        async function convertToInteractive(key) {\n",
       "          const element = document.querySelector('#df-6311c001-db34-4965-9441-72682dea1d6c');\n",
       "          const dataTable =\n",
       "            await google.colab.kernel.invokeFunction('convertToInteractive',\n",
       "                                                     [key], {});\n",
       "          if (!dataTable) return;\n",
       "\n",
       "          const docLinkHtml = 'Like what you see? Visit the ' +\n",
       "            '<a target=\"_blank\" href=https://colab.research.google.com/notebooks/data_table.ipynb>data table notebook</a>'\n",
       "            + ' to learn more about interactive tables.';\n",
       "          element.innerHTML = '';\n",
       "          dataTable['output_type'] = 'display_data';\n",
       "          await google.colab.output.renderOutput(dataTable, element);\n",
       "          const docLink = document.createElement('div');\n",
       "          docLink.innerHTML = docLinkHtml;\n",
       "          element.appendChild(docLink);\n",
       "        }\n",
       "      </script>\n",
       "    </div>\n",
       "  </div>\n",
       "  "
      ],
      "text/plain": [
       "                                                    k values  \\\n",
       "KNeighborsClassifier(metric='euclidean', n_neig...         1   \n",
       "KNeighborsClassifier(metric='euclidean', n_neig...         3   \n",
       "KNeighborsClassifier(metric='euclidean')                   5   \n",
       "KNeighborsClassifier(metric='euclidean', n_neig...         7   \n",
       "KNeighborsClassifier(metric='euclidean', n_neig...         9   \n",
       "KNeighborsClassifier(metric='euclidean', n_neig...        11   \n",
       "KNeighborsClassifier(metric='euclidean', n_neig...        13   \n",
       "KNeighborsClassifier(metric='euclidean', n_neig...        15   \n",
       "KNeighborsClassifier(metric='euclidean', n_neig...        17   \n",
       "KNeighborsClassifier(metric='euclidean', n_neig...        19   \n",
       "\n",
       "                                                    Training Accuracy  \\\n",
       "KNeighborsClassifier(metric='euclidean', n_neig...           1.000000   \n",
       "KNeighborsClassifier(metric='euclidean', n_neig...           0.872104   \n",
       "KNeighborsClassifier(metric='euclidean')                     0.847429   \n",
       "KNeighborsClassifier(metric='euclidean', n_neig...           0.838859   \n",
       "KNeighborsClassifier(metric='euclidean', n_neig...           0.831230   \n",
       "KNeighborsClassifier(metric='euclidean', n_neig...           0.828028   \n",
       "KNeighborsClassifier(metric='euclidean', n_neig...           0.826521   \n",
       "KNeighborsClassifier(metric='euclidean', n_neig...           0.825297   \n",
       "KNeighborsClassifier(metric='euclidean', n_neig...           0.822565   \n",
       "KNeighborsClassifier(metric='euclidean', n_neig...           0.819646   \n",
       "\n",
       "                                                    Test Accuracy  \n",
       "KNeighborsClassifier(metric='euclidean', n_neig...       0.726271  \n",
       "KNeighborsClassifier(metric='euclidean', n_neig...       0.755085  \n",
       "KNeighborsClassifier(metric='euclidean')                 0.771186  \n",
       "KNeighborsClassifier(metric='euclidean', n_neig...       0.782203  \n",
       "KNeighborsClassifier(metric='euclidean', n_neig...       0.787288  \n",
       "KNeighborsClassifier(metric='euclidean', n_neig...       0.784746  \n",
       "KNeighborsClassifier(metric='euclidean', n_neig...       0.789831  \n",
       "KNeighborsClassifier(metric='euclidean', n_neig...       0.801695  \n",
       "KNeighborsClassifier(metric='euclidean', n_neig...       0.800847  \n",
       "KNeighborsClassifier(metric='euclidean', n_neig...       0.802542  "
      ]
     },
     "execution_count": 280,
     "metadata": {},
     "output_type": "execute_result"
    }
   ],
   "source": [
    "from sklearn.neighbors import KNeighborsClassifier\n",
    "k_values = range(1,20,2)\n",
    "metric = \"euclidean\"\n",
    "knn_accuracy = []\n",
    "clfs =[]\n",
    "classification_report = []\n",
    "\n",
    "def k_neighbors(X_train_credit_pre, y_train_credit_enc, X_test_credit_pre, \n",
    "                y_test_credit_enc, kvalues, metric):\n",
    "  for i in kvalues:\n",
    "    clf = KNeighborsClassifier(metric=metric,p=2, n_neighbors=i).fit(X_train_credit_pre, \n",
    "                                                                     y_train_credit)\n",
    "    clf_train_pred = clf.predict(X_train_credit_pre)\n",
    "    clf_test_pred = clf.predict(X_test_credit_pre)\n",
    "    clfs.append(clf)\n",
    "    knn_accuracy.append({'k values': i,\n",
    "    'Training Accuracy':accuracy_score(clf_train_pred, y_train_credit_enc),\n",
    "    'Test Accuracy': accuracy_score(clf_test_pred, y_test_credit_enc)})\n",
    "\n",
    "  return pd.DataFrame(knn_accuracy,clfs)\n",
    "\n",
    "knn_df = k_neighbors(X_train_credit_pre, y_train_credit, X_test_credit_pre,\n",
    "                     y_test_credit, k_values, metric)\n",
    "knn_df"
   ]
  },
  {
   "cell_type": "code",
   "execution_count": null,
   "metadata": {
    "colab": {
     "base_uri": "https://localhost:8080/",
     "height": 518
    },
    "id": "fuSRXz4D5vkG",
    "outputId": "01348e7e-ad88-47fa-9f69-34a7bbfeaa8b"
   },
   "outputs": [
    {
     "data": {
      "image/png": "[encoded data removed]",
      "text/plain": [
       "<Figure size 1440x576 with 1 Axes>"
      ]
     },
     "metadata": {},
     "output_type": "display_data"
    }
   ],
   "source": [
    "plt.plot(knn_df['k values'], knn_df['Training Accuracy'], '--',linewidth=2, label='Training Accuracy')\n",
    "plt.plot(knn_df['k values'], knn_df['Test Accuracy'], '-_',linewidth=3, label='Test Accuracy')\n",
    "# Repeat the same plot as above but this time for test accutracy\n",
    "plt.xlabel('k Neighbors')\n",
    "plt.ylabel('Accuracy')\n",
    "plt.title('KNN Training & Test Accuracy - L2 Norm')\n",
    "plt.legend()\n",
    "plt.show()"
   ]
  },
  {
   "cell_type": "code",
   "execution_count": null,
   "metadata": {
    "colab": {
     "base_uri": "https://localhost:8080/"
    },
    "id": "DzYw2vUq6Yj7",
    "outputId": "9e302ab0-864e-4cd7-dda1-2b5f5303b9f9"
   },
   "outputs": [
    {
     "name": "stderr",
     "output_type": "stream",
     "text": [
      "/usr/local/lib/python3.7/dist-packages/sklearn/neighbors/_classification.py:198: DataConversionWarning: A column-vector y was passed when a 1d array was expected. Please change the shape of y to (n_samples,), for example using ravel().\n",
      "  return self._fit(X, y)\n",
      "/usr/local/lib/python3.7/dist-packages/sklearn/neighbors/_classification.py:198: DataConversionWarning: A column-vector y was passed when a 1d array was expected. Please change the shape of y to (n_samples,), for example using ravel().\n",
      "  return self._fit(X, y)\n"
     ]
    },
    {
     "name": "stdout",
     "output_type": "stream",
     "text": [
      "accuracy 0.80 \n"
     ]
    }
   ],
   "source": [
    "#return the results of the most accurate KNN model - Euclidean\n",
    "knn_accuracy = KNeighborsClassifier(metric=metric,p=2, n_neighbors=15).fit(X_train_credit_pre, \n",
    "                                                                     y_train_credit)\n",
    "knn_train = knn_accuracy.fit(X_train_credit_pre, y_train_credit)  \n",
    "y_pred_knn_euc = knn_train.predict(X_test_credit_pre)\n",
    "print('accuracy %2.2f ' % accuracy_score(y_test_credit,y_pred_knn_euc))"
   ]
  },
  {
   "cell_type": "code",
   "execution_count": null,
   "metadata": {
    "id": "zT4R97PS6i_Z"
   },
   "outputs": [],
   "source": [
    "#cm_mod_train_lr = confusion_matrix(y_train_credit_enc, clf_train)\n",
    "cm_mod_test_knn = confusion_matrix(y_test_credit,y_pred_knn_euc)\n",
    "labels_mod = ['Yes','No']\n",
    "#train_results_lr = pd.DataFrame(cm_mod_train_lr, index = labels_mod, \n",
    " #                                 columns = labels_mod)\n",
    "test_results_knn = pd.DataFrame(cm_mod_test_knn, index = labels_mod, \n",
    "                                  columns = labels_mod)"
   ]
  },
  {
   "cell_type": "code",
   "execution_count": null,
   "metadata": {
    "colab": {
     "base_uri": "https://localhost:8080/",
     "height": 502
    },
    "id": "OLxgK9O362Mz",
    "outputId": "1a6fcade-9f39-46aa-aa9d-d339c5bb57a5"
   },
   "outputs": [
    {
     "data": {
      "image/png": "[encoded data removed]",
      "text/plain": [
       "<Figure size 1440x576 with 2 Axes>"
      ]
     },
     "metadata": {},
     "output_type": "display_data"
    }
   ],
   "source": [
    "from sklearn import metrics\n",
    "confusion_matrix = metrics.confusion_matrix(y_test_credit,y_pred_knn)\n",
    "cm_display = metrics.ConfusionMatrixDisplay(confusion_matrix = confusion_matrix)\n",
    "cm_display.plot()\n",
    "plt.show()"
   ]
  },
  {
   "cell_type": "code",
   "execution_count": null,
   "metadata": {
    "colab": {
     "base_uri": "https://localhost:8080/"
    },
    "id": "jUfi1lbz3NBJ",
    "outputId": "a9689df9-d605-49c0-8fd5-eeeca6cb5c16"
   },
   "outputs": [
    {
     "name": "stdout",
     "output_type": "stream",
     "text": [
      "\n",
      "Classification Report for Credit Data on KNN - Euclidean Classifier:\n",
      "\n",
      "              precision    recall  f1-score   support\n",
      "\n",
      "          No       0.82      0.96      0.89       954\n",
      "         Yes       0.46      0.13      0.20       226\n",
      "\n",
      "    accuracy                           0.80      1180\n",
      "   macro avg       0.64      0.55      0.54      1180\n",
      "weighted avg       0.75      0.80      0.76      1180\n",
      "\n",
      "\n",
      "\n"
     ]
    }
   ],
   "source": [
    "from sklearn.metrics import confusion_matrix, accuracy_score, plot_confusion_matrix, classification_report\n",
    "print('\\nClassification Report for Credit Data on KNN - Euclidean Classifier:\\n')\n",
    "print(classification_report(y_test_credit, y_pred_knn_euc))\n",
    "print('\\n')"
   ]
  },
  {
   "cell_type": "markdown",
   "metadata": {
    "id": "12ek-Lvy5nIj"
   },
   "source": [
    "##### Manhattan Distance"
   ]
  },
  {
   "cell_type": "code",
   "execution_count": null,
   "metadata": {
    "colab": {
     "base_uri": "https://localhost:8080/",
     "height": 730
    },
    "id": "auu3-khF3p7Y",
    "outputId": "ab7df166-06d5-47bc-831c-ac21a0ca338c"
   },
   "outputs": [
    {
     "name": "stderr",
     "output_type": "stream",
     "text": [
      "/usr/local/lib/python3.7/dist-packages/sklearn/neighbors/_classification.py:198: DataConversionWarning: A column-vector y was passed when a 1d array was expected. Please change the shape of y to (n_samples,), for example using ravel().\n",
      "  return self._fit(X, y)\n",
      "/usr/local/lib/python3.7/dist-packages/sklearn/neighbors/_classification.py:198: DataConversionWarning: A column-vector y was passed when a 1d array was expected. Please change the shape of y to (n_samples,), for example using ravel().\n",
      "  return self._fit(X, y)\n",
      "/usr/local/lib/python3.7/dist-packages/sklearn/neighbors/_classification.py:198: DataConversionWarning: A column-vector y was passed when a 1d array was expected. Please change the shape of y to (n_samples,), for example using ravel().\n",
      "  return self._fit(X, y)\n",
      "/usr/local/lib/python3.7/dist-packages/sklearn/neighbors/_classification.py:198: DataConversionWarning: A column-vector y was passed when a 1d array was expected. Please change the shape of y to (n_samples,), for example using ravel().\n",
      "  return self._fit(X, y)\n",
      "/usr/local/lib/python3.7/dist-packages/sklearn/neighbors/_classification.py:198: DataConversionWarning: A column-vector y was passed when a 1d array was expected. Please change the shape of y to (n_samples,), for example using ravel().\n",
      "  return self._fit(X, y)\n",
      "/usr/local/lib/python3.7/dist-packages/sklearn/neighbors/_classification.py:198: DataConversionWarning: A column-vector y was passed when a 1d array was expected. Please change the shape of y to (n_samples,), for example using ravel().\n",
      "  return self._fit(X, y)\n",
      "/usr/local/lib/python3.7/dist-packages/sklearn/neighbors/_classification.py:198: DataConversionWarning: A column-vector y was passed when a 1d array was expected. Please change the shape of y to (n_samples,), for example using ravel().\n",
      "  return self._fit(X, y)\n",
      "/usr/local/lib/python3.7/dist-packages/sklearn/neighbors/_classification.py:198: DataConversionWarning: A column-vector y was passed when a 1d array was expected. Please change the shape of y to (n_samples,), for example using ravel().\n",
      "  return self._fit(X, y)\n",
      "/usr/local/lib/python3.7/dist-packages/sklearn/neighbors/_classification.py:198: DataConversionWarning: A column-vector y was passed when a 1d array was expected. Please change the shape of y to (n_samples,), for example using ravel().\n",
      "  return self._fit(X, y)\n",
      "/usr/local/lib/python3.7/dist-packages/sklearn/neighbors/_classification.py:198: DataConversionWarning: A column-vector y was passed when a 1d array was expected. Please change the shape of y to (n_samples,), for example using ravel().\n",
      "  return self._fit(X, y)\n"
     ]
    },
    {
     "data": {
      "text/html": [
       "\n",
       "  <div id=\"df-642ec6d1-91b4-4c3e-b5f6-dd3412f41901\">\n",
       "    <div class=\"colab-df-container\">\n",
       "      <div>\n",
       "<style scoped>\n",
       "    .dataframe tbody tr th:only-of-type {\n",
       "        vertical-align: middle;\n",
       "    }\n",
       "\n",
       "    .dataframe tbody tr th {\n",
       "        vertical-align: top;\n",
       "    }\n",
       "\n",
       "    .dataframe thead th {\n",
       "        text-align: right;\n",
       "    }\n",
       "</style>\n",
       "<table border=\"1\" class=\"dataframe\">\n",
       "  <thead>\n",
       "    <tr style=\"text-align: right;\">\n",
       "      <th></th>\n",
       "      <th>k values</th>\n",
       "      <th>Training Accuracy</th>\n",
       "      <th>Test Accuracy</th>\n",
       "    </tr>\n",
       "  </thead>\n",
       "  <tbody>\n",
       "    <tr>\n",
       "      <th>KNeighborsClassifier(metric='manhattan', n_neighbors=1)</th>\n",
       "      <td>1</td>\n",
       "      <td>1.000000</td>\n",
       "      <td>0.737288</td>\n",
       "    </tr>\n",
       "    <tr>\n",
       "      <th>KNeighborsClassifier(metric='manhattan', n_neighbors=3)</th>\n",
       "      <td>3</td>\n",
       "      <td>0.866642</td>\n",
       "      <td>0.770339</td>\n",
       "    </tr>\n",
       "    <tr>\n",
       "      <th>KNeighborsClassifier(metric='manhattan')</th>\n",
       "      <td>5</td>\n",
       "      <td>0.847429</td>\n",
       "      <td>0.781356</td>\n",
       "    </tr>\n",
       "    <tr>\n",
       "      <th>KNeighborsClassifier(metric='manhattan', n_neighbors=7)</th>\n",
       "      <td>7</td>\n",
       "      <td>0.839706</td>\n",
       "      <td>0.779661</td>\n",
       "    </tr>\n",
       "    <tr>\n",
       "      <th>KNeighborsClassifier(metric='manhattan', n_neighbors=9)</th>\n",
       "      <td>9</td>\n",
       "      <td>0.830382</td>\n",
       "      <td>0.800000</td>\n",
       "    </tr>\n",
       "    <tr>\n",
       "      <th>KNeighborsClassifier(metric='manhattan', n_neighbors=11)</th>\n",
       "      <td>11</td>\n",
       "      <td>0.828970</td>\n",
       "      <td>0.800847</td>\n",
       "    </tr>\n",
       "    <tr>\n",
       "      <th>KNeighborsClassifier(metric='manhattan', n_neighbors=13)</th>\n",
       "      <td>13</td>\n",
       "      <td>0.826333</td>\n",
       "      <td>0.805932</td>\n",
       "    </tr>\n",
       "    <tr>\n",
       "      <th>KNeighborsClassifier(metric='manhattan', n_neighbors=15)</th>\n",
       "      <td>15</td>\n",
       "      <td>0.822942</td>\n",
       "      <td>0.804237</td>\n",
       "    </tr>\n",
       "    <tr>\n",
       "      <th>KNeighborsClassifier(metric='manhattan', n_neighbors=17)</th>\n",
       "      <td>17</td>\n",
       "      <td>0.821529</td>\n",
       "      <td>0.813559</td>\n",
       "    </tr>\n",
       "    <tr>\n",
       "      <th>KNeighborsClassifier(metric='manhattan', n_neighbors=19)</th>\n",
       "      <td>19</td>\n",
       "      <td>0.821718</td>\n",
       "      <td>0.811017</td>\n",
       "    </tr>\n",
       "  </tbody>\n",
       "</table>\n",
       "</div>\n",
       "      <button class=\"colab-df-convert\" onclick=\"convertToInteractive('df-642ec6d1-91b4-4c3e-b5f6-dd3412f41901')\"\n",
       "              title=\"Convert this dataframe to an interactive table.\"\n",
       "              style=\"display:none;\">\n",
       "        \n",
       "  <svg xmlns=\"http://www.w3.org/2000/svg\" height=\"24px\"viewBox=\"0 0 24 24\"\n",
       "       width=\"24px\">\n",
       "    <path d=\"M0 0h24v24H0V0z\" fill=\"none\"/>\n",
       "    <path d=\"M18.56 5.44l.94 2.06.94-2.06 2.06-.94-2.06-.94-.94-2.06-.94 2.06-2.06.94zm-11 1L8.5 8.5l.94-2.06 2.06-.94-2.06-.94L8.5 2.5l-.94 2.06-2.06.94zm10 10l.94 2.06.94-2.06 2.06-.94-2.06-.94-.94-2.06-.94 2.06-2.06.94z\"/><path d=\"M17.41 7.96l-1.37-1.37c-.4-.4-.92-.59-1.43-.59-.52 0-1.04.2-1.43.59L10.3 9.45l-7.72 7.72c-.78.78-.78 2.05 0 2.83L4 21.41c.39.39.9.59 1.41.59.51 0 1.02-.2 1.41-.59l7.78-7.78 2.81-2.81c.8-.78.8-2.07 0-2.86zM5.41 20L4 18.59l7.72-7.72 1.47 1.35L5.41 20z\"/>\n",
       "  </svg>\n",
       "      </button>\n",
       "      \n",
       "  <style>\n",
       "    .colab-df-container {\n",
       "      display:flex;\n",
       "      flex-wrap:wrap;\n",
       "      gap: 12px;\n",
       "    }\n",
       "\n",
       "    .colab-df-convert {\n",
       "      background-color: #E8F0FE;\n",
       "      border: none;\n",
       "      border-radius: 50%;\n",
       "      cursor: pointer;\n",
       "      display: none;\n",
       "      fill: #1967D2;\n",
       "      height: 32px;\n",
       "      padding: 0 0 0 0;\n",
       "      width: 32px;\n",
       "    }\n",
       "\n",
       "    .colab-df-convert:hover {\n",
       "      background-color: #E2EBFA;\n",
       "      box-shadow: 0px 1px 2px rgba(60, 64, 67, 0.3), 0px 1px 3px 1px rgba(60, 64, 67, 0.15);\n",
       "      fill: #174EA6;\n",
       "    }\n",
       "\n",
       "    [theme=dark] .colab-df-convert {\n",
       "      background-color: #3B4455;\n",
       "      fill: #D2E3FC;\n",
       "    }\n",
       "\n",
       "    [theme=dark] .colab-df-convert:hover {\n",
       "      background-color: #434B5C;\n",
       "      box-shadow: 0px 1px 3px 1px rgba(0, 0, 0, 0.15);\n",
       "      filter: drop-shadow(0px 1px 2px rgba(0, 0, 0, 0.3));\n",
       "      fill: #FFFFFF;\n",
       "    }\n",
       "  </style>\n",
       "\n",
       "      <script>\n",
       "        const buttonEl =\n",
       "          document.querySelector('#df-642ec6d1-91b4-4c3e-b5f6-dd3412f41901 button.colab-df-convert');\n",
       "        buttonEl.style.display =\n",
       "          google.colab.kernel.accessAllowed ? 'block' : 'none';\n",
       "\n",
       "        async function convertToInteractive(key) {\n",
       "          const element = document.querySelector('#df-642ec6d1-91b4-4c3e-b5f6-dd3412f41901');\n",
       "          const dataTable =\n",
       "            await google.colab.kernel.invokeFunction('convertToInteractive',\n",
       "                                                     [key], {});\n",
       "          if (!dataTable) return;\n",
       "\n",
       "          const docLinkHtml = 'Like what you see? Visit the ' +\n",
       "            '<a target=\"_blank\" href=https://colab.research.google.com/notebooks/data_table.ipynb>data table notebook</a>'\n",
       "            + ' to learn more about interactive tables.';\n",
       "          element.innerHTML = '';\n",
       "          dataTable['output_type'] = 'display_data';\n",
       "          await google.colab.output.renderOutput(dataTable, element);\n",
       "          const docLink = document.createElement('div');\n",
       "          docLink.innerHTML = docLinkHtml;\n",
       "          element.appendChild(docLink);\n",
       "        }\n",
       "      </script>\n",
       "    </div>\n",
       "  </div>\n",
       "  "
      ],
      "text/plain": [
       "                                                    k values  \\\n",
       "KNeighborsClassifier(metric='manhattan', n_neig...         1   \n",
       "KNeighborsClassifier(metric='manhattan', n_neig...         3   \n",
       "KNeighborsClassifier(metric='manhattan')                   5   \n",
       "KNeighborsClassifier(metric='manhattan', n_neig...         7   \n",
       "KNeighborsClassifier(metric='manhattan', n_neig...         9   \n",
       "KNeighborsClassifier(metric='manhattan', n_neig...        11   \n",
       "KNeighborsClassifier(metric='manhattan', n_neig...        13   \n",
       "KNeighborsClassifier(metric='manhattan', n_neig...        15   \n",
       "KNeighborsClassifier(metric='manhattan', n_neig...        17   \n",
       "KNeighborsClassifier(metric='manhattan', n_neig...        19   \n",
       "\n",
       "                                                    Training Accuracy  \\\n",
       "KNeighborsClassifier(metric='manhattan', n_neig...           1.000000   \n",
       "KNeighborsClassifier(metric='manhattan', n_neig...           0.866642   \n",
       "KNeighborsClassifier(metric='manhattan')                     0.847429   \n",
       "KNeighborsClassifier(metric='manhattan', n_neig...           0.839706   \n",
       "KNeighborsClassifier(metric='manhattan', n_neig...           0.830382   \n",
       "KNeighborsClassifier(metric='manhattan', n_neig...           0.828970   \n",
       "KNeighborsClassifier(metric='manhattan', n_neig...           0.826333   \n",
       "KNeighborsClassifier(metric='manhattan', n_neig...           0.822942   \n",
       "KNeighborsClassifier(metric='manhattan', n_neig...           0.821529   \n",
       "KNeighborsClassifier(metric='manhattan', n_neig...           0.821718   \n",
       "\n",
       "                                                    Test Accuracy  \n",
       "KNeighborsClassifier(metric='manhattan', n_neig...       0.737288  \n",
       "KNeighborsClassifier(metric='manhattan', n_neig...       0.770339  \n",
       "KNeighborsClassifier(metric='manhattan')                 0.781356  \n",
       "KNeighborsClassifier(metric='manhattan', n_neig...       0.779661  \n",
       "KNeighborsClassifier(metric='manhattan', n_neig...       0.800000  \n",
       "KNeighborsClassifier(metric='manhattan', n_neig...       0.800847  \n",
       "KNeighborsClassifier(metric='manhattan', n_neig...       0.805932  \n",
       "KNeighborsClassifier(metric='manhattan', n_neig...       0.804237  \n",
       "KNeighborsClassifier(metric='manhattan', n_neig...       0.813559  \n",
       "KNeighborsClassifier(metric='manhattan', n_neig...       0.811017  "
      ]
     },
     "execution_count": 302,
     "metadata": {},
     "output_type": "execute_result"
    }
   ],
   "source": [
    "from sklearn.neighbors import KNeighborsClassifier\n",
    "k_values = range(1,20,2)\n",
    "metric = \"manhattan\"\n",
    "knn_accuracy = []\n",
    "clfs =[]\n",
    "\n",
    "def k_neighbors(X_train_credit_pre, y_train_credit, X_test_credit_pre, \n",
    "                y_test_credit, kvalues, metric):\n",
    "  for i in kvalues:\n",
    "    clf = KNeighborsClassifier(metric=metric,p=2, n_neighbors=i).fit(X_train_credit_pre, \n",
    "                                                                     y_train_credit)\n",
    "    clf_train_pred = clf.predict(X_train_credit_pre)\n",
    "    clf_test_pred = clf.predict(X_test_credit_pre)\n",
    "    clfs.append(clf)\n",
    "    knn_accuracy.append({'k values': i,\n",
    "    'Training Accuracy':accuracy_score(clf_train_pred, y_train_credit),\n",
    "    'Test Accuracy': accuracy_score(clf_test_pred, y_test_credit)})\n",
    "  return pd.DataFrame(knn_accuracy,clfs)\n",
    "\n",
    "knn_df_man = k_neighbors(X_train_credit_pre, y_train_credit, X_test_credit_pre,\n",
    "                     y_test_credit, k_values, metric)\n",
    "knn_df_man"
   ]
  },
  {
   "cell_type": "code",
   "execution_count": null,
   "metadata": {
    "colab": {
     "base_uri": "https://localhost:8080/",
     "height": 518
    },
    "id": "OoB4JoQF3_zl",
    "outputId": "30002bee-5f83-4aa1-e149-057167644f37"
   },
   "outputs": [
    {
     "data": {
      "image/png": "[encoded data removed]",
      "text/plain": [
       "<Figure size 1440x576 with 1 Axes>"
      ]
     },
     "metadata": {},
     "output_type": "display_data"
    }
   ],
   "source": [
    "plt.plot(knn_df_man['k values'], knn_df['Training Accuracy'], '--',linewidth=2, label='Training Accuracy')\n",
    "plt.plot(knn_df_man['k values'], knn_df['Test Accuracy'], '-_',linewidth=3, label='Test Accuracy')\n",
    "# Repeat the same plot as above but this time for test accutracy\n",
    "plt.xlabel('k Neighbors')\n",
    "plt.ylabel('Accuracy')\n",
    "plt.title('KNN Trainign & Test Accuracy - Manhattan')\n",
    "plt.legend()\n",
    "plt.show()"
   ]
  },
  {
   "cell_type": "code",
   "execution_count": null,
   "metadata": {
    "colab": {
     "base_uri": "https://localhost:8080/"
    },
    "id": "1ZisNMz96x1w",
    "outputId": "bd379282-d909-4cbf-d698-1e4a7572d12f"
   },
   "outputs": [
    {
     "name": "stderr",
     "output_type": "stream",
     "text": [
      "/usr/local/lib/python3.7/dist-packages/sklearn/neighbors/_classification.py:198: DataConversionWarning: A column-vector y was passed when a 1d array was expected. Please change the shape of y to (n_samples,), for example using ravel().\n",
      "  return self._fit(X, y)\n",
      "/usr/local/lib/python3.7/dist-packages/sklearn/neighbors/_classification.py:198: DataConversionWarning: A column-vector y was passed when a 1d array was expected. Please change the shape of y to (n_samples,), for example using ravel().\n",
      "  return self._fit(X, y)\n"
     ]
    },
    {
     "name": "stdout",
     "output_type": "stream",
     "text": [
      "accuracy 0.81 \n"
     ]
    }
   ],
   "source": [
    "#return the results of the most accurate KNN model\n",
    "knn_accuracy = KNeighborsClassifier(metric='manhattan',p=2, n_neighbors=17).fit(X_train_credit_pre, \n",
    "                                                                     y_train_credit)\n",
    "knn_train = knn_accuracy.fit(X_train_credit_pre, y_train_credit)  \n",
    "y_pred_knn_man = knn_train.predict(X_test_credit_pre)\n",
    "print('accuracy %2.2f ' % accuracy_score(y_test_credit,y_pred_knn_man))"
   ]
  },
  {
   "cell_type": "code",
   "execution_count": null,
   "metadata": {
    "id": "T95OM1yK6_ZK"
   },
   "outputs": [],
   "source": [
    "#cm_mod_train_lr = confusion_matrix(y_train_credit_enc, clf_train)\n",
    "cm_mod_test_knn_man = confusion_matrix(y_test_credit,y_pred_knn_man)\n",
    "labels_mod = ['Yes','No']\n",
    "#train_results_lr = pd.DataFrame(cm_mod_train_lr, index = labels_mod, \n",
    " #                                 columns = labels_mod)\n",
    "test_results_knn_man = pd.DataFrame(cm_mod_test_knn_man, index = labels_mod, \n",
    "                                  columns = labels_mod)"
   ]
  },
  {
   "cell_type": "code",
   "execution_count": null,
   "metadata": {
    "colab": {
     "base_uri": "https://localhost:8080/",
     "height": 518
    },
    "id": "6DMTTs5f7MEm",
    "outputId": "b7bf967d-d75f-4ae8-fa2b-4bbb06a86d1b"
   },
   "outputs": [
    {
     "data": {
      "image/png": "[encoded data removed]",
      "text/plain": [
       "<Figure size 1440x576 with 2 Axes>"
      ]
     },
     "metadata": {},
     "output_type": "display_data"
    }
   ],
   "source": [
    "from sklearn import metrics\n",
    "confusion_matrix = metrics.confusion_matrix(y_test_credit,y_pred_knn_man)\n",
    "cm_display = metrics.ConfusionMatrixDisplay(confusion_matrix = confusion_matrix)\n",
    "cm_display.plot()\n",
    "plt.title(\"KNN - Manhattan distnace Confusion Matrix\")\n",
    "plt.show()"
   ]
  },
  {
   "cell_type": "code",
   "execution_count": null,
   "metadata": {
    "colab": {
     "base_uri": "https://localhost:8080/"
    },
    "id": "7DidqxoX7fQO",
    "outputId": "b23be233-ff2d-42f8-fd64-ae7f795ddfc1"
   },
   "outputs": [
    {
     "name": "stdout",
     "output_type": "stream",
     "text": [
      "\n",
      "Classification Report for Credit Data on KNN - Manhattan Classifier:\n",
      "\n",
      "              precision    recall  f1-score   support\n",
      "\n",
      "          No       0.83      0.97      0.89       954\n",
      "         Yes       0.55      0.14      0.22       226\n",
      "\n",
      "    accuracy                           0.81      1180\n",
      "   macro avg       0.69      0.56      0.56      1180\n",
      "weighted avg       0.77      0.81      0.76      1180\n",
      "\n",
      "\n",
      "\n"
     ]
    }
   ],
   "source": [
    "from sklearn.metrics import confusion_matrix, accuracy_score, plot_confusion_matrix, classification_report\n",
    "print('\\nClassification Report for Credit Data on KNN - Manhattan Classifier:\\n')\n",
    "print(classification_report(y_test_credit, y_pred_knn_man))\n",
    "print('\\n')"
   ]
  },
  {
   "cell_type": "markdown",
   "metadata": {
    "id": "NeKjGiKl8vQL"
   },
   "source": [
    "#### SGGClassifier Model"
   ]
  },
  {
   "cell_type": "code",
   "execution_count": null,
   "metadata": {
    "colab": {
     "base_uri": "https://localhost:8080/"
    },
    "id": "VuPPky-z90WY",
    "outputId": "71489f2f-de48-4a96-bfe2-3386c881a873"
   },
   "outputs": [
    {
     "name": "stderr",
     "output_type": "stream",
     "text": [
      "/usr/local/lib/python3.7/dist-packages/sklearn/utils/validation.py:993: DataConversionWarning: A column-vector y was passed when a 1d array was expected. Please change the shape of y to (n_samples, ), for example using ravel().\n",
      "  y = column_or_1d(y, warn=True)\n",
      "/usr/local/lib/python3.7/dist-packages/sklearn/utils/validation.py:993: DataConversionWarning: A column-vector y was passed when a 1d array was expected. Please change the shape of y to (n_samples, ), for example using ravel().\n",
      "  y = column_or_1d(y, warn=True)\n",
      "/usr/local/lib/python3.7/dist-packages/sklearn/utils/validation.py:993: DataConversionWarning: A column-vector y was passed when a 1d array was expected. Please change the shape of y to (n_samples, ), for example using ravel().\n",
      "  y = column_or_1d(y, warn=True)\n",
      "/usr/local/lib/python3.7/dist-packages/sklearn/utils/validation.py:993: DataConversionWarning: A column-vector y was passed when a 1d array was expected. Please change the shape of y to (n_samples, ), for example using ravel().\n",
      "  y = column_or_1d(y, warn=True)\n",
      "/usr/local/lib/python3.7/dist-packages/sklearn/utils/validation.py:993: DataConversionWarning: A column-vector y was passed when a 1d array was expected. Please change the shape of y to (n_samples, ), for example using ravel().\n",
      "  y = column_or_1d(y, warn=True)\n",
      "/usr/local/lib/python3.7/dist-packages/sklearn/utils/validation.py:993: DataConversionWarning: A column-vector y was passed when a 1d array was expected. Please change the shape of y to (n_samples, ), for example using ravel().\n",
      "  y = column_or_1d(y, warn=True)\n",
      "/usr/local/lib/python3.7/dist-packages/sklearn/utils/validation.py:993: DataConversionWarning: A column-vector y was passed when a 1d array was expected. Please change the shape of y to (n_samples, ), for example using ravel().\n",
      "  y = column_or_1d(y, warn=True)\n",
      "/usr/local/lib/python3.7/dist-packages/sklearn/utils/validation.py:993: DataConversionWarning: A column-vector y was passed when a 1d array was expected. Please change the shape of y to (n_samples, ), for example using ravel().\n",
      "  y = column_or_1d(y, warn=True)\n",
      "/usr/local/lib/python3.7/dist-packages/sklearn/utils/validation.py:993: DataConversionWarning: A column-vector y was passed when a 1d array was expected. Please change the shape of y to (n_samples, ), for example using ravel().\n",
      "  y = column_or_1d(y, warn=True)\n",
      "/usr/local/lib/python3.7/dist-packages/sklearn/utils/validation.py:993: DataConversionWarning: A column-vector y was passed when a 1d array was expected. Please change the shape of y to (n_samples, ), for example using ravel().\n",
      "  y = column_or_1d(y, warn=True)\n",
      "/usr/local/lib/python3.7/dist-packages/sklearn/utils/validation.py:993: DataConversionWarning: A column-vector y was passed when a 1d array was expected. Please change the shape of y to (n_samples, ), for example using ravel().\n",
      "  y = column_or_1d(y, warn=True)\n",
      "/usr/local/lib/python3.7/dist-packages/sklearn/utils/validation.py:993: DataConversionWarning: A column-vector y was passed when a 1d array was expected. Please change the shape of y to (n_samples, ), for example using ravel().\n",
      "  y = column_or_1d(y, warn=True)\n",
      "/usr/local/lib/python3.7/dist-packages/sklearn/utils/validation.py:993: DataConversionWarning: A column-vector y was passed when a 1d array was expected. Please change the shape of y to (n_samples, ), for example using ravel().\n",
      "  y = column_or_1d(y, warn=True)\n",
      "/usr/local/lib/python3.7/dist-packages/sklearn/utils/validation.py:993: DataConversionWarning: A column-vector y was passed when a 1d array was expected. Please change the shape of y to (n_samples, ), for example using ravel().\n",
      "  y = column_or_1d(y, warn=True)\n",
      "/usr/local/lib/python3.7/dist-packages/sklearn/utils/validation.py:993: DataConversionWarning: A column-vector y was passed when a 1d array was expected. Please change the shape of y to (n_samples, ), for example using ravel().\n",
      "  y = column_or_1d(y, warn=True)\n",
      "/usr/local/lib/python3.7/dist-packages/sklearn/utils/validation.py:993: DataConversionWarning: A column-vector y was passed when a 1d array was expected. Please change the shape of y to (n_samples, ), for example using ravel().\n",
      "  y = column_or_1d(y, warn=True)\n",
      "/usr/local/lib/python3.7/dist-packages/sklearn/utils/validation.py:993: DataConversionWarning: A column-vector y was passed when a 1d array was expected. Please change the shape of y to (n_samples, ), for example using ravel().\n",
      "  y = column_or_1d(y, warn=True)\n",
      "/usr/local/lib/python3.7/dist-packages/sklearn/utils/validation.py:993: DataConversionWarning: A column-vector y was passed when a 1d array was expected. Please change the shape of y to (n_samples, ), for example using ravel().\n",
      "  y = column_or_1d(y, warn=True)\n"
     ]
    }
   ],
   "source": [
    "#loop to create the model \n",
    "from sklearn.linear_model import SGDClassifier\n",
    "\n",
    "loss_f = ['log', 'hinge', 'perceptron']\n",
    "scores_list = []\n",
    "avg_list = []\n",
    "\n",
    "for i, loss in enumerate(loss_f):\n",
    "  models = SGDClassifier(loss = loss).fit(X_train_credit_pre,y_train_credit)\n",
    "  cv = cross_val_score(models, X_train_credit_pre, y_train_credit, cv=5, scoring='accuracy')\n",
    "  scores_list.append({'Model': models, 'cv': cv})\n",
    "  avg_list.append({'Model': models, 'Avg CrossVal': cv.mean()})"
   ]
  },
  {
   "cell_type": "code",
   "execution_count": null,
   "metadata": {
    "colab": {
     "base_uri": "https://localhost:8080/",
     "height": 143
    },
    "id": "i2PKRw6q-lck",
    "outputId": "2434845c-96fe-428c-82ee-0995d9396be2"
   },
   "outputs": [
    {
     "data": {
      "text/html": [
       "\n",
       "  <div id=\"df-10119f8a-2cd5-4326-a965-9cb8add5aebd\">\n",
       "    <div class=\"colab-df-container\">\n",
       "      <div>\n",
       "<style scoped>\n",
       "    .dataframe tbody tr th:only-of-type {\n",
       "        vertical-align: middle;\n",
       "    }\n",
       "\n",
       "    .dataframe tbody tr th {\n",
       "        vertical-align: top;\n",
       "    }\n",
       "\n",
       "    .dataframe thead th {\n",
       "        text-align: right;\n",
       "    }\n",
       "</style>\n",
       "<table border=\"1\" class=\"dataframe\">\n",
       "  <thead>\n",
       "    <tr style=\"text-align: right;\">\n",
       "      <th></th>\n",
       "      <th>Model</th>\n",
       "      <th>Avg CrossVal</th>\n",
       "    </tr>\n",
       "  </thead>\n",
       "  <tbody>\n",
       "    <tr>\n",
       "      <th>0</th>\n",
       "      <td>SGDClassifier(loss='log')</td>\n",
       "      <td>0.803635</td>\n",
       "    </tr>\n",
       "    <tr>\n",
       "      <th>1</th>\n",
       "      <td>SGDClassifier()</td>\n",
       "      <td>0.804200</td>\n",
       "    </tr>\n",
       "    <tr>\n",
       "      <th>2</th>\n",
       "      <td>SGDClassifier(loss='perceptron')</td>\n",
       "      <td>0.710775</td>\n",
       "    </tr>\n",
       "  </tbody>\n",
       "</table>\n",
       "</div>\n",
       "      <button class=\"colab-df-convert\" onclick=\"convertToInteractive('df-10119f8a-2cd5-4326-a965-9cb8add5aebd')\"\n",
       "              title=\"Convert this dataframe to an interactive table.\"\n",
       "              style=\"display:none;\">\n",
       "        \n",
       "  <svg xmlns=\"http://www.w3.org/2000/svg\" height=\"24px\"viewBox=\"0 0 24 24\"\n",
       "       width=\"24px\">\n",
       "    <path d=\"M0 0h24v24H0V0z\" fill=\"none\"/>\n",
       "    <path d=\"M18.56 5.44l.94 2.06.94-2.06 2.06-.94-2.06-.94-.94-2.06-.94 2.06-2.06.94zm-11 1L8.5 8.5l.94-2.06 2.06-.94-2.06-.94L8.5 2.5l-.94 2.06-2.06.94zm10 10l.94 2.06.94-2.06 2.06-.94-2.06-.94-.94-2.06-.94 2.06-2.06.94z\"/><path d=\"M17.41 7.96l-1.37-1.37c-.4-.4-.92-.59-1.43-.59-.52 0-1.04.2-1.43.59L10.3 9.45l-7.72 7.72c-.78.78-.78 2.05 0 2.83L4 21.41c.39.39.9.59 1.41.59.51 0 1.02-.2 1.41-.59l7.78-7.78 2.81-2.81c.8-.78.8-2.07 0-2.86zM5.41 20L4 18.59l7.72-7.72 1.47 1.35L5.41 20z\"/>\n",
       "  </svg>\n",
       "      </button>\n",
       "      \n",
       "  <style>\n",
       "    .colab-df-container {\n",
       "      display:flex;\n",
       "      flex-wrap:wrap;\n",
       "      gap: 12px;\n",
       "    }\n",
       "\n",
       "    .colab-df-convert {\n",
       "      background-color: #E8F0FE;\n",
       "      border: none;\n",
       "      border-radius: 50%;\n",
       "      cursor: pointer;\n",
       "      display: none;\n",
       "      fill: #1967D2;\n",
       "      height: 32px;\n",
       "      padding: 0 0 0 0;\n",
       "      width: 32px;\n",
       "    }\n",
       "\n",
       "    .colab-df-convert:hover {\n",
       "      background-color: #E2EBFA;\n",
       "      box-shadow: 0px 1px 2px rgba(60, 64, 67, 0.3), 0px 1px 3px 1px rgba(60, 64, 67, 0.15);\n",
       "      fill: #174EA6;\n",
       "    }\n",
       "\n",
       "    [theme=dark] .colab-df-convert {\n",
       "      background-color: #3B4455;\n",
       "      fill: #D2E3FC;\n",
       "    }\n",
       "\n",
       "    [theme=dark] .colab-df-convert:hover {\n",
       "      background-color: #434B5C;\n",
       "      box-shadow: 0px 1px 3px 1px rgba(0, 0, 0, 0.15);\n",
       "      filter: drop-shadow(0px 1px 2px rgba(0, 0, 0, 0.3));\n",
       "      fill: #FFFFFF;\n",
       "    }\n",
       "  </style>\n",
       "\n",
       "      <script>\n",
       "        const buttonEl =\n",
       "          document.querySelector('#df-10119f8a-2cd5-4326-a965-9cb8add5aebd button.colab-df-convert');\n",
       "        buttonEl.style.display =\n",
       "          google.colab.kernel.accessAllowed ? 'block' : 'none';\n",
       "\n",
       "        async function convertToInteractive(key) {\n",
       "          const element = document.querySelector('#df-10119f8a-2cd5-4326-a965-9cb8add5aebd');\n",
       "          const dataTable =\n",
       "            await google.colab.kernel.invokeFunction('convertToInteractive',\n",
       "                                                     [key], {});\n",
       "          if (!dataTable) return;\n",
       "\n",
       "          const docLinkHtml = 'Like what you see? Visit the ' +\n",
       "            '<a target=\"_blank\" href=https://colab.research.google.com/notebooks/data_table.ipynb>data table notebook</a>'\n",
       "            + ' to learn more about interactive tables.';\n",
       "          element.innerHTML = '';\n",
       "          dataTable['output_type'] = 'display_data';\n",
       "          await google.colab.output.renderOutput(dataTable, element);\n",
       "          const docLink = document.createElement('div');\n",
       "          docLink.innerHTML = docLinkHtml;\n",
       "          element.appendChild(docLink);\n",
       "        }\n",
       "      </script>\n",
       "    </div>\n",
       "  </div>\n",
       "  "
      ],
      "text/plain": [
       "                              Model  Avg CrossVal\n",
       "0         SGDClassifier(loss='log')      0.803635\n",
       "1                   SGDClassifier()      0.804200\n",
       "2  SGDClassifier(loss='perceptron')      0.710775"
      ]
     },
     "execution_count": 316,
     "metadata": {},
     "output_type": "execute_result"
    }
   ],
   "source": [
    "pd.DataFrame(avg_list)"
   ]
  },
  {
   "cell_type": "code",
   "execution_count": null,
   "metadata": {
    "colab": {
     "base_uri": "https://localhost:8080/"
    },
    "id": "CgMv02bp8uU1",
    "outputId": "7c9ac055-1451-4f84-d0d0-2926a0b81064"
   },
   "outputs": [
    {
     "name": "stderr",
     "output_type": "stream",
     "text": [
      "/usr/local/lib/python3.7/dist-packages/sklearn/utils/validation.py:993: DataConversionWarning: A column-vector y was passed when a 1d array was expected. Please change the shape of y to (n_samples, ), for example using ravel().\n",
      "  y = column_or_1d(y, warn=True)\n"
     ]
    },
    {
     "name": "stdout",
     "output_type": "stream",
     "text": [
      "Finished training, alpha=0.000010\n",
      "Finished 5-fold CV, alpha=0.000010\n",
      "Finished training, alpha=0.000100\n"
     ]
    },
    {
     "name": "stderr",
     "output_type": "stream",
     "text": [
      "/usr/local/lib/python3.7/dist-packages/sklearn/utils/validation.py:993: DataConversionWarning: A column-vector y was passed when a 1d array was expected. Please change the shape of y to (n_samples, ), for example using ravel().\n",
      "  y = column_or_1d(y, warn=True)\n"
     ]
    },
    {
     "name": "stdout",
     "output_type": "stream",
     "text": [
      "Finished 5-fold CV, alpha=0.000100\n",
      "Finished training, alpha=0.001000\n"
     ]
    },
    {
     "name": "stderr",
     "output_type": "stream",
     "text": [
      "/usr/local/lib/python3.7/dist-packages/sklearn/utils/validation.py:993: DataConversionWarning: A column-vector y was passed when a 1d array was expected. Please change the shape of y to (n_samples, ), for example using ravel().\n",
      "  y = column_or_1d(y, warn=True)\n"
     ]
    },
    {
     "name": "stdout",
     "output_type": "stream",
     "text": [
      "Finished 5-fold CV, alpha=0.001000\n"
     ]
    },
    {
     "name": "stderr",
     "output_type": "stream",
     "text": [
      "/usr/local/lib/python3.7/dist-packages/sklearn/utils/validation.py:993: DataConversionWarning: A column-vector y was passed when a 1d array was expected. Please change the shape of y to (n_samples, ), for example using ravel().\n",
      "  y = column_or_1d(y, warn=True)\n"
     ]
    },
    {
     "name": "stdout",
     "output_type": "stream",
     "text": [
      "Finished training, alpha=0.010000\n",
      "Finished 5-fold CV, alpha=0.010000\n",
      "Finished training, alpha=0.100000\n"
     ]
    },
    {
     "name": "stderr",
     "output_type": "stream",
     "text": [
      "/usr/local/lib/python3.7/dist-packages/sklearn/utils/validation.py:993: DataConversionWarning: A column-vector y was passed when a 1d array was expected. Please change the shape of y to (n_samples, ), for example using ravel().\n",
      "  y = column_or_1d(y, warn=True)\n"
     ]
    },
    {
     "name": "stdout",
     "output_type": "stream",
     "text": [
      "Finished 5-fold CV, alpha=0.100000\n",
      "Finished training, alpha=1.000000\n"
     ]
    },
    {
     "name": "stderr",
     "output_type": "stream",
     "text": [
      "/usr/local/lib/python3.7/dist-packages/sklearn/utils/validation.py:993: DataConversionWarning: A column-vector y was passed when a 1d array was expected. Please change the shape of y to (n_samples, ), for example using ravel().\n",
      "  y = column_or_1d(y, warn=True)\n"
     ]
    },
    {
     "name": "stdout",
     "output_type": "stream",
     "text": [
      "Finished 5-fold CV, alpha=1.000000\n",
      "Finished training, alpha=10.000000\n"
     ]
    },
    {
     "name": "stderr",
     "output_type": "stream",
     "text": [
      "/usr/local/lib/python3.7/dist-packages/sklearn/utils/validation.py:993: DataConversionWarning: A column-vector y was passed when a 1d array was expected. Please change the shape of y to (n_samples, ), for example using ravel().\n",
      "  y = column_or_1d(y, warn=True)\n"
     ]
    },
    {
     "name": "stdout",
     "output_type": "stream",
     "text": [
      "Finished 5-fold CV, alpha=10.000000\n",
      "Finished training, alpha=100.000000\n"
     ]
    },
    {
     "name": "stderr",
     "output_type": "stream",
     "text": [
      "/usr/local/lib/python3.7/dist-packages/sklearn/utils/validation.py:993: DataConversionWarning: A column-vector y was passed when a 1d array was expected. Please change the shape of y to (n_samples, ), for example using ravel().\n",
      "  y = column_or_1d(y, warn=True)\n"
     ]
    },
    {
     "name": "stdout",
     "output_type": "stream",
     "text": [
      "Finished 5-fold CV, alpha=100.000000\n",
      "Finished training, alpha=1000.000000\n"
     ]
    },
    {
     "name": "stderr",
     "output_type": "stream",
     "text": [
      "/usr/local/lib/python3.7/dist-packages/sklearn/utils/validation.py:993: DataConversionWarning: A column-vector y was passed when a 1d array was expected. Please change the shape of y to (n_samples, ), for example using ravel().\n",
      "  y = column_or_1d(y, warn=True)\n"
     ]
    },
    {
     "name": "stdout",
     "output_type": "stream",
     "text": [
      "Finished 5-fold CV, alpha=1000.000000\n"
     ]
    }
   ],
   "source": [
    "from sklearn.linear_model import SGDClassifier\n",
    "\n",
    "alphas = [0.00001, 0.0001, 0.001, 0.01, 0.1, 1, 10, 100, 1000]\n",
    "results = []\n",
    "for a in alphas:\n",
    "  l1clf = SGDClassifier(loss ='log', penalty= 'l1', alpha = a).fit(X_train_credit_pre,y_train_credit)\n",
    "  print('Finished training, alpha=%f' % a)\n",
    "  l1cv = cross_val_score(l1clf, X_train_credit_pre, y_train_credit, scoring = 'accuracy', cv = 5, n_jobs=5)\n",
    "  #Create cross_val_score with l1clf for Xtrain and  ytrain with cv=5 'accuracy' as scoring='accuracy' it is good to define n_jobs to make it faster and compute the mean at the end\n",
    "  print('Finished 5-fold CV, alpha=%f' % a)\n",
    "  results.append({'alpha': a, 'log L1': l1cv.mean()})\n",
    "  results # append 'alpha' and 'log L1'\n",
    "l1_acc = pd.DataFrame(results)"
   ]
  },
  {
   "cell_type": "code",
   "execution_count": null,
   "metadata": {
    "colab": {
     "base_uri": "https://localhost:8080/",
     "height": 332
    },
    "id": "LMs-l7Y39de2",
    "outputId": "9cef9c83-18a9-4767-e517-a73c4ce6c0e0"
   },
   "outputs": [
    {
     "data": {
      "text/html": [
       "\n",
       "  <div id=\"df-e23b4337-ac6d-46a2-8eb5-ebd71bfd3625\">\n",
       "    <div class=\"colab-df-container\">\n",
       "      <div>\n",
       "<style scoped>\n",
       "    .dataframe tbody tr th:only-of-type {\n",
       "        vertical-align: middle;\n",
       "    }\n",
       "\n",
       "    .dataframe tbody tr th {\n",
       "        vertical-align: top;\n",
       "    }\n",
       "\n",
       "    .dataframe thead th {\n",
       "        text-align: right;\n",
       "    }\n",
       "</style>\n",
       "<table border=\"1\" class=\"dataframe\">\n",
       "  <thead>\n",
       "    <tr style=\"text-align: right;\">\n",
       "      <th></th>\n",
       "      <th>alpha</th>\n",
       "      <th>log L1</th>\n",
       "    </tr>\n",
       "  </thead>\n",
       "  <tbody>\n",
       "    <tr>\n",
       "      <th>0</th>\n",
       "      <td>0.00001</td>\n",
       "      <td>0.806179</td>\n",
       "    </tr>\n",
       "    <tr>\n",
       "      <th>1</th>\n",
       "      <td>0.00010</td>\n",
       "      <td>0.802223</td>\n",
       "    </tr>\n",
       "    <tr>\n",
       "      <th>2</th>\n",
       "      <td>0.00100</td>\n",
       "      <td>0.809004</td>\n",
       "    </tr>\n",
       "    <tr>\n",
       "      <th>3</th>\n",
       "      <td>0.01000</td>\n",
       "      <td>0.809192</td>\n",
       "    </tr>\n",
       "    <tr>\n",
       "      <th>4</th>\n",
       "      <td>0.10000</td>\n",
       "      <td>0.808062</td>\n",
       "    </tr>\n",
       "    <tr>\n",
       "      <th>5</th>\n",
       "      <td>1.00000</td>\n",
       "      <td>0.808062</td>\n",
       "    </tr>\n",
       "    <tr>\n",
       "      <th>6</th>\n",
       "      <td>10.00000</td>\n",
       "      <td>0.808062</td>\n",
       "    </tr>\n",
       "    <tr>\n",
       "      <th>7</th>\n",
       "      <td>100.00000</td>\n",
       "      <td>0.808062</td>\n",
       "    </tr>\n",
       "    <tr>\n",
       "      <th>8</th>\n",
       "      <td>1000.00000</td>\n",
       "      <td>0.561430</td>\n",
       "    </tr>\n",
       "  </tbody>\n",
       "</table>\n",
       "</div>\n",
       "      <button class=\"colab-df-convert\" onclick=\"convertToInteractive('df-e23b4337-ac6d-46a2-8eb5-ebd71bfd3625')\"\n",
       "              title=\"Convert this dataframe to an interactive table.\"\n",
       "              style=\"display:none;\">\n",
       "        \n",
       "  <svg xmlns=\"http://www.w3.org/2000/svg\" height=\"24px\"viewBox=\"0 0 24 24\"\n",
       "       width=\"24px\">\n",
       "    <path d=\"M0 0h24v24H0V0z\" fill=\"none\"/>\n",
       "    <path d=\"M18.56 5.44l.94 2.06.94-2.06 2.06-.94-2.06-.94-.94-2.06-.94 2.06-2.06.94zm-11 1L8.5 8.5l.94-2.06 2.06-.94-2.06-.94L8.5 2.5l-.94 2.06-2.06.94zm10 10l.94 2.06.94-2.06 2.06-.94-2.06-.94-.94-2.06-.94 2.06-2.06.94z\"/><path d=\"M17.41 7.96l-1.37-1.37c-.4-.4-.92-.59-1.43-.59-.52 0-1.04.2-1.43.59L10.3 9.45l-7.72 7.72c-.78.78-.78 2.05 0 2.83L4 21.41c.39.39.9.59 1.41.59.51 0 1.02-.2 1.41-.59l7.78-7.78 2.81-2.81c.8-.78.8-2.07 0-2.86zM5.41 20L4 18.59l7.72-7.72 1.47 1.35L5.41 20z\"/>\n",
       "  </svg>\n",
       "      </button>\n",
       "      \n",
       "  <style>\n",
       "    .colab-df-container {\n",
       "      display:flex;\n",
       "      flex-wrap:wrap;\n",
       "      gap: 12px;\n",
       "    }\n",
       "\n",
       "    .colab-df-convert {\n",
       "      background-color: #E8F0FE;\n",
       "      border: none;\n",
       "      border-radius: 50%;\n",
       "      cursor: pointer;\n",
       "      display: none;\n",
       "      fill: #1967D2;\n",
       "      height: 32px;\n",
       "      padding: 0 0 0 0;\n",
       "      width: 32px;\n",
       "    }\n",
       "\n",
       "    .colab-df-convert:hover {\n",
       "      background-color: #E2EBFA;\n",
       "      box-shadow: 0px 1px 2px rgba(60, 64, 67, 0.3), 0px 1px 3px 1px rgba(60, 64, 67, 0.15);\n",
       "      fill: #174EA6;\n",
       "    }\n",
       "\n",
       "    [theme=dark] .colab-df-convert {\n",
       "      background-color: #3B4455;\n",
       "      fill: #D2E3FC;\n",
       "    }\n",
       "\n",
       "    [theme=dark] .colab-df-convert:hover {\n",
       "      background-color: #434B5C;\n",
       "      box-shadow: 0px 1px 3px 1px rgba(0, 0, 0, 0.15);\n",
       "      filter: drop-shadow(0px 1px 2px rgba(0, 0, 0, 0.3));\n",
       "      fill: #FFFFFF;\n",
       "    }\n",
       "  </style>\n",
       "\n",
       "      <script>\n",
       "        const buttonEl =\n",
       "          document.querySelector('#df-e23b4337-ac6d-46a2-8eb5-ebd71bfd3625 button.colab-df-convert');\n",
       "        buttonEl.style.display =\n",
       "          google.colab.kernel.accessAllowed ? 'block' : 'none';\n",
       "\n",
       "        async function convertToInteractive(key) {\n",
       "          const element = document.querySelector('#df-e23b4337-ac6d-46a2-8eb5-ebd71bfd3625');\n",
       "          const dataTable =\n",
       "            await google.colab.kernel.invokeFunction('convertToInteractive',\n",
       "                                                     [key], {});\n",
       "          if (!dataTable) return;\n",
       "\n",
       "          const docLinkHtml = 'Like what you see? Visit the ' +\n",
       "            '<a target=\"_blank\" href=https://colab.research.google.com/notebooks/data_table.ipynb>data table notebook</a>'\n",
       "            + ' to learn more about interactive tables.';\n",
       "          element.innerHTML = '';\n",
       "          dataTable['output_type'] = 'display_data';\n",
       "          await google.colab.output.renderOutput(dataTable, element);\n",
       "          const docLink = document.createElement('div');\n",
       "          docLink.innerHTML = docLinkHtml;\n",
       "          element.appendChild(docLink);\n",
       "        }\n",
       "      </script>\n",
       "    </div>\n",
       "  </div>\n",
       "  "
      ],
      "text/plain": [
       "        alpha    log L1\n",
       "0     0.00001  0.806179\n",
       "1     0.00010  0.802223\n",
       "2     0.00100  0.809004\n",
       "3     0.01000  0.809192\n",
       "4     0.10000  0.808062\n",
       "5     1.00000  0.808062\n",
       "6    10.00000  0.808062\n",
       "7   100.00000  0.808062\n",
       "8  1000.00000  0.561430"
      ]
     },
     "execution_count": 339,
     "metadata": {},
     "output_type": "execute_result"
    }
   ],
   "source": [
    "l1_acc"
   ]
  },
  {
   "cell_type": "code",
   "execution_count": null,
   "metadata": {
    "colab": {
     "base_uri": "https://localhost:8080/"
    },
    "id": "HdK80dul9e8-",
    "outputId": "6d4e951e-df50-4e3d-cce4-50a7539e38ad"
   },
   "outputs": [
    {
     "name": "stdout",
     "output_type": "stream",
     "text": [
      "accuracy 0.82 \n"
     ]
    },
    {
     "name": "stderr",
     "output_type": "stream",
     "text": [
      "/usr/local/lib/python3.7/dist-packages/sklearn/utils/validation.py:993: DataConversionWarning: A column-vector y was passed when a 1d array was expected. Please change the shape of y to (n_samples, ), for example using ravel().\n",
      "  y = column_or_1d(y, warn=True)\n"
     ]
    }
   ],
   "source": [
    "#use the best Stochastic Gradient Descent classifier to build specific model\n",
    "sgcd = SGDClassifier(loss ='log', penalty= 'l1', alpha = 0.001).fit(X_train_credit_pre,y_train_credit)\n",
    "sgcd_pred = sgcd.predict(X_test_credit_pre)\n",
    "print('accuracy %2.2f ' % accuracy_score(y_test_credit,sgcd_pred))"
   ]
  },
  {
   "cell_type": "code",
   "execution_count": null,
   "metadata": {
    "id": "MQSfpv-K_7x2"
   },
   "outputs": [],
   "source": [
    "cm_mod_test_sgcd = confusion_matrix(y_test_credit, sgcd_pred)\n",
    "\n",
    "test_results_sgcd = pd.DataFrame(cm_mod_test_sgcd, index = labels_mod, \n",
    "                                  columns = labels_mod)"
   ]
  },
  {
   "cell_type": "code",
   "execution_count": null,
   "metadata": {
    "colab": {
     "base_uri": "https://localhost:8080/",
     "height": 518
    },
    "id": "9VTM_o9uAwML",
    "outputId": "3ec33d67-9b42-4023-e0c2-00afe1edcf11"
   },
   "outputs": [
    {
     "data": {
      "image/png": "[encoded data removed]",
      "text/plain": [
       "<Figure size 1440x576 with 2 Axes>"
      ]
     },
     "metadata": {},
     "output_type": "display_data"
    }
   ],
   "source": [
    "from sklearn import metrics\n",
    "confusion_matrix = metrics.confusion_matrix(y_test_credit,sgcd_pred)\n",
    "cm_display = metrics.ConfusionMatrixDisplay(confusion_matrix = confusion_matrix)\n",
    "cm_display.plot()\n",
    "plt.title(\"SGDClassifier Log Loss L1 Regularization Confusion Matrix\")\n",
    "plt.show()"
   ]
  },
  {
   "cell_type": "code",
   "execution_count": null,
   "metadata": {
    "colab": {
     "base_uri": "https://localhost:8080/"
    },
    "id": "emKYU97mBp1w",
    "outputId": "1aa25293-a5a0-4fd4-afc9-2e554e14197e"
   },
   "outputs": [
    {
     "name": "stdout",
     "output_type": "stream",
     "text": [
      "\n",
      "Classification Report for Credit Data on SGDClassifier - Log Loss - L1:\n",
      "\n",
      "              precision    recall  f1-score   support\n",
      "\n",
      "          No       0.83      0.97      0.90       954\n",
      "         Yes       0.59      0.17      0.27       226\n",
      "\n",
      "    accuracy                           0.82      1180\n",
      "   macro avg       0.71      0.57      0.58      1180\n",
      "weighted avg       0.79      0.82      0.78      1180\n",
      "\n",
      "\n",
      "\n"
     ]
    }
   ],
   "source": [
    "from sklearn.metrics import confusion_matrix, accuracy_score, plot_confusion_matrix, classification_report\n",
    "print('\\nClassification Report for Credit Data on SGDClassifier - Log Loss - L1:\\n')\n",
    "print(classification_report(y_test_credit, sgcd_pred))\n",
    "print('\\n')"
   ]
  },
  {
   "cell_type": "markdown",
   "metadata": {
    "id": "I1PywqJJDG_l"
   },
   "source": [
    "### Performance Metrics and Modeling Results"
   ]
  },
  {
   "cell_type": "code",
   "execution_count": null,
   "metadata": {
    "colab": {
     "base_uri": "https://localhost:8080/"
    },
    "id": "tKQE87RzDJMl",
    "outputId": "0a49a4f1-bbdc-4a3d-fe5d-f65af81ff9f4"
   },
   "outputs": [
    {
     "name": "stdout",
     "output_type": "stream",
     "text": [
      "\n",
      "Classification Report for Credit Data on Balanced Classifier:\n",
      "\n",
      "              precision    recall  f1-score   support\n",
      "\n",
      "          No       0.90      0.65      0.76       954\n",
      "         Yes       0.32      0.71      0.45       226\n",
      "\n",
      "    accuracy                           0.66      1180\n",
      "   macro avg       0.61      0.68      0.60      1180\n",
      "weighted avg       0.79      0.66      0.70      1180\n",
      "\n",
      "\n",
      "\n"
     ]
    }
   ],
   "source": [
    "print('\\nClassification Report for Credit Data on Balanced Classifier:\\n')\n",
    "print(classification_report(y_test_credit, balanced_mod_pred))\n",
    "print('\\n')"
   ]
  },
  {
   "cell_type": "code",
   "execution_count": null,
   "metadata": {
    "colab": {
     "base_uri": "https://localhost:8080/"
    },
    "id": "4PQDlGfsDiny",
    "outputId": "d477a81c-7652-4588-84a9-1017df238b4f"
   },
   "outputs": [
    {
     "name": "stdout",
     "output_type": "stream",
     "text": [
      "\n",
      "Classification Report for Credit Data on Unbalanced Classifier:\n",
      "\n",
      "              precision    recall  f1-score   support\n",
      "\n",
      "          No       0.84      0.91      0.87       954\n",
      "         Yes       0.40      0.25      0.31       226\n",
      "\n",
      "    accuracy                           0.79      1180\n",
      "   macro avg       0.62      0.58      0.59      1180\n",
      "weighted avg       0.75      0.79      0.77      1180\n",
      "\n",
      "\n",
      "\n"
     ]
    }
   ],
   "source": [
    "print('\\nClassification Report for Credit Data on Unbalanced Classifier:\\n')\n",
    "print(classification_report(y_test_credit, unbalanced_mod_pred))\n",
    "print('\\n')"
   ]
  },
  {
   "cell_type": "code",
   "execution_count": null,
   "metadata": {
    "colab": {
     "base_uri": "https://localhost:8080/"
    },
    "id": "TtRa_a-ODpP_",
    "outputId": "c75b57be-228d-46be-a624-96a1d191c189"
   },
   "outputs": [
    {
     "name": "stdout",
     "output_type": "stream",
     "text": [
      "\n",
      "Classification Report for Credit Data on RF Classifier:\n",
      "\n",
      "              precision    recall  f1-score   support\n",
      "\n",
      "          No       0.84      0.98      0.90       954\n",
      "         Yes       0.71      0.19      0.29       226\n",
      "\n",
      "    accuracy                           0.83      1180\n",
      "   macro avg       0.77      0.58      0.60      1180\n",
      "weighted avg       0.81      0.83      0.79      1180\n",
      "\n",
      "\n",
      "\n"
     ]
    }
   ],
   "source": [
    "print('\\nClassification Report for Credit Data on RF Classifier:\\n')\n",
    "print(classification_report(y_test_credit, rf_test_pred))\n",
    "print('\\n')"
   ]
  },
  {
   "cell_type": "code",
   "execution_count": null,
   "metadata": {
    "colab": {
     "base_uri": "https://localhost:8080/"
    },
    "id": "VYvG8mkdDukn",
    "outputId": "f0171518-f33c-47b2-d435-20132e05d14a"
   },
   "outputs": [
    {
     "name": "stdout",
     "output_type": "stream",
     "text": [
      "\n",
      "Classification Report for Credit Data on Decision Tree Classifier:\n",
      "\n",
      "              precision    recall  f1-score   support\n",
      "\n",
      "          No       0.84      0.83      0.83       954\n",
      "         Yes       0.32      0.35      0.33       226\n",
      "\n",
      "    accuracy                           0.73      1180\n",
      "   macro avg       0.58      0.59      0.58      1180\n",
      "weighted avg       0.74      0.73      0.74      1180\n",
      "\n",
      "\n",
      "\n"
     ]
    }
   ],
   "source": [
    "print('\\nClassification Report for Credit Data on Decision Tree Classifier:\\n')\n",
    "print(classification_report(y_test_credit, y_pred_dt))\n",
    "print('\\n')"
   ]
  },
  {
   "cell_type": "code",
   "execution_count": null,
   "metadata": {
    "colab": {
     "base_uri": "https://localhost:8080/"
    },
    "id": "Psn1CLGgD5Vq",
    "outputId": "235096ae-e91b-480d-af1e-da7fe096e2a1"
   },
   "outputs": [
    {
     "name": "stdout",
     "output_type": "stream",
     "text": [
      "\n",
      "Classification Report for Credit Data on KNN - Euclidean Classifier:\n",
      "\n",
      "              precision    recall  f1-score   support\n",
      "\n",
      "          No       0.82      0.96      0.89       954\n",
      "         Yes       0.46      0.13      0.20       226\n",
      "\n",
      "    accuracy                           0.80      1180\n",
      "   macro avg       0.64      0.55      0.54      1180\n",
      "weighted avg       0.75      0.80      0.76      1180\n",
      "\n",
      "\n",
      "\n"
     ]
    }
   ],
   "source": [
    "print('\\nClassification Report for Credit Data on KNN - Euclidean Classifier:\\n')\n",
    "print(classification_report(y_test_credit, y_pred_knn_euc))\n",
    "print('\\n')"
   ]
  },
  {
   "cell_type": "code",
   "execution_count": null,
   "metadata": {
    "colab": {
     "base_uri": "https://localhost:8080/"
    },
    "id": "YBwNMn4pD7RH",
    "outputId": "c17642ae-a310-420e-9910-df52c0656cce"
   },
   "outputs": [
    {
     "name": "stdout",
     "output_type": "stream",
     "text": [
      "\n",
      "Classification Report for Credit Data on KNN - Manhattan Classifier:\n",
      "\n",
      "              precision    recall  f1-score   support\n",
      "\n",
      "          No       0.83      0.97      0.89       954\n",
      "         Yes       0.55      0.14      0.22       226\n",
      "\n",
      "    accuracy                           0.81      1180\n",
      "   macro avg       0.69      0.56      0.56      1180\n",
      "weighted avg       0.77      0.81      0.76      1180\n",
      "\n",
      "\n",
      "\n"
     ]
    }
   ],
   "source": [
    "from sklearn.metrics import confusion_matrix, accuracy_score, plot_confusion_matrix, classification_report\n",
    "print('\\nClassification Report for Credit Data on KNN - Manhattan Classifier:\\n')\n",
    "print(classification_report(y_test_credit, y_pred_knn_man))\n",
    "print('\\n')"
   ]
  },
  {
   "cell_type": "code",
   "execution_count": null,
   "metadata": {
    "colab": {
     "base_uri": "https://localhost:8080/"
    },
    "id": "Ox5x6tw6EJUV",
    "outputId": "7b67e0d0-fe77-4740-d649-9a90215e8dc9"
   },
   "outputs": [
    {
     "name": "stdout",
     "output_type": "stream",
     "text": [
      "\n",
      "Classification Report for Credit Data on SGDClassifier - Log Loss - L1:\n",
      "\n",
      "              precision    recall  f1-score   support\n",
      "\n",
      "          No       0.83      0.97      0.90       954\n",
      "         Yes       0.59      0.17      0.27       226\n",
      "\n",
      "    accuracy                           0.82      1180\n",
      "   macro avg       0.71      0.57      0.58      1180\n",
      "weighted avg       0.79      0.82      0.78      1180\n",
      "\n",
      "\n",
      "\n"
     ]
    }
   ],
   "source": [
    "from sklearn.metrics import confusion_matrix, accuracy_score, plot_confusion_matrix, classification_report\n",
    "print('\\nClassification Report for Credit Data on SGDClassifier - Log Loss - L1:\\n')\n",
    "print(classification_report(y_test_credit, sgcd_pred))\n",
    "print('\\n')"
   ]
  },
  {
   "cell_type": "markdown",
   "metadata": {
    "id": "M26tR3OqETP9"
   },
   "source": [
    "We want to maximize precision of \"Yes\", however, want to do so by limiting the amount of false positives - as we do not want to tell people they are pre-approved and then have them denied. \n"
   ]
  },
  {
   "cell_type": "code",
   "execution_count": null,
   "metadata": {
    "id": "Z_TR2jfSEfmN"
   },
   "outputs": [],
   "source": []
  }
 ],
 "metadata": {
  "colab": {
   "provenance": [],
   "toc_visible": true
  },
  "kernelspec": {
   "display_name": "Python 3",
   "language": "python",
   "name": "python3"
  },
  "language_info": {
   "codemirror_mode": {
    "name": "ipython",
    "version": 3
   },
   "file_extension": ".py",
   "mimetype": "text/x-python",
   "name": "python",
   "nbconvert_exporter": "python",
   "pygments_lexer": "ipython3",
   "version": "3.8.8"
  }
 },
 "nbformat": 4,
 "nbformat_minor": 1
}
